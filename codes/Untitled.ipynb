{
 "cells": [
  {
   "cell_type": "code",
   "execution_count": 1,
   "metadata": {},
   "outputs": [
    {
     "name": "stderr",
     "output_type": "stream",
     "text": [
      "Using Theano backend.\n"
     ]
    }
   ],
   "source": [
    "import numpy as np\n",
    "from keras.layers import Input, Dense\n",
    "from keras.models import Model"
   ]
  },
  {
   "cell_type": "code",
   "execution_count": 2,
   "metadata": {
    "collapsed": true
   },
   "outputs": [],
   "source": [
    "import theano"
   ]
  },
  {
   "cell_type": "code",
   "execution_count": 3,
   "metadata": {
    "collapsed": true
   },
   "outputs": [],
   "source": [
    "# this is the size of our encoded representations\n",
    "encoding_dim = 32  # 32 floats -> compression of factor 24.5, assuming the input is 784 floats\n",
    "\n",
    "# this is our input placeholder\n",
    "input_img = Input(shape=(784,))"
   ]
  },
  {
   "cell_type": "code",
   "execution_count": 4,
   "metadata": {},
   "outputs": [
    {
     "data": {
      "text/plain": [
       "theano.tensor.var.TensorVariable"
      ]
     },
     "execution_count": 4,
     "metadata": {},
     "output_type": "execute_result"
    }
   ],
   "source": [
    "type(input_img)"
   ]
  },
  {
   "cell_type": "code",
   "execution_count": 5,
   "metadata": {},
   "outputs": [
    {
     "data": {
      "text/plain": [
       "/input_1"
      ]
     },
     "execution_count": 5,
     "metadata": {},
     "output_type": "execute_result"
    }
   ],
   "source": [
    "input_img"
   ]
  },
  {
   "cell_type": "code",
   "execution_count": 6,
   "metadata": {
    "collapsed": true
   },
   "outputs": [],
   "source": [
    "encoded = Dense(encoding_dim, activation='relu')(input_img)\n",
    "decoded = Dense(784, activation='sigmoid')(encoded) # You can use softmax also \n",
    "\n",
    "# this model maps an input to its reconstruction\n",
    "autoencoder = Model(input_img, decoded)"
   ]
  },
  {
   "cell_type": "code",
   "execution_count": 7,
   "metadata": {
    "collapsed": true
   },
   "outputs": [],
   "source": [
    "encoder = Model(input_img, encoded)"
   ]
  },
  {
   "cell_type": "code",
   "execution_count": 8,
   "metadata": {
    "collapsed": true
   },
   "outputs": [],
   "source": [
    "# create a placeholder for an encoded (32-dimensional) input\n",
    "encoded_input = Input(shape=(encoding_dim,))\n",
    "# retrieve the last layer of the autoencoder model\n",
    "decoder_layer = autoencoder.layers[-1]\n",
    "# create the decoder model\n",
    "decoder = Model(encoded_input, decoder_layer(encoded_input))"
   ]
  },
  {
   "cell_type": "code",
   "execution_count": 30,
   "metadata": {},
   "outputs": [
    {
     "data": {
      "text/plain": [
       "{'batch_input_shape': (None, 32),\n",
       " 'dtype': 'float32',\n",
       " 'name': 'input_2',\n",
       " 'sparse': False}"
      ]
     },
     "execution_count": 30,
     "metadata": {},
     "output_type": "execute_result"
    }
   ],
   "source": [
    "decoder.layers[0].get_config()"
   ]
  },
  {
   "cell_type": "code",
   "execution_count": 20,
   "metadata": {},
   "outputs": [
    {
     "data": {
      "text/plain": [
       "{'batch_input_shape': (None, 784),\n",
       " 'dtype': 'float32',\n",
       " 'name': 'input_1',\n",
       " 'sparse': False}"
      ]
     },
     "execution_count": 20,
     "metadata": {},
     "output_type": "execute_result"
    }
   ],
   "source": [
    "autoencoder.layers[0].get_config()"
   ]
  },
  {
   "cell_type": "code",
   "execution_count": 21,
   "metadata": {},
   "outputs": [
    {
     "data": {
      "text/plain": [
       "{'activation': 'relu',\n",
       " 'activity_regularizer': None,\n",
       " 'bias_constraint': None,\n",
       " 'bias_initializer': {'class_name': 'Zeros', 'config': {}},\n",
       " 'bias_regularizer': None,\n",
       " 'kernel_constraint': None,\n",
       " 'kernel_initializer': {'class_name': 'VarianceScaling',\n",
       "  'config': {'distribution': 'uniform',\n",
       "   'mode': 'fan_avg',\n",
       "   'scale': 1.0,\n",
       "   'seed': None}},\n",
       " 'kernel_regularizer': None,\n",
       " 'name': 'dense_1',\n",
       " 'trainable': True,\n",
       " 'units': 32,\n",
       " 'use_bias': True}"
      ]
     },
     "execution_count": 21,
     "metadata": {},
     "output_type": "execute_result"
    }
   ],
   "source": [
    "autoencoder.layers[1].get_config()"
   ]
  },
  {
   "cell_type": "code",
   "execution_count": 22,
   "metadata": {},
   "outputs": [
    {
     "data": {
      "text/plain": [
       "{'activation': 'sigmoid',\n",
       " 'activity_regularizer': None,\n",
       " 'bias_constraint': None,\n",
       " 'bias_initializer': {'class_name': 'Zeros', 'config': {}},\n",
       " 'bias_regularizer': None,\n",
       " 'kernel_constraint': None,\n",
       " 'kernel_initializer': {'class_name': 'VarianceScaling',\n",
       "  'config': {'distribution': 'uniform',\n",
       "   'mode': 'fan_avg',\n",
       "   'scale': 1.0,\n",
       "   'seed': None}},\n",
       " 'kernel_regularizer': None,\n",
       " 'name': 'dense_2',\n",
       " 'trainable': True,\n",
       " 'units': 784,\n",
       " 'use_bias': True}"
      ]
     },
     "execution_count": 22,
     "metadata": {},
     "output_type": "execute_result"
    }
   ],
   "source": [
    "autoencoder.layers[2].get_config()"
   ]
  },
  {
   "cell_type": "code",
   "execution_count": 31,
   "metadata": {
    "collapsed": true
   },
   "outputs": [],
   "source": [
    "autoencoder.compile(optimizer='adadelta', loss='binary_crossentropy')"
   ]
  },
  {
   "cell_type": "code",
   "execution_count": 32,
   "metadata": {},
   "outputs": [
    {
     "name": "stdout",
     "output_type": "stream",
     "text": [
      "Downloading data from https://s3.amazonaws.com/img-datasets/mnist.npz\n",
      "11493376/11490434 [==============================] - 111s   \n"
     ]
    }
   ],
   "source": [
    "from keras.datasets import mnist\n",
    "import numpy as np\n",
    "(x_train, _), (x_test, _) = mnist.load_data()"
   ]
  },
  {
   "cell_type": "code",
   "execution_count": 35,
   "metadata": {},
   "outputs": [
    {
     "data": {
      "text/plain": [
       "255"
      ]
     },
     "execution_count": 35,
     "metadata": {},
     "output_type": "execute_result"
    }
   ],
   "source": [
    "x_train.max()"
   ]
  },
  {
   "cell_type": "code",
   "execution_count": 37,
   "metadata": {},
   "outputs": [
    {
     "name": "stdout",
     "output_type": "stream",
     "text": [
      "(60000, 784)\n",
      "(10000, 784)\n"
     ]
    }
   ],
   "source": [
    "x_train = x_train.astype('float32') / 255.\n",
    "x_test = x_test.astype('float32') / 255.\n",
    "x_train = x_train.reshape((len(x_train), np.prod(x_train.shape[1:])))\n",
    "x_test = x_test.reshape((len(x_test), np.prod(x_test.shape[1:])))\n",
    "print(x_train.shape)\n",
    "print(x_test.shape)\n"
   ]
  },
  {
   "cell_type": "code",
   "execution_count": 38,
   "metadata": {
    "scrolled": true
   },
   "outputs": [
    {
     "name": "stdout",
     "output_type": "stream",
     "text": [
      "Train on 60000 samples, validate on 10000 samples\n",
      "Epoch 1/50\n",
      "60000/60000 [==============================] - 5s - loss: 0.3677 - val_loss: 0.2715\n",
      "Epoch 2/50\n",
      "60000/60000 [==============================] - 5s - loss: 0.2632 - val_loss: 0.2513\n",
      "Epoch 3/50\n",
      "60000/60000 [==============================] - 5s - loss: 0.2415 - val_loss: 0.2298\n",
      "Epoch 4/50\n",
      "60000/60000 [==============================] - 5s - loss: 0.2225 - val_loss: 0.2126\n",
      "Epoch 5/50\n",
      "60000/60000 [==============================] - 5s - loss: 0.2074 - val_loss: 0.1997\n",
      "Epoch 6/50\n",
      "60000/60000 [==============================] - 5s - loss: 0.1962 - val_loss: 0.1903\n",
      "Epoch 7/50\n",
      "60000/60000 [==============================] - 5s - loss: 0.1878 - val_loss: 0.1827\n",
      "Epoch 8/50\n",
      "60000/60000 [==============================] - 5s - loss: 0.1808 - val_loss: 0.1762\n",
      "Epoch 9/50\n",
      "60000/60000 [==============================] - 4s - loss: 0.1747 - val_loss: 0.1704\n",
      "Epoch 10/50\n",
      "60000/60000 [==============================] - 5s - loss: 0.1692 - val_loss: 0.1653\n",
      "Epoch 11/50\n",
      "60000/60000 [==============================] - 5s - loss: 0.1643 - val_loss: 0.1605\n",
      "Epoch 12/50\n",
      "60000/60000 [==============================] - 4s - loss: 0.1599 - val_loss: 0.1563\n",
      "Epoch 13/50\n",
      "60000/60000 [==============================] - 4s - loss: 0.1559 - val_loss: 0.1524\n",
      "Epoch 14/50\n",
      "60000/60000 [==============================] - 5s - loss: 0.1522 - val_loss: 0.1490\n",
      "Epoch 15/50\n",
      "60000/60000 [==============================] - 5s - loss: 0.1490 - val_loss: 0.1458\n",
      "Epoch 16/50\n",
      "60000/60000 [==============================] - 5s - loss: 0.1460 - val_loss: 0.1430\n",
      "Epoch 17/50\n",
      "60000/60000 [==============================] - 5s - loss: 0.1432 - val_loss: 0.1403\n",
      "Epoch 18/50\n",
      "60000/60000 [==============================] - 5s - loss: 0.1406 - val_loss: 0.1378\n",
      "Epoch 19/50\n",
      "60000/60000 [==============================] - 5s - loss: 0.1382 - val_loss: 0.1355\n",
      "Epoch 20/50\n",
      "60000/60000 [==============================] - 5s - loss: 0.1359 - val_loss: 0.1333\n",
      "Epoch 21/50\n",
      "60000/60000 [==============================] - 5s - loss: 0.1338 - val_loss: 0.1312\n",
      "Epoch 22/50\n",
      "60000/60000 [==============================] - 5s - loss: 0.1317 - val_loss: 0.1291\n",
      "Epoch 23/50\n",
      "60000/60000 [==============================] - 5s - loss: 0.1297 - val_loss: 0.1272\n",
      "Epoch 24/50\n",
      "60000/60000 [==============================] - 5s - loss: 0.1278 - val_loss: 0.1254\n",
      "Epoch 25/50\n",
      "60000/60000 [==============================] - 5s - loss: 0.1260 - val_loss: 0.1236\n",
      "Epoch 26/50\n",
      "60000/60000 [==============================] - 5s - loss: 0.1243 - val_loss: 0.1219\n",
      "Epoch 27/50\n",
      "60000/60000 [==============================] - 5s - loss: 0.1227 - val_loss: 0.1204\n",
      "Epoch 28/50\n",
      "60000/60000 [==============================] - 5s - loss: 0.1211 - val_loss: 0.1188\n",
      "Epoch 29/50\n",
      "60000/60000 [==============================] - 5s - loss: 0.1196 - val_loss: 0.1173\n",
      "Epoch 30/50\n",
      "60000/60000 [==============================] - 5s - loss: 0.1183 - val_loss: 0.1160\n",
      "Epoch 31/50\n",
      "60000/60000 [==============================] - 5s - loss: 0.1170 - val_loss: 0.1147\n",
      "Epoch 32/50\n",
      "60000/60000 [==============================] - 5s - loss: 0.1157 - val_loss: 0.1135\n",
      "Epoch 33/50\n",
      "60000/60000 [==============================] - 5s - loss: 0.1146 - val_loss: 0.1124\n",
      "Epoch 34/50\n",
      "60000/60000 [==============================] - 5s - loss: 0.1135 - val_loss: 0.1113\n",
      "Epoch 35/50\n",
      "60000/60000 [==============================] - 5s - loss: 0.1125 - val_loss: 0.1103\n",
      "Epoch 36/50\n",
      "60000/60000 [==============================] - 5s - loss: 0.1115 - val_loss: 0.1094\n",
      "Epoch 37/50\n",
      "60000/60000 [==============================] - 5s - loss: 0.1106 - val_loss: 0.1086\n",
      "Epoch 38/50\n",
      "60000/60000 [==============================] - 5s - loss: 0.1098 - val_loss: 0.1077\n",
      "Epoch 39/50\n",
      "60000/60000 [==============================] - 5s - loss: 0.1090 - val_loss: 0.1070\n",
      "Epoch 40/50\n",
      "60000/60000 [==============================] - 5s - loss: 0.1083 - val_loss: 0.1063\n",
      "Epoch 41/50\n",
      "60000/60000 [==============================] - 5s - loss: 0.1076 - val_loss: 0.1056\n",
      "Epoch 42/50\n",
      "60000/60000 [==============================] - 5s - loss: 0.1070 - val_loss: 0.1050\n",
      "Epoch 43/50\n",
      "60000/60000 [==============================] - 5s - loss: 0.1064 - val_loss: 0.1044\n",
      "Epoch 44/50\n",
      "60000/60000 [==============================] - 5s - loss: 0.1058 - val_loss: 0.1039\n",
      "Epoch 45/50\n",
      "60000/60000 [==============================] - 5s - loss: 0.1053 - val_loss: 0.1033\n",
      "Epoch 46/50\n",
      "60000/60000 [==============================] - 5s - loss: 0.1048 - val_loss: 0.1029\n",
      "Epoch 47/50\n",
      "60000/60000 [==============================] - 5s - loss: 0.1043 - val_loss: 0.1024\n",
      "Epoch 48/50\n",
      "60000/60000 [==============================] - 5s - loss: 0.1039 - val_loss: 0.1020\n",
      "Epoch 49/50\n",
      "60000/60000 [==============================] - 5s - loss: 0.1035 - val_loss: 0.1016\n",
      "Epoch 50/50\n",
      "60000/60000 [==============================] - 5s - loss: 0.1031 - val_loss: 0.1012\n"
     ]
    },
    {
     "data": {
      "text/plain": [
       "<keras.callbacks.History at 0x7fca46b06978>"
      ]
     },
     "execution_count": 38,
     "metadata": {},
     "output_type": "execute_result"
    }
   ],
   "source": [
    "autoencoder.fit(x_train, x_train,\n",
    "                epochs=50,\n",
    "                batch_size=256,\n",
    "                shuffle=True,\n",
    "                validation_data=(x_test, x_test))"
   ]
  },
  {
   "cell_type": "code",
   "execution_count": 39,
   "metadata": {
    "collapsed": true
   },
   "outputs": [],
   "source": [
    "encoded_imgs = encoder.predict(x_test)\n",
    "decoded_imgs = decoder.predict(encoded_imgs)"
   ]
  },
  {
   "cell_type": "code",
   "execution_count": 40,
   "metadata": {},
   "outputs": [
    {
     "data": {
      "image/png": "[encoded data removed]",
      "text/plain": [
       "<matplotlib.figure.Figure at 0x7fca433d12b0>"
      ]
     },
     "metadata": {},
     "output_type": "display_data"
    }
   ],
   "source": [
    "import matplotlib.pyplot as plt\n",
    "\n",
    "n = 10  # how many digits we will display\n",
    "plt.figure(figsize=(20, 4))\n",
    "for i in range(n):\n",
    "    # display original\n",
    "    ax = plt.subplot(2, n, i + 1)\n",
    "    plt.imshow(x_test[i].reshape(28, 28))\n",
    "    plt.gray()\n",
    "    ax.get_xaxis().set_visible(False)\n",
    "    ax.get_yaxis().set_visible(False)\n",
    "\n",
    "    # display reconstruction\n",
    "    ax = plt.subplot(2, n, i + 1 + n)\n",
    "    plt.imshow(decoded_imgs[i].reshape(28, 28))\n",
    "    plt.gray()\n",
    "    ax.get_xaxis().set_visible(False)\n",
    "    ax.get_yaxis().set_visible(False)\n",
    "plt.show()\n"
   ]
  },
  {
   "cell_type": "code",
   "execution_count": 41,
   "metadata": {
    "collapsed": true
   },
   "outputs": [],
   "source": [
    "from keras import regularizers\n",
    "\n",
    "encoding_dim = 32\n",
    "\n",
    "input_img = Input(shape=(784,))\n",
    "# add a Dense layer with a L1 activity regularizer\n",
    "encoded = Dense(encoding_dim, activation='relu',\n",
    "                activity_regularizer=regularizers.l1(10e-5))(input_img)\n",
    "decoded = Dense(784, activation='sigmoid')(encoded)\n",
    "\n",
    "autoencoder = Model(input_img, decoded)"
   ]
  },
  {
   "cell_type": "code",
   "execution_count": 43,
   "metadata": {},
   "outputs": [
    {
     "name": "stdout",
     "output_type": "stream",
     "text": [
      "Train on 60000 samples, validate on 10000 samples\n",
      "Epoch 1/100\n",
      "60000/60000 [==============================] - 5s - loss: 0.6836 - val_loss: 0.6607\n",
      "Epoch 2/100\n",
      "60000/60000 [==============================] - 5s - loss: 0.6440 - val_loss: 0.6272\n",
      "Epoch 3/100\n",
      "60000/60000 [==============================] - 5s - loss: 0.6111 - val_loss: 0.5952\n",
      "Epoch 4/100\n",
      "60000/60000 [==============================] - 4s - loss: 0.5802 - val_loss: 0.5655\n",
      "Epoch 5/100\n",
      "60000/60000 [==============================] - 5s - loss: 0.5518 - val_loss: 0.5386\n",
      "Epoch 6/100\n",
      "60000/60000 [==============================] - 5s - loss: 0.5263 - val_loss: 0.5146\n",
      "Epoch 7/100\n",
      "60000/60000 [==============================] - 5s - loss: 0.5036 - val_loss: 0.4932\n",
      "Epoch 8/100\n",
      "60000/60000 [==============================] - 5s - loss: 0.4835 - val_loss: 0.4744\n",
      "Epoch 9/100\n",
      "60000/60000 [==============================] - 4s - loss: 0.4658 - val_loss: 0.4577\n",
      "Epoch 10/100\n",
      "60000/60000 [==============================] - 4s - loss: 0.4501 - val_loss: 0.4430\n",
      "Epoch 11/100\n",
      "60000/60000 [==============================] - 4s - loss: 0.4362 - val_loss: 0.4299\n",
      "Epoch 12/100\n",
      "60000/60000 [==============================] - 5s - loss: 0.4239 - val_loss: 0.4183\n",
      "Epoch 13/100\n",
      "60000/60000 [==============================] - 5s - loss: 0.4129 - val_loss: 0.4079\n",
      "Epoch 14/100\n",
      "60000/60000 [==============================] - 5s - loss: 0.4030 - val_loss: 0.3986\n",
      "Epoch 15/100\n",
      "60000/60000 [==============================] - 4s - loss: 0.3942 - val_loss: 0.3902\n",
      "Epoch 16/100\n",
      "60000/60000 [==============================] - 4s - loss: 0.3862 - val_loss: 0.3826\n",
      "Epoch 17/100\n",
      "60000/60000 [==============================] - 5s - loss: 0.3790 - val_loss: 0.3758\n",
      "Epoch 18/100\n",
      "60000/60000 [==============================] - 5s - loss: 0.3725 - val_loss: 0.3696\n",
      "Epoch 19/100\n",
      "60000/60000 [==============================] - 5s - loss: 0.3665 - val_loss: 0.3639\n",
      "Epoch 20/100\n",
      "60000/60000 [==============================] - 5s - loss: 0.3611 - val_loss: 0.3587\n",
      "Epoch 21/100\n",
      "60000/60000 [==============================] - 5s - loss: 0.3561 - val_loss: 0.3539\n",
      "Epoch 22/100\n",
      "60000/60000 [==============================] - 5s - loss: 0.3516 - val_loss: 0.3496\n",
      "Epoch 23/100\n",
      "60000/60000 [==============================] - 5s - loss: 0.3474 - val_loss: 0.3455\n",
      "Epoch 24/100\n",
      "60000/60000 [==============================] - 5s - loss: 0.3435 - val_loss: 0.3418\n",
      "Epoch 25/100\n",
      "60000/60000 [==============================] - 5s - loss: 0.3399 - val_loss: 0.3384\n",
      "Epoch 26/100\n",
      "60000/60000 [==============================] - 5s - loss: 0.3366 - val_loss: 0.3352\n",
      "Epoch 27/100\n",
      "60000/60000 [==============================] - 5s - loss: 0.3335 - val_loss: 0.3322\n",
      "Epoch 28/100\n",
      "60000/60000 [==============================] - 5s - loss: 0.3307 - val_loss: 0.3294\n",
      "Epoch 29/100\n",
      "60000/60000 [==============================] - 5s - loss: 0.3280 - val_loss: 0.3269\n",
      "Epoch 30/100\n",
      "60000/60000 [==============================] - 6s - loss: 0.3255 - val_loss: 0.3245\n",
      "Epoch 31/100\n",
      "60000/60000 [==============================] - 5s - loss: 0.3232 - val_loss: 0.3222\n",
      "Epoch 32/100\n",
      "60000/60000 [==============================] - 5s - loss: 0.3210 - val_loss: 0.3201\n",
      "Epoch 33/100\n",
      "60000/60000 [==============================] - 5s - loss: 0.3189 - val_loss: 0.3181\n",
      "Epoch 34/100\n",
      "60000/60000 [==============================] - 5s - loss: 0.3170 - val_loss: 0.3162\n",
      "Epoch 35/100\n",
      "60000/60000 [==============================] - 5s - loss: 0.3152 - val_loss: 0.3145\n",
      "Epoch 36/100\n",
      "60000/60000 [==============================] - 5s - loss: 0.3135 - val_loss: 0.3128\n",
      "Epoch 37/100\n",
      "60000/60000 [==============================] - 5s - loss: 0.3119 - val_loss: 0.3112\n",
      "Epoch 38/100\n",
      "60000/60000 [==============================] - 5s - loss: 0.3103 - val_loss: 0.3097\n",
      "Epoch 39/100\n",
      "60000/60000 [==============================] - 5s - loss: 0.3089 - val_loss: 0.3083\n",
      "Epoch 40/100\n",
      "60000/60000 [==============================] - 5s - loss: 0.3075 - val_loss: 0.3070\n",
      "Epoch 41/100\n",
      "60000/60000 [==============================] - 5s - loss: 0.3062 - val_loss: 0.3057\n",
      "Epoch 42/100\n",
      "60000/60000 [==============================] - 5s - loss: 0.3050 - val_loss: 0.3045\n",
      "Epoch 43/100\n",
      "60000/60000 [==============================] - 5s - loss: 0.3038 - val_loss: 0.3034\n",
      "Epoch 44/100\n",
      "60000/60000 [==============================] - 5s - loss: 0.3027 - val_loss: 0.3023\n",
      "Epoch 45/100\n",
      "60000/60000 [==============================] - 5s - loss: 0.3016 - val_loss: 0.3012\n",
      "Epoch 46/100\n",
      "60000/60000 [==============================] - 5s - loss: 0.3006 - val_loss: 0.3002\n",
      "Epoch 47/100\n",
      "60000/60000 [==============================] - 5s - loss: 0.2997 - val_loss: 0.2993\n",
      "Epoch 48/100\n",
      "60000/60000 [==============================] - 5s - loss: 0.2987 - val_loss: 0.2984\n",
      "Epoch 49/100\n",
      "60000/60000 [==============================] - 5s - loss: 0.2979 - val_loss: 0.2975\n",
      "Epoch 50/100\n",
      "60000/60000 [==============================] - 5s - loss: 0.2970 - val_loss: 0.2967\n",
      "Epoch 51/100\n",
      "60000/60000 [==============================] - 4s - loss: 0.2962 - val_loss: 0.2959\n",
      "Epoch 52/100\n",
      "60000/60000 [==============================] - 4s - loss: 0.2954 - val_loss: 0.2951\n",
      "Epoch 53/100\n",
      "60000/60000 [==============================] - 6s - loss: 0.2947 - val_loss: 0.2944\n",
      "Epoch 54/100\n",
      "60000/60000 [==============================] - 5s - loss: 0.2940 - val_loss: 0.2937\n",
      "Epoch 55/100\n",
      "60000/60000 [==============================] - 5s - loss: 0.2933 - val_loss: 0.2930\n",
      "Epoch 56/100\n",
      "60000/60000 [==============================] - 4s - loss: 0.2926 - val_loss: 0.2924\n",
      "Epoch 57/100\n",
      "60000/60000 [==============================] - 5s - loss: 0.2920 - val_loss: 0.2917\n",
      "Epoch 58/100\n",
      "60000/60000 [==============================] - 5s - loss: 0.2914 - val_loss: 0.2911\n",
      "Epoch 59/100\n",
      "60000/60000 [==============================] - 5s - loss: 0.2908 - val_loss: 0.2906\n",
      "Epoch 60/100\n",
      "60000/60000 [==============================] - 5s - loss: 0.2902 - val_loss: 0.2900\n",
      "Epoch 61/100\n",
      "60000/60000 [==============================] - 5s - loss: 0.2897 - val_loss: 0.2895\n",
      "Epoch 62/100\n",
      "60000/60000 [==============================] - 5s - loss: 0.2892 - val_loss: 0.2889\n",
      "Epoch 63/100\n",
      "60000/60000 [==============================] - 5s - loss: 0.2886 - val_loss: 0.2884\n",
      "Epoch 64/100\n",
      "60000/60000 [==============================] - 5s - loss: 0.2882 - val_loss: 0.2880\n",
      "Epoch 65/100\n",
      "60000/60000 [==============================] - 5s - loss: 0.2877 - val_loss: 0.2875\n",
      "Epoch 66/100\n",
      "60000/60000 [==============================] - 5s - loss: 0.2872 - val_loss: 0.2870\n",
      "Epoch 67/100\n",
      "60000/60000 [==============================] - 5s - loss: 0.2868 - val_loss: 0.2866\n",
      "Epoch 68/100\n",
      "60000/60000 [==============================] - 5s - loss: 0.2864 - val_loss: 0.2862\n",
      "Epoch 69/100\n",
      "60000/60000 [==============================] - 5s - loss: 0.2859 - val_loss: 0.2858\n",
      "Epoch 70/100\n",
      "60000/60000 [==============================] - 5s - loss: 0.2855 - val_loss: 0.2854\n",
      "Epoch 71/100\n",
      "60000/60000 [==============================] - 5s - loss: 0.2851 - val_loss: 0.2850\n",
      "Epoch 72/100\n",
      "60000/60000 [==============================] - 5s - loss: 0.2848 - val_loss: 0.2846\n",
      "Epoch 73/100\n",
      "60000/60000 [==============================] - 5s - loss: 0.2844 - val_loss: 0.2842\n",
      "Epoch 74/100\n",
      "60000/60000 [==============================] - 5s - loss: 0.2840 - val_loss: 0.2839\n",
      "Epoch 75/100\n",
      "60000/60000 [==============================] - 5s - loss: 0.2837 - val_loss: 0.2835\n",
      "Epoch 76/100\n",
      "60000/60000 [==============================] - 5s - loss: 0.2834 - val_loss: 0.2832\n",
      "Epoch 77/100\n",
      "60000/60000 [==============================] - 5s - loss: 0.2830 - val_loss: 0.2829\n",
      "Epoch 78/100\n",
      "60000/60000 [==============================] - 5s - loss: 0.2827 - val_loss: 0.2826\n",
      "Epoch 79/100\n",
      "60000/60000 [==============================] - 5s - loss: 0.2824 - val_loss: 0.2823\n",
      "Epoch 80/100\n",
      "60000/60000 [==============================] - 5s - loss: 0.2821 - val_loss: 0.2820\n",
      "Epoch 81/100\n",
      "60000/60000 [==============================] - 5s - loss: 0.2818 - val_loss: 0.2817\n",
      "Epoch 82/100\n",
      "60000/60000 [==============================] - 5s - loss: 0.2815 - val_loss: 0.2814\n",
      "Epoch 83/100\n",
      "60000/60000 [==============================] - 5s - loss: 0.2813 - val_loss: 0.2811\n",
      "Epoch 84/100\n",
      "60000/60000 [==============================] - 5s - loss: 0.2810 - val_loss: 0.2808\n",
      "Epoch 85/100\n"
     ]
    },
    {
     "name": "stdout",
     "output_type": "stream",
     "text": [
      "60000/60000 [==============================] - 5s - loss: 0.2807 - val_loss: 0.2806\n",
      "Epoch 86/100\n",
      "60000/60000 [==============================] - 5s - loss: 0.2805 - val_loss: 0.2803\n",
      "Epoch 87/100\n",
      "60000/60000 [==============================] - 5s - loss: 0.2802 - val_loss: 0.2801\n",
      "Epoch 88/100\n",
      "60000/60000 [==============================] - 5s - loss: 0.2800 - val_loss: 0.2798\n",
      "Epoch 89/100\n",
      "60000/60000 [==============================] - 5s - loss: 0.2798 - val_loss: 0.2796\n",
      "Epoch 90/100\n",
      "60000/60000 [==============================] - 5s - loss: 0.2795 - val_loss: 0.2794\n",
      "Epoch 91/100\n",
      "60000/60000 [==============================] - 5s - loss: 0.2793 - val_loss: 0.2792\n",
      "Epoch 92/100\n",
      "60000/60000 [==============================] - 5s - loss: 0.2791 - val_loss: 0.2789\n",
      "Epoch 93/100\n",
      "60000/60000 [==============================] - 5s - loss: 0.2789 - val_loss: 0.2787\n",
      "Epoch 94/100\n",
      "60000/60000 [==============================] - 5s - loss: 0.2787 - val_loss: 0.2785\n",
      "Epoch 95/100\n",
      "60000/60000 [==============================] - 5s - loss: 0.2785 - val_loss: 0.2783\n",
      "Epoch 96/100\n",
      "60000/60000 [==============================] - 5s - loss: 0.2783 - val_loss: 0.2781\n",
      "Epoch 97/100\n",
      "60000/60000 [==============================] - 5s - loss: 0.2781 - val_loss: 0.2779\n",
      "Epoch 98/100\n",
      "60000/60000 [==============================] - 5s - loss: 0.2779 - val_loss: 0.2777\n",
      "Epoch 99/100\n",
      "60000/60000 [==============================] - 5s - loss: 0.2777 - val_loss: 0.2776\n",
      "Epoch 100/100\n",
      "60000/60000 [==============================] - 5s - loss: 0.2775 - val_loss: 0.2774\n"
     ]
    },
    {
     "data": {
      "text/plain": [
       "<keras.callbacks.History at 0x7fca34111c88>"
      ]
     },
     "execution_count": 43,
     "metadata": {},
     "output_type": "execute_result"
    }
   ],
   "source": [
    "autoencoder.compile(optimizer='adadelta', loss='binary_crossentropy')\n",
    "autoencoder.fit(x_train, x_train,\n",
    "                epochs=100,\n",
    "                batch_size=256,\n",
    "                shuffle=True,\n",
    "                validation_data=(x_test, x_test))"
   ]
  },
  {
   "cell_type": "code",
   "execution_count": 44,
   "metadata": {},
   "outputs": [
    {
     "data": {
      "image/png": "[encoded data removed]",
      "text/plain": [
       "<matplotlib.figure.Figure at 0x7fca34117da0>"
      ]
     },
     "metadata": {},
     "output_type": "display_data"
    }
   ],
   "source": [
    "n = 10  # how many digits we will display\n",
    "plt.figure(figsize=(20, 4))\n",
    "for i in range(n):\n",
    "    # display original\n",
    "    ax = plt.subplot(2, n, i + 1)\n",
    "    plt.imshow(x_test[i].reshape(28, 28))\n",
    "    plt.gray()\n",
    "    ax.get_xaxis().set_visible(False)\n",
    "    ax.get_yaxis().set_visible(False)\n",
    "\n",
    "    # display reconstruction\n",
    "    ax = plt.subplot(2, n, i + 1 + n)\n",
    "    plt.imshow(decoded_imgs[i].reshape(28, 28))\n",
    "    plt.gray()\n",
    "    ax.get_xaxis().set_visible(False)\n",
    "    ax.get_yaxis().set_visible(False)\n",
    "plt.show()\n"
   ]
  },
  {
   "cell_type": "code",
   "execution_count": 45,
   "metadata": {
    "collapsed": true
   },
   "outputs": [
    {
     "name": "stdout",
     "output_type": "stream",
     "text": [
      "Train on 60000 samples, validate on 10000 samples\n",
      "Epoch 1/100\n",
      "60000/60000 [==============================] - 6s - loss: 0.3717 - val_loss: 0.2642\n",
      "Epoch 2/100\n",
      "60000/60000 [==============================] - 7s - loss: 0.2601 - val_loss: 0.2558\n",
      "Epoch 3/100\n",
      "60000/60000 [==============================] - 6s - loss: 0.2471 - val_loss: 0.2366\n",
      "Epoch 4/100\n",
      "60000/60000 [==============================] - 7s - loss: 0.2291 - val_loss: 0.2228\n",
      "Epoch 5/100\n",
      "60000/60000 [==============================] - 6s - loss: 0.2194 - val_loss: 0.2117\n",
      "Epoch 6/100\n",
      "60000/60000 [==============================] - 6s - loss: 0.2066 - val_loss: 0.1997\n",
      "Epoch 7/100\n",
      "60000/60000 [==============================] - 6s - loss: 0.1953 - val_loss: 0.1895\n",
      "Epoch 8/100\n",
      "60000/60000 [==============================] - 6s - loss: 0.1840 - val_loss: 0.1796\n",
      "Epoch 9/100\n",
      "60000/60000 [==============================] - 6s - loss: 0.1777 - val_loss: 0.1755\n",
      "Epoch 10/100\n",
      "60000/60000 [==============================] - 6s - loss: 0.1731 - val_loss: 0.1693\n",
      "Epoch 11/100\n",
      "60000/60000 [==============================] - 6s - loss: 0.1688 - val_loss: 0.1649\n",
      "Epoch 12/100\n",
      "60000/60000 [==============================] - 6s - loss: 0.1647 - val_loss: 0.1621\n",
      "Epoch 13/100\n",
      "60000/60000 [==============================] - 7s - loss: 0.1610 - val_loss: 0.1587\n",
      "Epoch 14/100\n",
      "60000/60000 [==============================] - 7s - loss: 0.1578 - val_loss: 0.1546\n",
      "Epoch 15/100\n",
      "60000/60000 [==============================] - 6s - loss: 0.1549 - val_loss: 0.1535\n",
      "Epoch 16/100\n",
      "60000/60000 [==============================] - 6s - loss: 0.1523 - val_loss: 0.1502\n",
      "Epoch 17/100\n",
      "60000/60000 [==============================] - 6s - loss: 0.1498 - val_loss: 0.1464\n",
      "Epoch 18/100\n",
      "60000/60000 [==============================] - 6s - loss: 0.1473 - val_loss: 0.1442\n",
      "Epoch 19/100\n",
      "60000/60000 [==============================] - 6s - loss: 0.1450 - val_loss: 0.1420\n",
      "Epoch 20/100\n",
      "60000/60000 [==============================] - 6s - loss: 0.1428 - val_loss: 0.1403\n",
      "Epoch 21/100\n",
      "60000/60000 [==============================] - 6s - loss: 0.1409 - val_loss: 0.1389\n",
      "Epoch 22/100\n",
      "60000/60000 [==============================] - 6s - loss: 0.1389 - val_loss: 0.1374\n",
      "Epoch 23/100\n",
      "60000/60000 [==============================] - 6s - loss: 0.1374 - val_loss: 0.1352\n",
      "Epoch 24/100\n",
      "60000/60000 [==============================] - 6s - loss: 0.1358 - val_loss: 0.1343\n",
      "Epoch 25/100\n",
      "60000/60000 [==============================] - 6s - loss: 0.1344 - val_loss: 0.1322\n",
      "Epoch 26/100\n",
      "60000/60000 [==============================] - 6s - loss: 0.1332 - val_loss: 0.1313\n",
      "Epoch 27/100\n",
      "60000/60000 [==============================] - 6s - loss: 0.1321 - val_loss: 0.1291\n",
      "Epoch 28/100\n",
      "60000/60000 [==============================] - 7s - loss: 0.1309 - val_loss: 0.1300\n",
      "Epoch 29/100\n",
      "60000/60000 [==============================] - 7s - loss: 0.1298 - val_loss: 0.1281\n",
      "Epoch 30/100\n",
      "60000/60000 [==============================] - 6s - loss: 0.1286 - val_loss: 0.1270\n",
      "Epoch 31/100\n",
      "60000/60000 [==============================] - 6s - loss: 0.1277 - val_loss: 0.1259\n",
      "Epoch 32/100\n",
      "60000/60000 [==============================] - 6s - loss: 0.1266 - val_loss: 0.1245\n",
      "Epoch 33/100\n",
      "60000/60000 [==============================] - 6s - loss: 0.1255 - val_loss: 0.1239\n",
      "Epoch 34/100\n",
      "60000/60000 [==============================] - 6s - loss: 0.1247 - val_loss: 0.1239\n",
      "Epoch 35/100\n",
      "60000/60000 [==============================] - 6s - loss: 0.1237 - val_loss: 0.1234\n",
      "Epoch 36/100\n",
      "60000/60000 [==============================] - 7s - loss: 0.1230 - val_loss: 0.1207\n",
      "Epoch 37/100\n",
      "60000/60000 [==============================] - 7s - loss: 0.1220 - val_loss: 0.1198\n",
      "Epoch 38/100\n",
      "60000/60000 [==============================] - 6s - loss: 0.1214 - val_loss: 0.1182\n",
      "Epoch 39/100\n",
      "60000/60000 [==============================] - 6s - loss: 0.1205 - val_loss: 0.1182\n",
      "Epoch 40/100\n",
      "60000/60000 [==============================] - 6s - loss: 0.1199 - val_loss: 0.1181\n",
      "Epoch 41/100\n",
      "60000/60000 [==============================] - 6s - loss: 0.1190 - val_loss: 0.1186\n",
      "Epoch 42/100\n",
      "60000/60000 [==============================] - 6s - loss: 0.1184 - val_loss: 0.1164\n",
      "Epoch 43/100\n",
      "60000/60000 [==============================] - 6s - loss: 0.1179 - val_loss: 0.1168\n",
      "Epoch 44/100\n",
      "60000/60000 [==============================] - 6s - loss: 0.1172 - val_loss: 0.1151\n",
      "Epoch 45/100\n",
      "60000/60000 [==============================] - 6s - loss: 0.1167 - val_loss: 0.1144\n",
      "Epoch 46/100\n",
      "60000/60000 [==============================] - 6s - loss: 0.1162 - val_loss: 0.1151\n",
      "Epoch 47/100\n",
      "60000/60000 [==============================] - 6s - loss: 0.1156 - val_loss: 0.1147\n",
      "Epoch 48/100\n",
      "60000/60000 [==============================] - 6s - loss: 0.1152 - val_loss: 0.1128\n",
      "Epoch 49/100\n",
      "60000/60000 [==============================] - 6s - loss: 0.1147 - val_loss: 0.1125\n",
      "Epoch 50/100\n",
      "60000/60000 [==============================] - 6s - loss: 0.1142 - val_loss: 0.1149\n",
      "Epoch 51/100\n",
      "60000/60000 [==============================] - 6s - loss: 0.1138 - val_loss: 0.1120\n",
      "Epoch 52/100\n",
      "60000/60000 [==============================] - 6s - loss: 0.1135 - val_loss: 0.1123\n",
      "Epoch 53/100\n",
      "60000/60000 [==============================] - 7s - loss: 0.1130 - val_loss: 0.1110\n",
      "Epoch 54/100\n",
      "60000/60000 [==============================] - 7s - loss: 0.1128 - val_loss: 0.1115\n",
      "Epoch 55/100\n",
      "60000/60000 [==============================] - 7s - loss: 0.1123 - val_loss: 0.1114\n",
      "Epoch 56/100\n",
      "60000/60000 [==============================] - 7s - loss: 0.1120 - val_loss: 0.1103\n",
      "Epoch 57/100\n",
      "60000/60000 [==============================] - 7s - loss: 0.1116 - val_loss: 0.1119\n",
      "Epoch 58/100\n",
      "60000/60000 [==============================] - 6s - loss: 0.1113 - val_loss: 0.1093\n",
      "Epoch 59/100\n",
      "60000/60000 [==============================] - 6s - loss: 0.1109 - val_loss: 0.1099\n",
      "Epoch 60/100\n",
      "60000/60000 [==============================] - 7s - loss: 0.1107 - val_loss: 0.1117\n",
      "Epoch 61/100\n",
      "60000/60000 [==============================] - 6s - loss: 0.1103 - val_loss: 0.1084\n",
      "Epoch 62/100\n",
      "60000/60000 [==============================] - 6s - loss: 0.1100 - val_loss: 0.1088\n",
      "Epoch 63/100\n",
      "60000/60000 [==============================] - 7s - loss: 0.1098 - val_loss: 0.1084\n",
      "Epoch 64/100\n",
      "60000/60000 [==============================] - 6s - loss: 0.1094 - val_loss: 0.1080\n",
      "Epoch 65/100\n",
      "60000/60000 [==============================] - 6s - loss: 0.1091 - val_loss: 0.1073\n",
      "Epoch 66/100\n",
      "60000/60000 [==============================] - 6s - loss: 0.1088 - val_loss: 0.1069\n",
      "Epoch 67/100\n",
      "60000/60000 [==============================] - 7s - loss: 0.1086 - val_loss: 0.1078\n",
      "Epoch 68/100\n",
      "60000/60000 [==============================] - 6s - loss: 0.1083 - val_loss: 0.1081\n",
      "Epoch 69/100\n",
      "60000/60000 [==============================] - 6s - loss: 0.1081 - val_loss: 0.1081\n",
      "Epoch 70/100\n",
      "60000/60000 [==============================] - 7s - loss: 0.1078 - val_loss: 0.1065\n",
      "Epoch 71/100\n",
      "60000/60000 [==============================] - 7s - loss: 0.1077 - val_loss: 0.1065\n",
      "Epoch 72/100\n",
      "60000/60000 [==============================] - 7s - loss: 0.1075 - val_loss: 0.1067\n",
      "Epoch 73/100\n",
      "60000/60000 [==============================] - 6s - loss: 0.1071 - val_loss: 0.1053\n",
      "Epoch 74/100\n",
      "60000/60000 [==============================] - 7s - loss: 0.1070 - val_loss: 0.1066\n",
      "Epoch 75/100\n",
      "60000/60000 [==============================] - 6s - loss: 0.1067 - val_loss: 0.1051\n",
      "Epoch 76/100\n",
      "60000/60000 [==============================] - 6s - loss: 0.1066 - val_loss: 0.1056\n",
      "Epoch 77/100\n",
      "60000/60000 [==============================] - 6s - loss: 0.1063 - val_loss: 0.1055\n",
      "Epoch 78/100\n",
      "60000/60000 [==============================] - 7s - loss: 0.1061 - val_loss: 0.1049\n",
      "Epoch 79/100\n",
      "60000/60000 [==============================] - 7s - loss: 0.1059 - val_loss: 0.1048\n",
      "Epoch 80/100\n",
      "60000/60000 [==============================] - 7s - loss: 0.1057 - val_loss: 0.1044\n",
      "Epoch 81/100\n",
      "60000/60000 [==============================] - 7s - loss: 0.1055 - val_loss: 0.1035\n",
      "Epoch 82/100\n",
      "60000/60000 [==============================] - 7s - loss: 0.1052 - val_loss: 0.1036\n",
      "Epoch 83/100\n",
      "60000/60000 [==============================] - 7s - loss: 0.1051 - val_loss: 0.1036\n",
      "Epoch 84/100\n",
      "60000/60000 [==============================] - 7s - loss: 0.1047 - val_loss: 0.1044\n",
      "Epoch 85/100\n"
     ]
    },
    {
     "name": "stdout",
     "output_type": "stream",
     "text": [
      "60000/60000 [==============================] - 6s - loss: 0.1045 - val_loss: 0.1031\n",
      "Epoch 86/100\n",
      "60000/60000 [==============================] - 6s - loss: 0.1043 - val_loss: 0.1028\n",
      "Epoch 87/100\n",
      "60000/60000 [==============================] - 6s - loss: 0.1040 - val_loss: 0.1033\n",
      "Epoch 88/100\n",
      "60000/60000 [==============================] - 6s - loss: 0.1038 - val_loss: 0.1031\n",
      "Epoch 89/100\n",
      "60000/60000 [==============================] - 6s - loss: 0.1036 - val_loss: 0.1023\n",
      "Epoch 90/100\n",
      "60000/60000 [==============================] - 6s - loss: 0.1034 - val_loss: 0.1028\n",
      "Epoch 91/100\n",
      "60000/60000 [==============================] - 6s - loss: 0.1032 - val_loss: 0.1022\n",
      "Epoch 92/100\n",
      "60000/60000 [==============================] - 6s - loss: 0.1030 - val_loss: 0.1017\n",
      "Epoch 93/100\n",
      "60000/60000 [==============================] - 7s - loss: 0.1028 - val_loss: 0.1013\n",
      "Epoch 94/100\n",
      "60000/60000 [==============================] - 6s - loss: 0.1026 - val_loss: 0.1010\n",
      "Epoch 95/100\n",
      "60000/60000 [==============================] - 6s - loss: 0.1023 - val_loss: 0.1019\n",
      "Epoch 96/100\n",
      "60000/60000 [==============================] - 7s - loss: 0.1023 - val_loss: 0.1008\n",
      "Epoch 97/100\n",
      "60000/60000 [==============================] - 7s - loss: 0.1020 - val_loss: 0.1011\n",
      "Epoch 98/100\n",
      "60000/60000 [==============================] - 7s - loss: 0.1018 - val_loss: 0.1010\n",
      "Epoch 99/100\n",
      "60000/60000 [==============================] - 6s - loss: 0.1016 - val_loss: 0.1010\n",
      "Epoch 100/100\n",
      "60000/60000 [==============================] - 6s - loss: 0.1014 - val_loss: 0.1000\n"
     ]
    },
    {
     "data": {
      "text/plain": [
       "<keras.callbacks.History at 0x7fca26712da0>"
      ]
     },
     "execution_count": 45,
     "metadata": {},
     "output_type": "execute_result"
    }
   ],
   "source": [
    "input_img = Input(shape=(784,))\n",
    "encoded = Dense(128, activation='relu')(input_img)\n",
    "encoded = Dense(64, activation='relu')(encoded)\n",
    "encoded = Dense(32, activation='relu')(encoded)\n",
    "\n",
    "decoded = Dense(64, activation='relu')(encoded)\n",
    "decoded = Dense(128, activation='relu')(decoded)\n",
    "decoded = Dense(784, activation='sigmoid')(decoded)\n",
    "\n",
    "autoencoder = Model(input_img, decoded)\n",
    "autoencoder.compile(optimizer='adadelta', loss='binary_crossentropy')\n",
    "\n",
    "autoencoder.fit(x_train, x_train,\n",
    "                epochs=100,\n",
    "                batch_size=256,\n",
    "                shuffle=True,\n",
    "                validation_data=(x_test, x_test))"
   ]
  },
  {
   "cell_type": "code",
   "execution_count": 48,
   "metadata": {},
   "outputs": [
    {
     "ename": "AttributeError",
     "evalue": "'TensorVariable' object has no attribute 'predict'",
     "output_type": "error",
     "traceback": [
      "\u001b[0;31m---------------------------------------------------------------------------\u001b[0m",
      "\u001b[0;31mAttributeError\u001b[0m                            Traceback (most recent call last)",
      "\u001b[0;32m<ipython-input-48-1e7d5fe53795>\u001b[0m in \u001b[0;36m<module>\u001b[0;34m()\u001b[0m\n\u001b[0;32m----> 1\u001b[0;31m \u001b[0mencoded_imgs\u001b[0m \u001b[0;34m=\u001b[0m \u001b[0mencoded\u001b[0m\u001b[0;34m.\u001b[0m\u001b[0mpredict\u001b[0m\u001b[0;34m(\u001b[0m\u001b[0mx_test\u001b[0m\u001b[0;34m)\u001b[0m\u001b[0;34m\u001b[0m\u001b[0m\n\u001b[0m\u001b[1;32m      2\u001b[0m \u001b[0mdecoded_imgs\u001b[0m \u001b[0;34m=\u001b[0m \u001b[0mdecoded\u001b[0m\u001b[0;34m.\u001b[0m\u001b[0mpredict\u001b[0m\u001b[0;34m(\u001b[0m\u001b[0mencoded_imgs\u001b[0m\u001b[0;34m)\u001b[0m\u001b[0;34m\u001b[0m\u001b[0m\n\u001b[1;32m      3\u001b[0m \u001b[0mn\u001b[0m \u001b[0;34m=\u001b[0m \u001b[0;36m10\u001b[0m  \u001b[0;31m# how many digits we will display\u001b[0m\u001b[0;34m\u001b[0m\u001b[0m\n\u001b[1;32m      4\u001b[0m \u001b[0mplt\u001b[0m\u001b[0;34m.\u001b[0m\u001b[0mfigure\u001b[0m\u001b[0;34m(\u001b[0m\u001b[0mfigsize\u001b[0m\u001b[0;34m=\u001b[0m\u001b[0;34m(\u001b[0m\u001b[0;36m20\u001b[0m\u001b[0;34m,\u001b[0m \u001b[0;36m4\u001b[0m\u001b[0;34m)\u001b[0m\u001b[0;34m)\u001b[0m\u001b[0;34m\u001b[0m\u001b[0m\n\u001b[1;32m      5\u001b[0m \u001b[0;32mfor\u001b[0m \u001b[0mi\u001b[0m \u001b[0;32min\u001b[0m \u001b[0mrange\u001b[0m\u001b[0;34m(\u001b[0m\u001b[0mn\u001b[0m\u001b[0;34m)\u001b[0m\u001b[0;34m:\u001b[0m\u001b[0;34m\u001b[0m\u001b[0m\n",
      "\u001b[0;31mAttributeError\u001b[0m: 'TensorVariable' object has no attribute 'predict'"
     ]
    }
   ],
   "source": [
    "encoder = Model(input_img, encoded)\n",
    "\n",
    "encoded_imgs = encoded.predict(x_test)\n",
    "decoded_imgs = decoded.predict(encoded_imgs)\n",
    "n = 10  # how many digits we will display\n",
    "plt.figure(figsize=(20, 4))\n",
    "for i in range(n):\n",
    "    # display original\n",
    "    ax = plt.subplot(2, n, i + 1)\n",
    "    plt.imshow(x_test[i].reshape(28, 28))\n",
    "    plt.gray()\n",
    "    ax.get_xaxis().set_visible(False)\n",
    "    ax.get_yaxis().set_visible(False)\n",
    "\n",
    "    # display reconstruction\n",
    "    ax = plt.subplot(2, n, i + 1 + n)\n",
    "    plt.imshow(decoded_imgs[i].reshape(28, 28))\n",
    "    plt.gray()\n",
    "    ax.get_xaxis().set_visible(False)\n",
    "    ax.get_yaxis().set_visible(False)\n",
    "plt.show()\n"
   ]
  },
  {
   "cell_type": "code",
   "execution_count": 49,
   "metadata": {
    "collapsed": true
   },
   "outputs": [],
   "source": [
    "encoder = Model(input_img, encoded)"
   ]
  },
  {
   "cell_type": "code",
   "execution_count": 53,
   "metadata": {},
   "outputs": [
    {
     "data": {
      "text/plain": [
       "{'activation': 'relu',\n",
       " 'activity_regularizer': None,\n",
       " 'bias_constraint': None,\n",
       " 'bias_initializer': {'class_name': 'Zeros', 'config': {}},\n",
       " 'bias_regularizer': None,\n",
       " 'kernel_constraint': None,\n",
       " 'kernel_initializer': {'class_name': 'VarianceScaling',\n",
       "  'config': {'distribution': 'uniform',\n",
       "   'mode': 'fan_avg',\n",
       "   'scale': 1.0,\n",
       "   'seed': None}},\n",
       " 'kernel_regularizer': None,\n",
       " 'name': 'dense_6',\n",
       " 'trainable': True,\n",
       " 'units': 64,\n",
       " 'use_bias': True}"
      ]
     },
     "execution_count": 53,
     "metadata": {},
     "output_type": "execute_result"
    }
   ],
   "source": [
    "encoder.layers[2].get_config()"
   ]
  },
  {
   "cell_type": "code",
   "execution_count": 62,
   "metadata": {},
   "outputs": [
    {
     "ename": "ValueError",
     "evalue": "Layer dense_10 was called with an input that isn't a symbolic tensor. Received type: <class 'keras.layers.core.Dense'>. Full input: [<keras.layers.core.Dense object at 0x7fca355d5f98>]. All inputs to the layer should be tensors.",
     "output_type": "error",
     "traceback": [
      "\u001b[0;31m---------------------------------------------------------------------------\u001b[0m",
      "\u001b[0;31mValueError\u001b[0m                                Traceback (most recent call last)",
      "\u001b[0;32m/home/parallellab2/anaconda2/envs/cs231nenv/lib/python3.6/site-packages/keras/engine/topology.py\u001b[0m in \u001b[0;36massert_input_compatibility\u001b[0;34m(self, inputs)\u001b[0m\n\u001b[1;32m    418\u001b[0m             \u001b[0;32mtry\u001b[0m\u001b[0;34m:\u001b[0m\u001b[0;34m\u001b[0m\u001b[0m\n\u001b[0;32m--> 419\u001b[0;31m                 \u001b[0mK\u001b[0m\u001b[0;34m.\u001b[0m\u001b[0mis_keras_tensor\u001b[0m\u001b[0;34m(\u001b[0m\u001b[0mx\u001b[0m\u001b[0;34m)\u001b[0m\u001b[0;34m\u001b[0m\u001b[0m\n\u001b[0m\u001b[1;32m    420\u001b[0m             \u001b[0;32mexcept\u001b[0m \u001b[0mValueError\u001b[0m\u001b[0;34m:\u001b[0m\u001b[0;34m\u001b[0m\u001b[0m\n",
      "\u001b[0;32m/home/parallellab2/anaconda2/envs/cs231nenv/lib/python3.6/site-packages/keras/backend/theano_backend.py\u001b[0m in \u001b[0;36mis_keras_tensor\u001b[0;34m(x)\u001b[0m\n\u001b[1;32m    197\u001b[0m                           T.sharedvar.TensorSharedVariable)):\n\u001b[0;32m--> 198\u001b[0;31m         raise ValueError('Unexpectedly found an instance of type `' + str(type(x)) + '`. '\n\u001b[0m\u001b[1;32m    199\u001b[0m                          'Expected a symbolic tensor instance.')\n",
      "\u001b[0;31mValueError\u001b[0m: Unexpectedly found an instance of type `<class 'keras.layers.core.Dense'>`. Expected a symbolic tensor instance.",
      "\nDuring handling of the above exception, another exception occurred:\n",
      "\u001b[0;31mValueError\u001b[0m                                Traceback (most recent call last)",
      "\u001b[0;32m<ipython-input-62-a23b6e5c401c>\u001b[0m in \u001b[0;36m<module>\u001b[0;34m()\u001b[0m\n\u001b[1;32m      1\u001b[0m \u001b[0;31m#encoded_input = Input(shape=(32,))\u001b[0m\u001b[0;34m\u001b[0m\u001b[0;34m\u001b[0m\u001b[0m\n\u001b[1;32m      2\u001b[0m \u001b[0mdecoder_layer\u001b[0m \u001b[0;34m=\u001b[0m \u001b[0mautoencoder\u001b[0m\u001b[0;34m.\u001b[0m\u001b[0mlayers\u001b[0m\u001b[0;34m[\u001b[0m\u001b[0;34m-\u001b[0m\u001b[0;36m2\u001b[0m\u001b[0;34m]\u001b[0m\u001b[0;34m\u001b[0m\u001b[0m\n\u001b[0;32m----> 3\u001b[0;31m \u001b[0mdecoder_layer\u001b[0m\u001b[0;34m=\u001b[0m\u001b[0mautoencoder\u001b[0m\u001b[0;34m.\u001b[0m\u001b[0mlayers\u001b[0m\u001b[0;34m[\u001b[0m\u001b[0;34m-\u001b[0m\u001b[0;36m1\u001b[0m\u001b[0;34m]\u001b[0m\u001b[0;34m(\u001b[0m\u001b[0mdecoder_layer\u001b[0m\u001b[0;34m)\u001b[0m\u001b[0;34m\u001b[0m\u001b[0m\n\u001b[0m\u001b[1;32m      4\u001b[0m \u001b[0;34m\u001b[0m\u001b[0m\n\u001b[1;32m      5\u001b[0m \u001b[0;31m#decoder = Model(encoded_input, decoder_layer)\u001b[0m\u001b[0;34m\u001b[0m\u001b[0;34m\u001b[0m\u001b[0m\n",
      "\u001b[0;32m/home/parallellab2/anaconda2/envs/cs231nenv/lib/python3.6/site-packages/keras/engine/topology.py\u001b[0m in \u001b[0;36m__call__\u001b[0;34m(self, inputs, **kwargs)\u001b[0m\n\u001b[1;32m    578\u001b[0m             \u001b[0;31m# Raise exceptions in case the input is not compatible\u001b[0m\u001b[0;34m\u001b[0m\u001b[0;34m\u001b[0m\u001b[0m\n\u001b[1;32m    579\u001b[0m             \u001b[0;31m# with the input_spec set at build time.\u001b[0m\u001b[0;34m\u001b[0m\u001b[0;34m\u001b[0m\u001b[0m\n\u001b[0;32m--> 580\u001b[0;31m             \u001b[0mself\u001b[0m\u001b[0;34m.\u001b[0m\u001b[0massert_input_compatibility\u001b[0m\u001b[0;34m(\u001b[0m\u001b[0minputs\u001b[0m\u001b[0;34m)\u001b[0m\u001b[0;34m\u001b[0m\u001b[0m\n\u001b[0m\u001b[1;32m    581\u001b[0m \u001b[0;34m\u001b[0m\u001b[0m\n\u001b[1;32m    582\u001b[0m             \u001b[0;31m# Handle mask propagation.\u001b[0m\u001b[0;34m\u001b[0m\u001b[0;34m\u001b[0m\u001b[0m\n",
      "\u001b[0;32m/home/parallellab2/anaconda2/envs/cs231nenv/lib/python3.6/site-packages/keras/engine/topology.py\u001b[0m in \u001b[0;36massert_input_compatibility\u001b[0;34m(self, inputs)\u001b[0m\n\u001b[1;32m    423\u001b[0m                                  \u001b[0;34m'Received type: '\u001b[0m \u001b[0;34m+\u001b[0m\u001b[0;34m\u001b[0m\u001b[0m\n\u001b[1;32m    424\u001b[0m                                  \u001b[0mstr\u001b[0m\u001b[0;34m(\u001b[0m\u001b[0mtype\u001b[0m\u001b[0;34m(\u001b[0m\u001b[0mx\u001b[0m\u001b[0;34m)\u001b[0m\u001b[0;34m)\u001b[0m \u001b[0;34m+\u001b[0m \u001b[0;34m'. Full input: '\u001b[0m \u001b[0;34m+\u001b[0m\u001b[0;34m\u001b[0m\u001b[0m\n\u001b[0;32m--> 425\u001b[0;31m                                  \u001b[0mstr\u001b[0m\u001b[0;34m(\u001b[0m\u001b[0minputs\u001b[0m\u001b[0;34m)\u001b[0m \u001b[0;34m+\u001b[0m \u001b[0;34m'. All inputs to the layer '\u001b[0m\u001b[0;34m\u001b[0m\u001b[0m\n\u001b[0m\u001b[1;32m    426\u001b[0m                                  'should be tensors.')\n\u001b[1;32m    427\u001b[0m \u001b[0;34m\u001b[0m\u001b[0m\n",
      "\u001b[0;31mValueError\u001b[0m: Layer dense_10 was called with an input that isn't a symbolic tensor. Received type: <class 'keras.layers.core.Dense'>. Full input: [<keras.layers.core.Dense object at 0x7fca355d5f98>]. All inputs to the layer should be tensors."
     ]
    }
   ],
   "source": [
    "#encoded_input = Input(shape=(32,))\n",
    "decoder_layer = autoencoder.layers[-2]\n",
    "decoder_layer=autoencoder.layers[-1](decoder_layer)\n",
    "\n",
    "#decoder = Model(encoded_input, decoder_layer)"
   ]
  },
  {
   "cell_type": "code",
   "execution_count": null,
   "metadata": {
    "collapsed": true
   },
   "outputs": [],
   "source": []
  }
 ],
 "metadata": {
  "kernelspec": {
   "display_name": "Python 3",
   "language": "python",
   "name": "python3"
  },
  "language_info": {
   "codemirror_mode": {
    "name": "ipython",
    "version": 3
   },
   "file_extension": ".py",
   "mimetype": "text/x-python",
   "name": "python",
   "nbconvert_exporter": "python",
   "pygments_lexer": "ipython3",
   "version": "3.6.1"
  }
 },
 "nbformat": 4,
 "nbformat_minor": 2
}
