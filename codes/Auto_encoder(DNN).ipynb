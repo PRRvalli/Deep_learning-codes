{
 "cells": [
  {
   "cell_type": "code",
   "execution_count": 19,
   "metadata": {
    "collapsed": true
   },
   "outputs": [],
   "source": [
    "import numpy as np\n",
    "import theano \n",
    "from keras.layers import Input, Dense\n",
    "from keras.models import Model\n",
    "import matplotlib.pyplot as plt\n",
    "from keras import regularizers\n"
   ]
  },
  {
   "cell_type": "code",
   "execution_count": 4,
   "metadata": {
    "collapsed": true
   },
   "outputs": [],
   "source": [
    "#load data\n",
    "from keras.datasets import mnist\n",
    "import numpy as np\n",
    "(x_train, y_train), (x_test, y_test) = mnist.load_data()"
   ]
  },
  {
   "cell_type": "code",
   "execution_count": 7,
   "metadata": {},
   "outputs": [
    {
     "name": "stdout",
     "output_type": "stream",
     "text": [
      "shape of xtrain(60000, 28, 28)\n",
      "shape of ytrain(60000,)\n",
      "shape of xtest(10000, 28, 28)\n",
      "shape of ytest(10000,)\n"
     ]
    }
   ],
   "source": [
    "print('shape of xtrain'+str(x_train.shape))\n",
    "print('shape of ytrain'+str(y_train.shape))\n",
    "print('shape of xtest'+str(x_test.shape))\n",
    "print('shape of ytest'+str(y_test.shape))"
   ]
  },
  {
   "cell_type": "code",
   "execution_count": 8,
   "metadata": {},
   "outputs": [
    {
     "name": "stdout",
     "output_type": "stream",
     "text": [
      "(60000, 784)\n",
      "(10000, 784)\n"
     ]
    }
   ],
   "source": [
    "# reshaping \n",
    "x_train = x_train.astype('float32') / 255.\n",
    "x_test = x_test.astype('float32') / 255.\n",
    "Xtrain = x_train.reshape((len(x_train), np.prod(x_train.shape[1:])))\n",
    "Xtest = x_test.reshape((len(x_test), np.prod(x_test.shape[1:])))\n",
    "print(Xtrain.shape)\n",
    "print(Xtest.shape)"
   ]
  },
  {
   "cell_type": "code",
   "execution_count": 10,
   "metadata": {
    "collapsed": true
   },
   "outputs": [],
   "source": [
    "# one layer encoder decoder \n",
    "input_img = Input(shape=(784,))\n",
    "# \"encoded\" is the encoded representation of the input\n",
    "encoded = Dense(32, activation='relu')(input_img)\n",
    "# \"decoded\" is the lossy reconstruction of the input\n",
    "decoded = Dense(784, activation='sigmoid')(encoded)\n",
    "\n",
    "# this model maps an input to its reconstruction\n",
    "autoencoder = Model(input_img, decoded)\n"
   ]
  },
  {
   "cell_type": "code",
   "execution_count": 22,
   "metadata": {
    "collapsed": true
   },
   "outputs": [],
   "source": [
    "def fit_model(model,x_train,x_test,num):\n",
    "    \n",
    "    model.compile(optimizer='adadelta', loss='binary_crossentropy')\n",
    "    model.fit(x_train, x_train,\n",
    "                epochs=num,\n",
    "                batch_size=256,\n",
    "                shuffle=True,\n",
    "                validation_data=(x_test, x_test))"
   ]
  },
  {
   "cell_type": "code",
   "execution_count": 13,
   "metadata": {
    "scrolled": true
   },
   "outputs": [
    {
     "name": "stdout",
     "output_type": "stream",
     "text": [
      "Train on 60000 samples, validate on 10000 samples\n",
      "Epoch 1/50\n",
      "60000/60000 [==============================] - 5s - loss: 0.3715 - val_loss: 0.2725\n",
      "Epoch 2/50\n",
      "60000/60000 [==============================] - 5s - loss: 0.2654 - val_loss: 0.2548\n",
      "Epoch 3/50\n",
      "60000/60000 [==============================] - 5s - loss: 0.2448 - val_loss: 0.2325\n",
      "Epoch 4/50\n",
      "60000/60000 [==============================] - 5s - loss: 0.2245 - val_loss: 0.2141\n",
      "Epoch 5/50\n",
      "60000/60000 [==============================] - 5s - loss: 0.2086 - val_loss: 0.2007\n",
      "Epoch 6/50\n",
      "60000/60000 [==============================] - 5s - loss: 0.1973 - val_loss: 0.1912\n",
      "Epoch 7/50\n",
      "60000/60000 [==============================] - 5s - loss: 0.1889 - val_loss: 0.1838\n",
      "Epoch 8/50\n",
      "60000/60000 [==============================] - 5s - loss: 0.1821 - val_loss: 0.1777\n",
      "Epoch 9/50\n",
      "60000/60000 [==============================] - 5s - loss: 0.1764 - val_loss: 0.1723\n",
      "Epoch 10/50\n",
      "60000/60000 [==============================] - 5s - loss: 0.1714 - val_loss: 0.1678\n",
      "Epoch 11/50\n",
      "60000/60000 [==============================] - 5s - loss: 0.1671 - val_loss: 0.1639\n",
      "Epoch 12/50\n",
      "60000/60000 [==============================] - 5s - loss: 0.1633 - val_loss: 0.1601\n",
      "Epoch 13/50\n",
      "60000/60000 [==============================] - 5s - loss: 0.1598 - val_loss: 0.1567\n",
      "Epoch 14/50\n",
      "60000/60000 [==============================] - 5s - loss: 0.1566 - val_loss: 0.1536\n",
      "Epoch 15/50\n",
      "60000/60000 [==============================] - 5s - loss: 0.1535 - val_loss: 0.1504\n",
      "Epoch 16/50\n",
      "60000/60000 [==============================] - 5s - loss: 0.1505 - val_loss: 0.1475\n",
      "Epoch 17/50\n",
      "60000/60000 [==============================] - 5s - loss: 0.1476 - val_loss: 0.1447\n",
      "Epoch 18/50\n",
      "60000/60000 [==============================] - 5s - loss: 0.1449 - val_loss: 0.1420\n",
      "Epoch 19/50\n",
      "60000/60000 [==============================] - 5s - loss: 0.1423 - val_loss: 0.1396\n",
      "Epoch 20/50\n",
      "60000/60000 [==============================] - 5s - loss: 0.1399 - val_loss: 0.1373\n",
      "Epoch 21/50\n",
      "60000/60000 [==============================] - 5s - loss: 0.1376 - val_loss: 0.1351\n",
      "Epoch 22/50\n",
      "60000/60000 [==============================] - 5s - loss: 0.1355 - val_loss: 0.1329\n",
      "Epoch 23/50\n",
      "60000/60000 [==============================] - 5s - loss: 0.1334 - val_loss: 0.1309\n",
      "Epoch 24/50\n",
      "60000/60000 [==============================] - 5s - loss: 0.1314 - val_loss: 0.1289\n",
      "Epoch 25/50\n",
      "60000/60000 [==============================] - 5s - loss: 0.1295 - val_loss: 0.1271\n",
      "Epoch 26/50\n",
      "60000/60000 [==============================] - 5s - loss: 0.1277 - val_loss: 0.1253\n",
      "Epoch 27/50\n",
      "60000/60000 [==============================] - 5s - loss: 0.1259 - val_loss: 0.1235\n",
      "Epoch 28/50\n",
      "60000/60000 [==============================] - 5s - loss: 0.1242 - val_loss: 0.1219\n",
      "Epoch 29/50\n",
      "60000/60000 [==============================] - 5s - loss: 0.1227 - val_loss: 0.1204\n",
      "Epoch 30/50\n",
      "60000/60000 [==============================] - 5s - loss: 0.1212 - val_loss: 0.1189\n",
      "Epoch 31/50\n",
      "60000/60000 [==============================] - 5s - loss: 0.1197 - val_loss: 0.1175\n",
      "Epoch 32/50\n",
      "60000/60000 [==============================] - 5s - loss: 0.1184 - val_loss: 0.1161\n",
      "Epoch 33/50\n",
      "60000/60000 [==============================] - 6s - loss: 0.1171 - val_loss: 0.1150\n",
      "Epoch 34/50\n",
      "60000/60000 [==============================] - 5s - loss: 0.1159 - val_loss: 0.1138\n",
      "Epoch 35/50\n",
      "60000/60000 [==============================] - 5s - loss: 0.1148 - val_loss: 0.1127\n",
      "Epoch 36/50\n",
      "60000/60000 [==============================] - 5s - loss: 0.1137 - val_loss: 0.1117\n",
      "Epoch 37/50\n",
      "60000/60000 [==============================] - 5s - loss: 0.1128 - val_loss: 0.1107\n",
      "Epoch 38/50\n",
      "60000/60000 [==============================] - 5s - loss: 0.1119 - val_loss: 0.1098\n",
      "Epoch 39/50\n",
      "60000/60000 [==============================] - 6s - loss: 0.1110 - val_loss: 0.1090\n",
      "Epoch 40/50\n",
      "60000/60000 [==============================] - 5s - loss: 0.1102 - val_loss: 0.1083\n",
      "Epoch 41/50\n",
      "60000/60000 [==============================] - 6s - loss: 0.1095 - val_loss: 0.1075\n",
      "Epoch 42/50\n",
      "60000/60000 [==============================] - 5s - loss: 0.1088 - val_loss: 0.1069\n",
      "Epoch 43/50\n",
      "60000/60000 [==============================] - 6s - loss: 0.1082 - val_loss: 0.1063\n",
      "Epoch 44/50\n",
      "60000/60000 [==============================] - 5s - loss: 0.1076 - val_loss: 0.1057\n",
      "Epoch 45/50\n",
      "60000/60000 [==============================] - 5s - loss: 0.1070 - val_loss: 0.1051\n",
      "Epoch 46/50\n",
      "60000/60000 [==============================] - 5s - loss: 0.1065 - val_loss: 0.1046\n",
      "Epoch 47/50\n",
      "60000/60000 [==============================] - 5s - loss: 0.1060 - val_loss: 0.1041\n",
      "Epoch 48/50\n",
      "60000/60000 [==============================] - 5s - loss: 0.1056 - val_loss: 0.1037\n",
      "Epoch 49/50\n",
      "60000/60000 [==============================] - 5s - loss: 0.1051 - val_loss: 0.1033\n",
      "Epoch 50/50\n",
      "60000/60000 [==============================] - 5s - loss: 0.1047 - val_loss: 0.1029\n"
     ]
    }
   ],
   "source": [
    "fit_model(autoencoder,Xtrain,Xtest)"
   ]
  },
  {
   "cell_type": "code",
   "execution_count": 14,
   "metadata": {},
   "outputs": [
    {
     "name": "stdout",
     "output_type": "stream",
     "text": [
      "(10000, 32)\n"
     ]
    }
   ],
   "source": [
    "Xpred=encoded.eval({input_img:Xtest})\n",
    "print(Xpred.shape)"
   ]
  },
  {
   "cell_type": "code",
   "execution_count": 15,
   "metadata": {},
   "outputs": [
    {
     "name": "stdout",
     "output_type": "stream",
     "text": [
      "(10000, 784)\n"
     ]
    }
   ],
   "source": [
    "Xdecoded=decoded.eval({encoded:Xpred})\n",
    "print(Xdecoded.shape)"
   ]
  },
  {
   "cell_type": "code",
   "execution_count": 17,
   "metadata": {
    "collapsed": true
   },
   "outputs": [],
   "source": [
    "def plot_output(x_test,decoded_imgs):\n",
    "    n = 10  # how many digits we will display\n",
    "    plt.figure(figsize=(20, 4))\n",
    "    for i in range(n):\n",
    "        # display original\n",
    "        ax = plt.subplot(2, n, i + 1)\n",
    "        plt.imshow(x_test[i].reshape(28, 28))\n",
    "        plt.gray()\n",
    "        ax.get_xaxis().set_visible(False)\n",
    "        ax.get_yaxis().set_visible(False)\n",
    "\n",
    "        # display reconstruction\n",
    "        ax = plt.subplot(2, n, i + 1 + n)\n",
    "        plt.imshow(decoded_imgs[i].reshape(28, 28))\n",
    "        plt.gray()\n",
    "        ax.get_xaxis().set_visible(False)\n",
    "        ax.get_yaxis().set_visible(False)\n",
    "    plt.show()"
   ]
  },
  {
   "cell_type": "code",
   "execution_count": 18,
   "metadata": {},
   "outputs": [
    {
     "data": {
      "image/png": "[encoded data removed]",
      "text/plain": [
       "<matplotlib.figure.Figure at 0x7ff1eca2e4a8>"
      ]
     },
     "metadata": {},
     "output_type": "display_data"
    }
   ],
   "source": [
    "plot_output(Xtest,Xdecoded)"
   ]
  },
  {
   "cell_type": "code",
   "execution_count": 23,
   "metadata": {
    "scrolled": true
   },
   "outputs": [
    {
     "name": "stdout",
     "output_type": "stream",
     "text": [
      "Train on 60000 samples, validate on 10000 samples\n",
      "Epoch 1/100\n",
      "60000/60000 [==============================] - 5s - loss: 0.6839 - val_loss: 0.6606\n",
      "Epoch 2/100\n",
      "60000/60000 [==============================] - 5s - loss: 0.6439 - val_loss: 0.6272\n",
      "Epoch 3/100\n",
      "60000/60000 [==============================] - 5s - loss: 0.6111 - val_loss: 0.5952\n",
      "Epoch 4/100\n",
      "60000/60000 [==============================] - 5s - loss: 0.5801 - val_loss: 0.5655\n",
      "Epoch 5/100\n",
      "60000/60000 [==============================] - 5s - loss: 0.5518 - val_loss: 0.5386\n",
      "Epoch 6/100\n",
      "60000/60000 [==============================] - 5s - loss: 0.5263 - val_loss: 0.5145\n",
      "Epoch 7/100\n",
      "60000/60000 [==============================] - 5s - loss: 0.5036 - val_loss: 0.4932\n",
      "Epoch 8/100\n",
      "60000/60000 [==============================] - 5s - loss: 0.4835 - val_loss: 0.4743\n",
      "Epoch 9/100\n",
      "60000/60000 [==============================] - 5s - loss: 0.4658 - val_loss: 0.4577\n",
      "Epoch 10/100\n",
      "60000/60000 [==============================] - 5s - loss: 0.4501 - val_loss: 0.4429\n",
      "Epoch 11/100\n",
      "60000/60000 [==============================] - 5s - loss: 0.4362 - val_loss: 0.4299\n",
      "Epoch 12/100\n",
      "60000/60000 [==============================] - 5s - loss: 0.4238 - val_loss: 0.4182\n",
      "Epoch 13/100\n",
      "60000/60000 [==============================] - 5s - loss: 0.4128 - val_loss: 0.4079\n",
      "Epoch 14/100\n",
      "60000/60000 [==============================] - 5s - loss: 0.4030 - val_loss: 0.3986\n",
      "Epoch 15/100\n",
      "60000/60000 [==============================] - 5s - loss: 0.3942 - val_loss: 0.3902\n",
      "Epoch 16/100\n",
      "60000/60000 [==============================] - 5s - loss: 0.3862 - val_loss: 0.3826\n",
      "Epoch 17/100\n",
      "60000/60000 [==============================] - 5s - loss: 0.3790 - val_loss: 0.3758\n",
      "Epoch 18/100\n",
      "60000/60000 [==============================] - 5s - loss: 0.3725 - val_loss: 0.3695\n",
      "Epoch 19/100\n",
      "60000/60000 [==============================] - 5s - loss: 0.3665 - val_loss: 0.3639\n",
      "Epoch 20/100\n",
      "60000/60000 [==============================] - 5s - loss: 0.3611 - val_loss: 0.3587\n",
      "Epoch 21/100\n",
      "60000/60000 [==============================] - 5s - loss: 0.3561 - val_loss: 0.3539\n",
      "Epoch 22/100\n",
      "60000/60000 [==============================] - 5s - loss: 0.3516 - val_loss: 0.3496\n",
      "Epoch 23/100\n",
      "60000/60000 [==============================] - 5s - loss: 0.3474 - val_loss: 0.3455\n",
      "Epoch 24/100\n",
      "60000/60000 [==============================] - 5s - loss: 0.3435 - val_loss: 0.3418\n",
      "Epoch 25/100\n",
      "60000/60000 [==============================] - 5s - loss: 0.3399 - val_loss: 0.3384\n",
      "Epoch 26/100\n",
      "60000/60000 [==============================] - 5s - loss: 0.3366 - val_loss: 0.3352\n",
      "Epoch 27/100\n",
      "60000/60000 [==============================] - 5s - loss: 0.3335 - val_loss: 0.3322\n",
      "Epoch 28/100\n",
      "60000/60000 [==============================] - 5s - loss: 0.3307 - val_loss: 0.3294\n",
      "Epoch 29/100\n",
      "60000/60000 [==============================] - 5s - loss: 0.3280 - val_loss: 0.3269\n",
      "Epoch 30/100\n",
      "60000/60000 [==============================] - 5s - loss: 0.3255 - val_loss: 0.3245\n",
      "Epoch 31/100\n",
      "60000/60000 [==============================] - 5s - loss: 0.3232 - val_loss: 0.3222\n",
      "Epoch 32/100\n",
      "60000/60000 [==============================] - 5s - loss: 0.3210 - val_loss: 0.3201\n",
      "Epoch 33/100\n",
      "60000/60000 [==============================] - 5s - loss: 0.3189 - val_loss: 0.3181\n",
      "Epoch 34/100\n",
      "60000/60000 [==============================] - 5s - loss: 0.3170 - val_loss: 0.3162\n",
      "Epoch 35/100\n",
      "60000/60000 [==============================] - 5s - loss: 0.3152 - val_loss: 0.3145\n",
      "Epoch 36/100\n",
      "60000/60000 [==============================] - 5s - loss: 0.3135 - val_loss: 0.3128\n",
      "Epoch 37/100\n",
      "60000/60000 [==============================] - 5s - loss: 0.3119 - val_loss: 0.3112\n",
      "Epoch 38/100\n",
      "60000/60000 [==============================] - 5s - loss: 0.3103 - val_loss: 0.3097\n",
      "Epoch 39/100\n",
      "60000/60000 [==============================] - 5s - loss: 0.3089 - val_loss: 0.3083\n",
      "Epoch 40/100\n",
      "60000/60000 [==============================] - 5s - loss: 0.3075 - val_loss: 0.3070\n",
      "Epoch 41/100\n",
      "60000/60000 [==============================] - 5s - loss: 0.3062 - val_loss: 0.3057\n",
      "Epoch 42/100\n",
      "60000/60000 [==============================] - 5s - loss: 0.3050 - val_loss: 0.3045\n",
      "Epoch 43/100\n",
      "60000/60000 [==============================] - 5s - loss: 0.3038 - val_loss: 0.3034\n",
      "Epoch 44/100\n",
      "60000/60000 [==============================] - 5s - loss: 0.3027 - val_loss: 0.3023\n",
      "Epoch 45/100\n",
      "60000/60000 [==============================] - 5s - loss: 0.3016 - val_loss: 0.3012\n",
      "Epoch 46/100\n",
      "60000/60000 [==============================] - 5s - loss: 0.3006 - val_loss: 0.3002\n",
      "Epoch 47/100\n",
      "60000/60000 [==============================] - 5s - loss: 0.2997 - val_loss: 0.2993\n",
      "Epoch 48/100\n",
      "60000/60000 [==============================] - 5s - loss: 0.2987 - val_loss: 0.2984\n",
      "Epoch 49/100\n",
      "60000/60000 [==============================] - 4s - loss: 0.2979 - val_loss: 0.2975\n",
      "Epoch 50/100\n",
      "60000/60000 [==============================] - 5s - loss: 0.2970 - val_loss: 0.2967\n",
      "Epoch 51/100\n",
      "60000/60000 [==============================] - 5s - loss: 0.2962 - val_loss: 0.2959\n",
      "Epoch 52/100\n",
      "60000/60000 [==============================] - 5s - loss: 0.2954 - val_loss: 0.2951\n",
      "Epoch 53/100\n",
      "60000/60000 [==============================] - 5s - loss: 0.2947 - val_loss: 0.2944\n",
      "Epoch 54/100\n",
      "60000/60000 [==============================] - 5s - loss: 0.2940 - val_loss: 0.2937\n",
      "Epoch 55/100\n",
      "60000/60000 [==============================] - 5s - loss: 0.2933 - val_loss: 0.2930\n",
      "Epoch 56/100\n",
      "60000/60000 [==============================] - 5s - loss: 0.2926 - val_loss: 0.2924\n",
      "Epoch 57/100\n",
      "60000/60000 [==============================] - 5s - loss: 0.2920 - val_loss: 0.2917\n",
      "Epoch 58/100\n",
      "60000/60000 [==============================] - 5s - loss: 0.2914 - val_loss: 0.2911\n",
      "Epoch 59/100\n",
      "60000/60000 [==============================] - 5s - loss: 0.2908 - val_loss: 0.2906\n",
      "Epoch 60/100\n",
      "60000/60000 [==============================] - 5s - loss: 0.2902 - val_loss: 0.2900\n",
      "Epoch 61/100\n",
      "60000/60000 [==============================] - 5s - loss: 0.2897 - val_loss: 0.2895\n",
      "Epoch 62/100\n",
      "60000/60000 [==============================] - 5s - loss: 0.2892 - val_loss: 0.2889\n",
      "Epoch 63/100\n",
      "60000/60000 [==============================] - 5s - loss: 0.2886 - val_loss: 0.2884\n",
      "Epoch 64/100\n",
      "60000/60000 [==============================] - 5s - loss: 0.2882 - val_loss: 0.2880\n",
      "Epoch 65/100\n",
      "60000/60000 [==============================] - 5s - loss: 0.2877 - val_loss: 0.2875\n",
      "Epoch 66/100\n",
      "60000/60000 [==============================] - 5s - loss: 0.2872 - val_loss: 0.2870\n",
      "Epoch 67/100\n",
      "60000/60000 [==============================] - 5s - loss: 0.2868 - val_loss: 0.2866\n",
      "Epoch 68/100\n",
      "60000/60000 [==============================] - 5s - loss: 0.2863 - val_loss: 0.2862\n",
      "Epoch 69/100\n",
      "60000/60000 [==============================] - 6s - loss: 0.2859 - val_loss: 0.2858\n",
      "Epoch 70/100\n",
      "60000/60000 [==============================] - 5s - loss: 0.2855 - val_loss: 0.2854\n",
      "Epoch 71/100\n",
      "60000/60000 [==============================] - 5s - loss: 0.2851 - val_loss: 0.2850\n",
      "Epoch 72/100\n",
      "60000/60000 [==============================] - 5s - loss: 0.2848 - val_loss: 0.2846\n",
      "Epoch 73/100\n",
      "60000/60000 [==============================] - 5s - loss: 0.2844 - val_loss: 0.2842\n",
      "Epoch 74/100\n",
      "60000/60000 [==============================] - 5s - loss: 0.2840 - val_loss: 0.2839\n",
      "Epoch 75/100\n",
      "60000/60000 [==============================] - 5s - loss: 0.2837 - val_loss: 0.2835\n",
      "Epoch 76/100\n",
      "60000/60000 [==============================] - 5s - loss: 0.2834 - val_loss: 0.2832\n",
      "Epoch 77/100\n",
      "60000/60000 [==============================] - 5s - loss: 0.2830 - val_loss: 0.2829\n",
      "Epoch 78/100\n",
      "60000/60000 [==============================] - 5s - loss: 0.2827 - val_loss: 0.2826\n",
      "Epoch 79/100\n",
      "60000/60000 [==============================] - 5s - loss: 0.2824 - val_loss: 0.2823\n",
      "Epoch 80/100\n",
      "60000/60000 [==============================] - 5s - loss: 0.2821 - val_loss: 0.2820\n",
      "Epoch 81/100\n",
      "60000/60000 [==============================] - 5s - loss: 0.2818 - val_loss: 0.2817\n",
      "Epoch 82/100\n",
      "60000/60000 [==============================] - 5s - loss: 0.2815 - val_loss: 0.2814\n",
      "Epoch 83/100\n",
      "60000/60000 [==============================] - 5s - loss: 0.2813 - val_loss: 0.2811\n",
      "Epoch 84/100\n",
      "60000/60000 [==============================] - 6s - loss: 0.2810 - val_loss: 0.2808\n",
      "Epoch 85/100\n"
     ]
    },
    {
     "name": "stdout",
     "output_type": "stream",
     "text": [
      "60000/60000 [==============================] - 5s - loss: 0.2807 - val_loss: 0.2806\n",
      "Epoch 86/100\n",
      "60000/60000 [==============================] - 6s - loss: 0.2805 - val_loss: 0.2803\n",
      "Epoch 87/100\n",
      "60000/60000 [==============================] - 5s - loss: 0.2802 - val_loss: 0.2801\n",
      "Epoch 88/100\n",
      "60000/60000 [==============================] - 5s - loss: 0.2800 - val_loss: 0.2798\n",
      "Epoch 89/100\n",
      "60000/60000 [==============================] - 5s - loss: 0.2798 - val_loss: 0.2796\n",
      "Epoch 90/100\n",
      "60000/60000 [==============================] - 5s - loss: 0.2795 - val_loss: 0.2794\n",
      "Epoch 91/100\n",
      "60000/60000 [==============================] - 5s - loss: 0.2793 - val_loss: 0.2792\n",
      "Epoch 92/100\n",
      "60000/60000 [==============================] - 5s - loss: 0.2791 - val_loss: 0.2789\n",
      "Epoch 93/100\n",
      "60000/60000 [==============================] - 5s - loss: 0.2789 - val_loss: 0.2787\n",
      "Epoch 94/100\n",
      "60000/60000 [==============================] - 5s - loss: 0.2787 - val_loss: 0.2785\n",
      "Epoch 95/100\n",
      "60000/60000 [==============================] - 5s - loss: 0.2785 - val_loss: 0.2783\n",
      "Epoch 96/100\n",
      "60000/60000 [==============================] - 5s - loss: 0.2783 - val_loss: 0.2781\n",
      "Epoch 97/100\n",
      "60000/60000 [==============================] - 5s - loss: 0.2781 - val_loss: 0.2779\n",
      "Epoch 98/100\n",
      "60000/60000 [==============================] - 5s - loss: 0.2779 - val_loss: 0.2777\n",
      "Epoch 99/100\n",
      "60000/60000 [==============================] - 5s - loss: 0.2777 - val_loss: 0.2775\n",
      "Epoch 100/100\n",
      "60000/60000 [==============================] - 5s - loss: 0.2775 - val_loss: 0.2774\n",
      "(10000, 32)\n",
      "(10000, 784)\n"
     ]
    }
   ],
   "source": [
    "# multilayer and inclusion of regularization l1/l2\n",
    "encoding_dim = 32\n",
    "\n",
    "input_img = Input(shape=(784,))\n",
    "# add a Dense layer with a L1 activity regularizer\n",
    "encoded = Dense(encoding_dim, activation='relu',\n",
    "                activity_regularizer=regularizers.l1(10e-5))(input_img)\n",
    "decoded = Dense(784, activation='sigmoid')(encoded)\n",
    "\n",
    "autoencoder = Model(input_img, decoded)\n",
    "fit_model(autoencoder,Xtrain,Xtest,100)\n",
    "Xpred=encoded.eval({input_img:Xtest})\n",
    "print(Xpred.shape)\n",
    "Xdecoded=decoded.eval({encoded:Xpred})\n",
    "print(Xdecoded.shape)"
   ]
  },
  {
   "cell_type": "code",
   "execution_count": 24,
   "metadata": {},
   "outputs": [
    {
     "data": {
      "image/png": "[encoded data removed]",
      "text/plain": [
       "<matplotlib.figure.Figure at 0x7ff1de7ee518>"
      ]
     },
     "metadata": {},
     "output_type": "display_data"
    }
   ],
   "source": [
    "plot_output(Xtest,Xdecoded)"
   ]
  },
  {
   "cell_type": "code",
   "execution_count": 25,
   "metadata": {
    "scrolled": true
   },
   "outputs": [
    {
     "name": "stdout",
     "output_type": "stream",
     "text": [
      "Train on 60000 samples, validate on 10000 samples\n",
      "Epoch 1/100\n",
      "60000/60000 [==============================] - 6s - loss: 0.3315 - val_loss: 0.2632\n",
      "Epoch 2/100\n",
      "60000/60000 [==============================] - 6s - loss: 0.2579 - val_loss: 0.2510\n",
      "Epoch 3/100\n",
      "60000/60000 [==============================] - 5s - loss: 0.2429 - val_loss: 0.2335\n",
      "Epoch 4/100\n",
      "60000/60000 [==============================] - 7s - loss: 0.2242 - val_loss: 0.2141\n",
      "Epoch 5/100\n",
      "60000/60000 [==============================] - 6s - loss: 0.2076 - val_loss: 0.1990\n",
      "Epoch 6/100\n",
      "60000/60000 [==============================] - 6s - loss: 0.1966 - val_loss: 0.1919\n",
      "Epoch 7/100\n",
      "60000/60000 [==============================] - 6s - loss: 0.1887 - val_loss: 0.1826\n",
      "Epoch 8/100\n",
      "60000/60000 [==============================] - 6s - loss: 0.1810 - val_loss: 0.1785\n",
      "Epoch 9/100\n",
      "60000/60000 [==============================] - 6s - loss: 0.1753 - val_loss: 0.1702\n",
      "Epoch 10/100\n",
      "60000/60000 [==============================] - 6s - loss: 0.1705 - val_loss: 0.1669\n",
      "Epoch 11/100\n",
      "60000/60000 [==============================] - 6s - loss: 0.1663 - val_loss: 0.1636\n",
      "Epoch 12/100\n",
      "60000/60000 [==============================] - 6s - loss: 0.1626 - val_loss: 0.1616\n",
      "Epoch 13/100\n",
      "60000/60000 [==============================] - 6s - loss: 0.1591 - val_loss: 0.1555\n",
      "Epoch 14/100\n",
      "60000/60000 [==============================] - 6s - loss: 0.1555 - val_loss: 0.1527\n",
      "Epoch 15/100\n",
      "60000/60000 [==============================] - 6s - loss: 0.1524 - val_loss: 0.1510\n",
      "Epoch 16/100\n",
      "60000/60000 [==============================] - 6s - loss: 0.1499 - val_loss: 0.1466\n",
      "Epoch 17/100\n",
      "60000/60000 [==============================] - 6s - loss: 0.1476 - val_loss: 0.1461\n",
      "Epoch 18/100\n",
      "60000/60000 [==============================] - 6s - loss: 0.1457 - val_loss: 0.1435\n",
      "Epoch 19/100\n",
      "60000/60000 [==============================] - 6s - loss: 0.1436 - val_loss: 0.1400\n",
      "Epoch 20/100\n",
      "60000/60000 [==============================] - 6s - loss: 0.1417 - val_loss: 0.1395\n",
      "Epoch 21/100\n",
      "60000/60000 [==============================] - 6s - loss: 0.1397 - val_loss: 0.1373\n",
      "Epoch 22/100\n",
      "60000/60000 [==============================] - 6s - loss: 0.1384 - val_loss: 0.1354\n",
      "Epoch 23/100\n",
      "60000/60000 [==============================] - 6s - loss: 0.1369 - val_loss: 0.1355\n",
      "Epoch 24/100\n",
      "60000/60000 [==============================] - 6s - loss: 0.1355 - val_loss: 0.1334\n",
      "Epoch 25/100\n",
      "60000/60000 [==============================] - 6s - loss: 0.1343 - val_loss: 0.1334\n",
      "Epoch 26/100\n",
      "60000/60000 [==============================] - 7s - loss: 0.1330 - val_loss: 0.1307\n",
      "Epoch 27/100\n",
      "60000/60000 [==============================] - 6s - loss: 0.1319 - val_loss: 0.1298\n",
      "Epoch 28/100\n",
      "60000/60000 [==============================] - 6s - loss: 0.1307 - val_loss: 0.1288\n",
      "Epoch 29/100\n",
      "60000/60000 [==============================] - 7s - loss: 0.1296 - val_loss: 0.1267\n",
      "Epoch 30/100\n",
      "60000/60000 [==============================] - 7s - loss: 0.1284 - val_loss: 0.1272\n",
      "Epoch 31/100\n",
      "60000/60000 [==============================] - 6s - loss: 0.1273 - val_loss: 0.1251\n",
      "Epoch 32/100\n",
      "60000/60000 [==============================] - 6s - loss: 0.1263 - val_loss: 0.1246\n",
      "Epoch 33/100\n",
      "60000/60000 [==============================] - 6s - loss: 0.1254 - val_loss: 0.1244\n",
      "Epoch 34/100\n",
      "60000/60000 [==============================] - 6s - loss: 0.1246 - val_loss: 0.1228\n",
      "Epoch 35/100\n",
      "60000/60000 [==============================] - 6s - loss: 0.1239 - val_loss: 0.1233\n",
      "Epoch 36/100\n",
      "60000/60000 [==============================] - 6s - loss: 0.1232 - val_loss: 0.1216\n",
      "Epoch 37/100\n",
      "60000/60000 [==============================] - 6s - loss: 0.1224 - val_loss: 0.1207\n",
      "Epoch 38/100\n",
      "60000/60000 [==============================] - 6s - loss: 0.1220 - val_loss: 0.1207\n",
      "Epoch 39/100\n",
      "60000/60000 [==============================] - 6s - loss: 0.1215 - val_loss: 0.1190\n",
      "Epoch 40/100\n",
      "60000/60000 [==============================] - 7s - loss: 0.1208 - val_loss: 0.1200\n",
      "Epoch 41/100\n",
      "60000/60000 [==============================] - 6s - loss: 0.1203 - val_loss: 0.1189\n",
      "Epoch 42/100\n",
      "60000/60000 [==============================] - 6s - loss: 0.1197 - val_loss: 0.1179\n",
      "Epoch 43/100\n",
      "60000/60000 [==============================] - 7s - loss: 0.1192 - val_loss: 0.1180\n",
      "Epoch 44/100\n",
      "60000/60000 [==============================] - 6s - loss: 0.1186 - val_loss: 0.1174\n",
      "Epoch 45/100\n",
      "60000/60000 [==============================] - 6s - loss: 0.1181 - val_loss: 0.1178\n",
      "Epoch 46/100\n",
      "60000/60000 [==============================] - 6s - loss: 0.1177 - val_loss: 0.1170\n",
      "Epoch 47/100\n",
      "60000/60000 [==============================] - 6s - loss: 0.1172 - val_loss: 0.1164\n",
      "Epoch 48/100\n",
      "60000/60000 [==============================] - 7s - loss: 0.1167 - val_loss: 0.1159\n",
      "Epoch 49/100\n",
      "60000/60000 [==============================] - 6s - loss: 0.1162 - val_loss: 0.1147\n",
      "Epoch 50/100\n",
      "60000/60000 [==============================] - 6s - loss: 0.1157 - val_loss: 0.1135\n",
      "Epoch 51/100\n",
      "60000/60000 [==============================] - 6s - loss: 0.1152 - val_loss: 0.1135\n",
      "Epoch 52/100\n",
      "60000/60000 [==============================] - 6s - loss: 0.1147 - val_loss: 0.1135\n",
      "Epoch 53/100\n",
      "60000/60000 [==============================] - 6s - loss: 0.1142 - val_loss: 0.1132\n",
      "Epoch 54/100\n",
      "60000/60000 [==============================] - 6s - loss: 0.1138 - val_loss: 0.1130\n",
      "Epoch 55/100\n",
      "60000/60000 [==============================] - 6s - loss: 0.1132 - val_loss: 0.1120\n",
      "Epoch 56/100\n",
      "60000/60000 [==============================] - 6s - loss: 0.1128 - val_loss: 0.1111\n",
      "Epoch 57/100\n",
      "60000/60000 [==============================] - 6s - loss: 0.1124 - val_loss: 0.1106\n",
      "Epoch 58/100\n",
      "60000/60000 [==============================] - 6s - loss: 0.1118 - val_loss: 0.1102\n",
      "Epoch 59/100\n",
      "60000/60000 [==============================] - 6s - loss: 0.1114 - val_loss: 0.1106\n",
      "Epoch 60/100\n",
      "60000/60000 [==============================] - 7s - loss: 0.1109 - val_loss: 0.1088ss: \n",
      "Epoch 61/100\n",
      "60000/60000 [==============================] - 6s - loss: 0.1105 - val_loss: 0.1088\n",
      "Epoch 62/100\n",
      "60000/60000 [==============================] - 6s - loss: 0.1101 - val_loss: 0.1081\n",
      "Epoch 63/100\n",
      "60000/60000 [==============================] - 7s - loss: 0.1097 - val_loss: 0.1083\n",
      "Epoch 64/100\n",
      "60000/60000 [==============================] - 6s - loss: 0.1092 - val_loss: 0.1081\n",
      "Epoch 65/100\n",
      "60000/60000 [==============================] - 6s - loss: 0.1091 - val_loss: 0.1101\n",
      "Epoch 66/100\n",
      "60000/60000 [==============================] - 6s - loss: 0.1086 - val_loss: 0.1083\n",
      "Epoch 67/100\n",
      "60000/60000 [==============================] - 6s - loss: 0.1084 - val_loss: 0.1070\n",
      "Epoch 68/100\n",
      "60000/60000 [==============================] - 6s - loss: 0.1081 - val_loss: 0.1084\n",
      "Epoch 69/100\n",
      "60000/60000 [==============================] - 6s - loss: 0.1079 - val_loss: 0.1067\n",
      "Epoch 70/100\n",
      "60000/60000 [==============================] - 6s - loss: 0.1075 - val_loss: 0.1065\n",
      "Epoch 71/100\n",
      "60000/60000 [==============================] - 6s - loss: 0.1075 - val_loss: 0.1060\n",
      "Epoch 72/100\n",
      "60000/60000 [==============================] - 6s - loss: 0.1071 - val_loss: 0.1058\n",
      "Epoch 73/100\n",
      "60000/60000 [==============================] - 6s - loss: 0.1069 - val_loss: 0.1065\n",
      "Epoch 74/100\n",
      "60000/60000 [==============================] - 7s - loss: 0.1066 - val_loss: 0.1055\n",
      "Epoch 75/100\n",
      "60000/60000 [==============================] - 6s - loss: 0.1063 - val_loss: 0.1054\n",
      "Epoch 76/100\n",
      "60000/60000 [==============================] - 6s - loss: 0.1062 - val_loss: 0.1049\n",
      "Epoch 77/100\n",
      "60000/60000 [==============================] - 6s - loss: 0.1060 - val_loss: 0.1052\n",
      "Epoch 78/100\n",
      "60000/60000 [==============================] - 6s - loss: 0.1057 - val_loss: 0.1059\n",
      "Epoch 79/100\n",
      "60000/60000 [==============================] - 6s - loss: 0.1055 - val_loss: 0.1047\n",
      "Epoch 80/100\n",
      "60000/60000 [==============================] - 6s - loss: 0.1054 - val_loss: 0.1039\n",
      "Epoch 81/100\n",
      "60000/60000 [==============================] - 6s - loss: 0.1052 - val_loss: 0.1032\n",
      "Epoch 82/100\n",
      "60000/60000 [==============================] - 6s - loss: 0.1050 - val_loss: 0.1034\n",
      "Epoch 83/100\n",
      "60000/60000 [==============================] - 6s - loss: 0.1048 - val_loss: 0.1037\n",
      "Epoch 84/100\n",
      "60000/60000 [==============================] - 7s - loss: 0.1047 - val_loss: 0.1039\n",
      "Epoch 85/100\n"
     ]
    },
    {
     "name": "stdout",
     "output_type": "stream",
     "text": [
      "60000/60000 [==============================] - 7s - loss: 0.1043 - val_loss: 0.1036\n",
      "Epoch 86/100\n",
      "60000/60000 [==============================] - 6s - loss: 0.1042 - val_loss: 0.1024\n",
      "Epoch 87/100\n",
      "60000/60000 [==============================] - 6s - loss: 0.1041 - val_loss: 0.1027\n",
      "Epoch 88/100\n",
      "60000/60000 [==============================] - 6s - loss: 0.1039 - val_loss: 0.1028\n",
      "Epoch 89/100\n",
      "60000/60000 [==============================] - 6s - loss: 0.1037 - val_loss: 0.1023\n",
      "Epoch 90/100\n",
      "60000/60000 [==============================] - 6s - loss: 0.1037 - val_loss: 0.1026\n",
      "Epoch 91/100\n",
      "60000/60000 [==============================] - 6s - loss: 0.1035 - val_loss: 0.1020\n",
      "Epoch 92/100\n",
      "60000/60000 [==============================] - 6s - loss: 0.1033 - val_loss: 0.1026\n",
      "Epoch 93/100\n",
      "60000/60000 [==============================] - 6s - loss: 0.1031 - val_loss: 0.1015\n",
      "Epoch 94/100\n",
      "60000/60000 [==============================] - 6s - loss: 0.1031 - val_loss: 0.1022\n",
      "Epoch 95/100\n",
      "60000/60000 [==============================] - 6s - loss: 0.1029 - val_loss: 0.1021\n",
      "Epoch 96/100\n",
      "60000/60000 [==============================] - 6s - loss: 0.1027 - val_loss: 0.1015\n",
      "Epoch 97/100\n",
      "60000/60000 [==============================] - 6s - loss: 0.1026 - val_loss: 0.1014\n",
      "Epoch 98/100\n",
      "60000/60000 [==============================] - 6s - loss: 0.1024 - val_loss: 0.1010\n",
      "Epoch 99/100\n",
      "60000/60000 [==============================] - 6s - loss: 0.1023 - val_loss: 0.1027\n",
      "Epoch 100/100\n",
      "60000/60000 [==============================] - 6s - loss: 0.1020 - val_loss: 0.1016\n"
     ]
    },
    {
     "ename": "UnusedInputError",
     "evalue": "theano.function was asked to create a function computing outputs given certain inputs, but the provided input variable at index 0 is not part of the computational graph needed to compute the outputs: /input_5.\nTo make this error into a warning, you can pass the parameter on_unused_input='warn' to theano.function. To disable it completely, use on_unused_input='ignore'.",
     "output_type": "error",
     "traceback": [
      "\u001b[0;31m---------------------------------------------------------------------------\u001b[0m",
      "\u001b[0;31mUnusedInputError\u001b[0m                          Traceback (most recent call last)",
      "\u001b[0;32m<ipython-input-25-2dee707a4af1>\u001b[0m in \u001b[0;36m<module>\u001b[0;34m()\u001b[0m\n\u001b[1;32m      9\u001b[0m \u001b[0mautoencoder\u001b[0m \u001b[0;34m=\u001b[0m \u001b[0mModel\u001b[0m\u001b[0;34m(\u001b[0m\u001b[0minput_img\u001b[0m\u001b[0;34m,\u001b[0m \u001b[0mdecoded_3\u001b[0m\u001b[0;34m)\u001b[0m\u001b[0;34m\u001b[0m\u001b[0m\n\u001b[1;32m     10\u001b[0m \u001b[0mfit_model\u001b[0m\u001b[0;34m(\u001b[0m\u001b[0mautoencoder\u001b[0m\u001b[0;34m,\u001b[0m\u001b[0mXtrain\u001b[0m\u001b[0;34m,\u001b[0m\u001b[0mXtest\u001b[0m\u001b[0;34m,\u001b[0m\u001b[0;36m100\u001b[0m\u001b[0;34m)\u001b[0m\u001b[0;34m\u001b[0m\u001b[0m\n\u001b[0;32m---> 11\u001b[0;31m \u001b[0mXpred\u001b[0m\u001b[0;34m=\u001b[0m\u001b[0mencoded\u001b[0m\u001b[0;34m.\u001b[0m\u001b[0meval\u001b[0m\u001b[0;34m(\u001b[0m\u001b[0;34m{\u001b[0m\u001b[0minput_img\u001b[0m\u001b[0;34m:\u001b[0m\u001b[0mXtest\u001b[0m\u001b[0;34m}\u001b[0m\u001b[0;34m)\u001b[0m\u001b[0;34m\u001b[0m\u001b[0m\n\u001b[0m\u001b[1;32m     12\u001b[0m \u001b[0mprint\u001b[0m\u001b[0;34m(\u001b[0m\u001b[0mXpred\u001b[0m\u001b[0;34m.\u001b[0m\u001b[0mshape\u001b[0m\u001b[0;34m)\u001b[0m\u001b[0;34m\u001b[0m\u001b[0m\n\u001b[1;32m     13\u001b[0m \u001b[0mXdecoded\u001b[0m\u001b[0;34m=\u001b[0m\u001b[0mdecoded\u001b[0m\u001b[0;34m.\u001b[0m\u001b[0meval\u001b[0m\u001b[0;34m(\u001b[0m\u001b[0;34m{\u001b[0m\u001b[0mencoded\u001b[0m\u001b[0;34m:\u001b[0m\u001b[0mXpred\u001b[0m\u001b[0;34m}\u001b[0m\u001b[0;34m)\u001b[0m\u001b[0;34m\u001b[0m\u001b[0m\n",
      "\u001b[0;32m/home/parallellab2/anaconda2/envs/cs231nenv/lib/python3.6/site-packages/theano/gof/graph.py\u001b[0m in \u001b[0;36meval\u001b[0;34m(self, inputs_to_values)\u001b[0m\n\u001b[1;32m    514\u001b[0m         \u001b[0minputs\u001b[0m \u001b[0;34m=\u001b[0m \u001b[0mtuple\u001b[0m\u001b[0;34m(\u001b[0m\u001b[0msorted\u001b[0m\u001b[0;34m(\u001b[0m\u001b[0minputs_to_values\u001b[0m\u001b[0;34m.\u001b[0m\u001b[0mkeys\u001b[0m\u001b[0;34m(\u001b[0m\u001b[0;34m)\u001b[0m\u001b[0;34m,\u001b[0m \u001b[0mkey\u001b[0m\u001b[0;34m=\u001b[0m\u001b[0mid\u001b[0m\u001b[0;34m)\u001b[0m\u001b[0;34m)\u001b[0m\u001b[0;34m\u001b[0m\u001b[0m\n\u001b[1;32m    515\u001b[0m         \u001b[0;32mif\u001b[0m \u001b[0minputs\u001b[0m \u001b[0;32mnot\u001b[0m \u001b[0;32min\u001b[0m \u001b[0mself\u001b[0m\u001b[0;34m.\u001b[0m\u001b[0m_fn_cache\u001b[0m\u001b[0;34m:\u001b[0m\u001b[0;34m\u001b[0m\u001b[0m\n\u001b[0;32m--> 516\u001b[0;31m             \u001b[0mself\u001b[0m\u001b[0;34m.\u001b[0m\u001b[0m_fn_cache\u001b[0m\u001b[0;34m[\u001b[0m\u001b[0minputs\u001b[0m\u001b[0;34m]\u001b[0m \u001b[0;34m=\u001b[0m \u001b[0mtheano\u001b[0m\u001b[0;34m.\u001b[0m\u001b[0mfunction\u001b[0m\u001b[0;34m(\u001b[0m\u001b[0minputs\u001b[0m\u001b[0;34m,\u001b[0m \u001b[0mself\u001b[0m\u001b[0;34m)\u001b[0m\u001b[0;34m\u001b[0m\u001b[0m\n\u001b[0m\u001b[1;32m    517\u001b[0m         \u001b[0margs\u001b[0m \u001b[0;34m=\u001b[0m \u001b[0;34m[\u001b[0m\u001b[0minputs_to_values\u001b[0m\u001b[0;34m[\u001b[0m\u001b[0mparam\u001b[0m\u001b[0;34m]\u001b[0m \u001b[0;32mfor\u001b[0m \u001b[0mparam\u001b[0m \u001b[0;32min\u001b[0m \u001b[0minputs\u001b[0m\u001b[0;34m]\u001b[0m\u001b[0;34m\u001b[0m\u001b[0m\n\u001b[1;32m    518\u001b[0m \u001b[0;34m\u001b[0m\u001b[0m\n",
      "\u001b[0;32m/home/parallellab2/anaconda2/envs/cs231nenv/lib/python3.6/site-packages/theano/compile/function.py\u001b[0m in \u001b[0;36mfunction\u001b[0;34m(inputs, outputs, mode, updates, givens, no_default_updates, accept_inplace, name, rebuild_strict, allow_input_downcast, profile, on_unused_input)\u001b[0m\n\u001b[1;32m    324\u001b[0m                    \u001b[0mon_unused_input\u001b[0m\u001b[0;34m=\u001b[0m\u001b[0mon_unused_input\u001b[0m\u001b[0;34m,\u001b[0m\u001b[0;34m\u001b[0m\u001b[0m\n\u001b[1;32m    325\u001b[0m                    \u001b[0mprofile\u001b[0m\u001b[0;34m=\u001b[0m\u001b[0mprofile\u001b[0m\u001b[0;34m,\u001b[0m\u001b[0;34m\u001b[0m\u001b[0m\n\u001b[0;32m--> 326\u001b[0;31m                    output_keys=output_keys)\n\u001b[0m\u001b[1;32m    327\u001b[0m     \u001b[0;31m# We need to add the flag check_aliased inputs if we have any mutable or\u001b[0m\u001b[0;34m\u001b[0m\u001b[0;34m\u001b[0m\u001b[0m\n\u001b[1;32m    328\u001b[0m     \u001b[0;31m# borrowed used defined inputs\u001b[0m\u001b[0;34m\u001b[0m\u001b[0;34m\u001b[0m\u001b[0m\n",
      "\u001b[0;32m/home/parallellab2/anaconda2/envs/cs231nenv/lib/python3.6/site-packages/theano/compile/pfunc.py\u001b[0m in \u001b[0;36mpfunc\u001b[0;34m(params, outputs, mode, updates, givens, no_default_updates, accept_inplace, name, rebuild_strict, allow_input_downcast, profile, on_unused_input, output_keys)\u001b[0m\n\u001b[1;32m    484\u001b[0m                          \u001b[0maccept_inplace\u001b[0m\u001b[0;34m=\u001b[0m\u001b[0maccept_inplace\u001b[0m\u001b[0;34m,\u001b[0m \u001b[0mname\u001b[0m\u001b[0;34m=\u001b[0m\u001b[0mname\u001b[0m\u001b[0;34m,\u001b[0m\u001b[0;34m\u001b[0m\u001b[0m\n\u001b[1;32m    485\u001b[0m                          \u001b[0mprofile\u001b[0m\u001b[0;34m=\u001b[0m\u001b[0mprofile\u001b[0m\u001b[0;34m,\u001b[0m \u001b[0mon_unused_input\u001b[0m\u001b[0;34m=\u001b[0m\u001b[0mon_unused_input\u001b[0m\u001b[0;34m,\u001b[0m\u001b[0;34m\u001b[0m\u001b[0m\n\u001b[0;32m--> 486\u001b[0;31m                          output_keys=output_keys)\n\u001b[0m\u001b[1;32m    487\u001b[0m \u001b[0;34m\u001b[0m\u001b[0m\n\u001b[1;32m    488\u001b[0m \u001b[0;34m\u001b[0m\u001b[0m\n",
      "\u001b[0;32m/home/parallellab2/anaconda2/envs/cs231nenv/lib/python3.6/site-packages/theano/compile/function_module.py\u001b[0m in \u001b[0;36morig_function\u001b[0;34m(inputs, outputs, mode, accept_inplace, name, profile, on_unused_input, output_keys)\u001b[0m\n\u001b[1;32m   1792\u001b[0m                    \u001b[0mprofile\u001b[0m\u001b[0;34m=\u001b[0m\u001b[0mprofile\u001b[0m\u001b[0;34m,\u001b[0m\u001b[0;34m\u001b[0m\u001b[0m\n\u001b[1;32m   1793\u001b[0m                    \u001b[0mon_unused_input\u001b[0m\u001b[0;34m=\u001b[0m\u001b[0mon_unused_input\u001b[0m\u001b[0;34m,\u001b[0m\u001b[0;34m\u001b[0m\u001b[0m\n\u001b[0;32m-> 1794\u001b[0;31m                    \u001b[0moutput_keys\u001b[0m\u001b[0;34m=\u001b[0m\u001b[0moutput_keys\u001b[0m\u001b[0;34m)\u001b[0m\u001b[0;34m.\u001b[0m\u001b[0mcreate\u001b[0m\u001b[0;34m(\u001b[0m\u001b[0;34m\u001b[0m\u001b[0m\n\u001b[0m\u001b[1;32m   1795\u001b[0m             defaults)\n\u001b[1;32m   1796\u001b[0m \u001b[0;34m\u001b[0m\u001b[0m\n",
      "\u001b[0;32m/home/parallellab2/anaconda2/envs/cs231nenv/lib/python3.6/site-packages/theano/compile/function_module.py\u001b[0m in \u001b[0;36m__init__\u001b[0;34m(self, inputs, outputs, mode, accept_inplace, function_builder, profile, on_unused_input, fgraph, output_keys)\u001b[0m\n\u001b[1;32m   1431\u001b[0m \u001b[0;34m\u001b[0m\u001b[0m\n\u001b[1;32m   1432\u001b[0m         \u001b[0;31m# Check if some input variables are unused\u001b[0m\u001b[0;34m\u001b[0m\u001b[0;34m\u001b[0m\u001b[0m\n\u001b[0;32m-> 1433\u001b[0;31m         \u001b[0mself\u001b[0m\u001b[0;34m.\u001b[0m\u001b[0m_check_unused_inputs\u001b[0m\u001b[0;34m(\u001b[0m\u001b[0minputs\u001b[0m\u001b[0;34m,\u001b[0m \u001b[0moutputs\u001b[0m\u001b[0;34m,\u001b[0m \u001b[0mon_unused_input\u001b[0m\u001b[0;34m)\u001b[0m\u001b[0;34m\u001b[0m\u001b[0m\n\u001b[0m\u001b[1;32m   1434\u001b[0m \u001b[0;34m\u001b[0m\u001b[0m\n\u001b[1;32m   1435\u001b[0m         \u001b[0;31m# Make a list of (SymbolicInput|SymblicInputKits, indices,\u001b[0m\u001b[0;34m\u001b[0m\u001b[0;34m\u001b[0m\u001b[0m\n",
      "\u001b[0;32m/home/parallellab2/anaconda2/envs/cs231nenv/lib/python3.6/site-packages/theano/compile/function_module.py\u001b[0m in \u001b[0;36m_check_unused_inputs\u001b[0;34m(self, inputs, outputs, on_unused_input)\u001b[0m\n\u001b[1;32m   1571\u001b[0m                 \u001b[0;32melif\u001b[0m \u001b[0mon_unused_input\u001b[0m \u001b[0;34m==\u001b[0m \u001b[0;34m'raise'\u001b[0m\u001b[0;34m:\u001b[0m\u001b[0;34m\u001b[0m\u001b[0m\n\u001b[1;32m   1572\u001b[0m                     raise UnusedInputError(msg % (inputs.index(i),\n\u001b[0;32m-> 1573\u001b[0;31m                                                   i.variable, err_msg))\n\u001b[0m\u001b[1;32m   1574\u001b[0m                 \u001b[0;32melse\u001b[0m\u001b[0;34m:\u001b[0m\u001b[0;34m\u001b[0m\u001b[0m\n\u001b[1;32m   1575\u001b[0m                     raise ValueError(\"Invalid value for keyword \"\n",
      "\u001b[0;31mUnusedInputError\u001b[0m: theano.function was asked to create a function computing outputs given certain inputs, but the provided input variable at index 0 is not part of the computational graph needed to compute the outputs: /input_5.\nTo make this error into a warning, you can pass the parameter on_unused_input='warn' to theano.function. To disable it completely, use on_unused_input='ignore'."
     ]
    }
   ],
   "source": [
    "input_img = Input(shape=(784,))\n",
    "encoded_1 = Dense(128, activation='relu')(input_img)\n",
    "encoded_2 = Dense(64, activation='relu')(encoded_1)\n",
    "encoded_3 = Dense(32, activation='relu')(encoded_2)\n",
    "\n",
    "decoded_1 = Dense(64, activation='relu')(encoded_3)\n",
    "decoded_2 = Dense(128, activation='relu')(decoded_1)\n",
    "decoded_3 = Dense(784, activation='sigmoid')(decoded_2)\n",
    "autoencoder = Model(input_img, decoded_3)\n",
    "fit_model(autoencoder,Xtrain,Xtest,100)\n"
   ]
  },
  {
   "cell_type": "code",
   "execution_count": 26,
   "metadata": {},
   "outputs": [
    {
     "name": "stdout",
     "output_type": "stream",
     "text": [
      "(10000, 32)\n",
      "(10000, 784)\n"
     ]
    }
   ],
   "source": [
    "Xpred=encoded_3.eval({input_img:Xtest})\n",
    "print(Xpred.shape)\n",
    "Xdecoded=decoded_3.eval({encoded_3:Xpred})\n",
    "print(Xdecoded.shape)"
   ]
  },
  {
   "cell_type": "code",
   "execution_count": 27,
   "metadata": {},
   "outputs": [
    {
     "data": {
      "image/png": "[encoded data removed]",
      "text/plain": [
       "<matplotlib.figure.Figure at 0x7ff1de7670b8>"
      ]
     },
     "metadata": {},
     "output_type": "display_data"
    }
   ],
   "source": [
    "plot_output(Xtest,Xdecoded)"
   ]
  },
  {
   "cell_type": "code",
   "execution_count": null,
   "metadata": {
    "collapsed": true
   },
   "outputs": [],
   "source": []
  }
 ],
 "metadata": {
  "kernelspec": {
   "display_name": "Python 3",
   "language": "python",
   "name": "python3"
  },
  "language_info": {
   "codemirror_mode": {
    "name": "ipython",
    "version": 3
   },
   "file_extension": ".py",
   "mimetype": "text/x-python",
   "name": "python",
   "nbconvert_exporter": "python",
   "pygments_lexer": "ipython3",
   "version": "3.6.1"
  }
 },
 "nbformat": 4,
 "nbformat_minor": 2
}
