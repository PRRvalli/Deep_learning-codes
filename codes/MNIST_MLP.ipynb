{
 "cells": [
  {
   "cell_type": "code",
   "execution_count": 17,
   "metadata": {},
   "outputs": [],
   "source": [
    "# import function \n",
    "import keras\n",
    "from keras.datasets import mnist\n",
    "from keras.models import Sequential\n",
    "from keras.layers import Dense, Dropout, Input\n",
    "from keras.optimizers import RMSprop, adam\n",
    "from keras.models import Model"
   ]
  },
  {
   "cell_type": "code",
   "execution_count": 12,
   "metadata": {
    "collapsed": true
   },
   "outputs": [],
   "source": [
    "def loaddata():\n",
    "    (x_train, y_train), (x_test, y_test) = mnist.load_data()\n",
    "    \n",
    "\n",
    "    # Convert class vectors to binary class matrices.\n",
    "    y_train = keras.utils.to_categorical(y_train)\n",
    "    y_test = keras.utils.to_categorical(y_test)\n",
    "    x_train = x_train.astype('float32')\n",
    "    x_test = x_test.astype('float32')\n",
    "    x_train /= 255\n",
    "    x_test /= 255\n",
    "    return (x_train, y_train), (x_test, y_test)\n"
   ]
  },
  {
   "cell_type": "code",
   "execution_count": 14,
   "metadata": {},
   "outputs": [],
   "source": [
    "(x_train, y_train), (x_test, y_test)=loaddata()\n",
    "x_train = x_train.reshape(60000, 784)\n",
    "x_test = x_test.reshape(10000, 784)"
   ]
  },
  {
   "cell_type": "code",
   "execution_count": 18,
   "metadata": {},
   "outputs": [],
   "source": [
    "# Model \n",
    "inp = Input(shape=(784,))\n",
    "dense_1= Dense(512, activation=\"relu\")(inp)\n",
    "drop_1=Dropout(0.2)(dense_1)\n",
    "dense_2=Dense(512, activation='relu')(drop_1)\n",
    "drop_2=Dropout(0.2)(dense_2)\n",
    "out=Dense(10, activation='softmax')(drop_2)\n",
    "\n",
    "MLP=Model(inp,out)"
   ]
  },
  {
   "cell_type": "code",
   "execution_count": 19,
   "metadata": {},
   "outputs": [
    {
     "name": "stdout",
     "output_type": "stream",
     "text": [
      "_________________________________________________________________\n",
      "Layer (type)                 Output Shape              Param #   \n",
      "=================================================================\n",
      "input_1 (InputLayer)         (None, 784)               0         \n",
      "_________________________________________________________________\n",
      "dense_1 (Dense)              (None, 512)               401920    \n",
      "_________________________________________________________________\n",
      "dropout_1 (Dropout)          (None, 512)               0         \n",
      "_________________________________________________________________\n",
      "dense_2 (Dense)              (None, 512)               262656    \n",
      "_________________________________________________________________\n",
      "dropout_2 (Dropout)          (None, 512)               0         \n",
      "_________________________________________________________________\n",
      "dense_3 (Dense)              (None, 10)                5130      \n",
      "=================================================================\n",
      "Total params: 669,706\n",
      "Trainable params: 669,706\n",
      "Non-trainable params: 0\n",
      "_________________________________________________________________\n"
     ]
    }
   ],
   "source": [
    "MLP.summary()"
   ]
  },
  {
   "cell_type": "code",
   "execution_count": 21,
   "metadata": {},
   "outputs": [
    {
     "name": "stdout",
     "output_type": "stream",
     "text": [
      "Train on 60000 samples, validate on 10000 samples\n",
      "Epoch 1/20\n",
      "60000/60000 [==============================] - 7s - loss: 0.2443 - acc: 0.9263 - val_loss: 0.1126 - val_acc: 0.9638\n",
      "Epoch 2/20\n",
      "60000/60000 [==============================] - 7s - loss: 0.0998 - acc: 0.9689 - val_loss: 0.0783 - val_acc: 0.9757\n",
      "Epoch 3/20\n",
      "60000/60000 [==============================] - 8s - loss: 0.0690 - acc: 0.9780 - val_loss: 0.0718 - val_acc: 0.9779\n",
      "Epoch 4/20\n",
      "60000/60000 [==============================] - 9s - loss: 0.0531 - acc: 0.9831 - val_loss: 0.0712 - val_acc: 0.9776\n",
      "Epoch 5/20\n",
      "60000/60000 [==============================] - 10s - loss: 0.0460 - acc: 0.9848 - val_loss: 0.0664 - val_acc: 0.9790\n",
      "Epoch 6/20\n",
      "60000/60000 [==============================] - 8s - loss: 0.0394 - acc: 0.9868 - val_loss: 0.0678 - val_acc: 0.9801\n",
      "Epoch 7/20\n",
      "60000/60000 [==============================] - 8s - loss: 0.0336 - acc: 0.9890 - val_loss: 0.0613 - val_acc: 0.9831\n",
      "Epoch 8/20\n",
      "60000/60000 [==============================] - 10s - loss: 0.0307 - acc: 0.9898 - val_loss: 0.0674 - val_acc: 0.9819\n",
      "Epoch 9/20\n",
      "60000/60000 [==============================] - 9s - loss: 0.0270 - acc: 0.9910 - val_loss: 0.0738 - val_acc: 0.9805\n",
      "Epoch 10/20\n",
      "60000/60000 [==============================] - 9s - loss: 0.0237 - acc: 0.9923 - val_loss: 0.0710 - val_acc: 0.9818\n",
      "Epoch 11/20\n",
      "60000/60000 [==============================] - 9s - loss: 0.0238 - acc: 0.9920 - val_loss: 0.0705 - val_acc: 0.9829\n",
      "Epoch 12/20\n",
      "60000/60000 [==============================] - 10s - loss: 0.0242 - acc: 0.9922 - val_loss: 0.0731 - val_acc: 0.9802\n",
      "Epoch 13/20\n",
      "60000/60000 [==============================] - 9s - loss: 0.0219 - acc: 0.9929 - val_loss: 0.0763 - val_acc: 0.9817\n",
      "Epoch 14/20\n",
      "60000/60000 [==============================] - 9s - loss: 0.0186 - acc: 0.9939 - val_loss: 0.0669 - val_acc: 0.9850\n",
      "Epoch 15/20\n",
      "60000/60000 [==============================] - 9s - loss: 0.0192 - acc: 0.9935 - val_loss: 0.0792 - val_acc: 0.9828\n",
      "Epoch 16/20\n",
      "60000/60000 [==============================] - 9s - loss: 0.0171 - acc: 0.9944 - val_loss: 0.0836 - val_acc: 0.9809\n",
      "Epoch 17/20\n",
      "60000/60000 [==============================] - 10s - loss: 0.0187 - acc: 0.9938 - val_loss: 0.0788 - val_acc: 0.9811\n",
      "Epoch 18/20\n",
      "60000/60000 [==============================] - 10s - loss: 0.0143 - acc: 0.9955 - val_loss: 0.0837 - val_acc: 0.9828\n",
      "Epoch 19/20\n",
      "60000/60000 [==============================] - 9s - loss: 0.0163 - acc: 0.9950 - val_loss: 0.1047 - val_acc: 0.9776\n",
      "Epoch 20/20\n",
      "60000/60000 [==============================] - 8s - loss: 0.0177 - acc: 0.9945 - val_loss: 0.0878 - val_acc: 0.9812\n"
     ]
    }
   ],
   "source": [
    "MLP.compile(loss='categorical_crossentropy',\n",
    "              optimizer='adam',\n",
    "              metrics=['accuracy'])\n",
    "\n",
    "history = MLP.fit(x_train, y_train,\n",
    "                    batch_size=128,\n",
    "                    epochs=20,\n",
    "                    verbose=1,\n",
    "                    validation_data=(x_test, y_test))"
   ]
  },
  {
   "cell_type": "code",
   "execution_count": 23,
   "metadata": {},
   "outputs": [
    {
     "name": "stdout",
     "output_type": "stream",
     "text": [
      "Test loss: 0.0877585986437\n",
      "Test accuracy: 0.9812\n"
     ]
    }
   ],
   "source": [
    "score = MLP.evaluate(x_test, y_test, verbose=0)\n",
    "print('Test loss:', score[0])\n",
    "print('Test accuracy:', score[1])"
   ]
  },
  {
   "cell_type": "code",
   "execution_count": null,
   "metadata": {
    "collapsed": true
   },
   "outputs": [],
   "source": []
  }
 ],
 "metadata": {
  "kernelspec": {
   "display_name": "Python 3",
   "language": "python",
   "name": "python3"
  },
  "language_info": {
   "codemirror_mode": {
    "name": "ipython",
    "version": 3
   },
   "file_extension": ".py",
   "mimetype": "text/x-python",
   "name": "python",
   "nbconvert_exporter": "python",
   "pygments_lexer": "ipython3",
   "version": "3.6.1"
  }
 },
 "nbformat": 4,
 "nbformat_minor": 2
}
