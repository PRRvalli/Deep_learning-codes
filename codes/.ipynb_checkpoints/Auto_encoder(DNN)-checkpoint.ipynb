{
 "cells": [
  {
   "cell_type": "code",
   "execution_count": 19,
   "metadata": {},
   "outputs": [],
   "source": [
    "import numpy as np\n",
    "import theano \n",
    "from keras.layers import Input, Dense\n",
    "from keras.models import Model\n",
    "import matplotlib.pyplot as plt\n",
    "from keras import regularizers\n"
   ]
  },
  {
   "cell_type": "code",
   "execution_count": 4,
   "metadata": {},
   "outputs": [],
   "source": [
    "#load data\n",
    "from keras.datasets import mnist\n",
    "import numpy as np\n",
    "(x_train, y_train), (x_test, y_test) = mnist.load_data()"
   ]
  },
  {
   "cell_type": "code",
   "execution_count": 7,
   "metadata": {},
   "outputs": [
    {
     "name": "stdout",
     "output_type": "stream",
     "text": [
      "shape of xtrain(60000, 28, 28)\n",
      "shape of ytrain(60000,)\n",
      "shape of xtest(10000, 28, 28)\n",
      "shape of ytest(10000,)\n"
     ]
    }
   ],
   "source": [
    "print('shape of xtrain'+str(x_train.shape))\n",
    "print('shape of ytrain'+str(y_train.shape))\n",
    "print('shape of xtest'+str(x_test.shape))\n",
    "print('shape of ytest'+str(y_test.shape))"
   ]
  },
  {
   "cell_type": "code",
   "execution_count": 8,
   "metadata": {},
   "outputs": [
    {
     "name": "stdout",
     "output_type": "stream",
     "text": [
      "(60000, 784)\n",
      "(10000, 784)\n"
     ]
    }
   ],
   "source": [
    "# reshaping \n",
    "x_train = x_train.astype('float32') / 255.\n",
    "x_test = x_test.astype('float32') / 255.\n",
    "Xtrain = x_train.reshape((len(x_train), np.prod(x_train.shape[1:])))\n",
    "Xtest = x_test.reshape((len(x_test), np.prod(x_test.shape[1:])))\n",
    "print(Xtrain.shape)\n",
    "print(Xtest.shape)"
   ]
  },
  {
   "cell_type": "code",
   "execution_count": 10,
   "metadata": {},
   "outputs": [],
   "source": [
    "# one layer encoder decoder \n",
    "input_img = Input(shape=(784,))\n",
    "# \"encoded\" is the encoded representation of the input\n",
    "encoded = Dense(32, activation='relu')(input_img)\n",
    "# \"decoded\" is the lossy reconstruction of the input\n",
    "decoded = Dense(784, activation='sigmoid')(encoded)\n",
    "\n",
    "# this model maps an input to its reconstruction\n",
    "autoencoder = Model(input_img, decoded)\n"
   ]
  },
  {
   "cell_type": "code",
   "execution_count": 12,
   "metadata": {
    "collapsed": true
   },
   "outputs": [],
   "source": [
    "def fit_model(model,x_train,x_test,num):\n",
    "    \n",
    "    model.compile(optimizer='adadelta', loss='binary_crossentropy')\n",
    "    model.fit(x_train, x_train,\n",
    "                epochs=num,\n",
    "                batch_size=256,\n",
    "                shuffle=True,\n",
    "                validation_data=(x_test, x_test))"
   ]
  },
  {
   "cell_type": "code",
   "execution_count": 13,
   "metadata": {
    "collapsed": true
   },
   "outputs": [
    {
     "name": "stdout",
     "output_type": "stream",
     "text": [
      "Train on 60000 samples, validate on 10000 samples\n",
      "Epoch 1/50\n",
      "60000/60000 [==============================] - 5s - loss: 0.3715 - val_loss: 0.2725\n",
      "Epoch 2/50\n",
      "60000/60000 [==============================] - 5s - loss: 0.2654 - val_loss: 0.2548\n",
      "Epoch 3/50\n",
      "60000/60000 [==============================] - 5s - loss: 0.2448 - val_loss: 0.2325\n",
      "Epoch 4/50\n",
      "60000/60000 [==============================] - 5s - loss: 0.2245 - val_loss: 0.2141\n",
      "Epoch 5/50\n",
      "60000/60000 [==============================] - 5s - loss: 0.2086 - val_loss: 0.2007\n",
      "Epoch 6/50\n",
      "60000/60000 [==============================] - 5s - loss: 0.1973 - val_loss: 0.1912\n",
      "Epoch 7/50\n",
      "60000/60000 [==============================] - 5s - loss: 0.1889 - val_loss: 0.1838\n",
      "Epoch 8/50\n",
      "60000/60000 [==============================] - 5s - loss: 0.1821 - val_loss: 0.1777\n",
      "Epoch 9/50\n",
      "60000/60000 [==============================] - 5s - loss: 0.1764 - val_loss: 0.1723\n",
      "Epoch 10/50\n",
      "60000/60000 [==============================] - 5s - loss: 0.1714 - val_loss: 0.1678\n",
      "Epoch 11/50\n",
      "60000/60000 [==============================] - 5s - loss: 0.1671 - val_loss: 0.1639\n",
      "Epoch 12/50\n",
      "60000/60000 [==============================] - 5s - loss: 0.1633 - val_loss: 0.1601\n",
      "Epoch 13/50\n",
      "60000/60000 [==============================] - 5s - loss: 0.1598 - val_loss: 0.1567\n",
      "Epoch 14/50\n",
      "60000/60000 [==============================] - 5s - loss: 0.1566 - val_loss: 0.1536\n",
      "Epoch 15/50\n",
      "60000/60000 [==============================] - 5s - loss: 0.1535 - val_loss: 0.1504\n",
      "Epoch 16/50\n",
      "60000/60000 [==============================] - 5s - loss: 0.1505 - val_loss: 0.1475\n",
      "Epoch 17/50\n",
      "60000/60000 [==============================] - 5s - loss: 0.1476 - val_loss: 0.1447\n",
      "Epoch 18/50\n",
      "60000/60000 [==============================] - 5s - loss: 0.1449 - val_loss: 0.1420\n",
      "Epoch 19/50\n",
      "60000/60000 [==============================] - 5s - loss: 0.1423 - val_loss: 0.1396\n",
      "Epoch 20/50\n",
      "60000/60000 [==============================] - 5s - loss: 0.1399 - val_loss: 0.1373\n",
      "Epoch 21/50\n",
      "60000/60000 [==============================] - 5s - loss: 0.1376 - val_loss: 0.1351\n",
      "Epoch 22/50\n",
      "60000/60000 [==============================] - 5s - loss: 0.1355 - val_loss: 0.1329\n",
      "Epoch 23/50\n",
      "60000/60000 [==============================] - 5s - loss: 0.1334 - val_loss: 0.1309\n",
      "Epoch 24/50\n",
      "60000/60000 [==============================] - 5s - loss: 0.1314 - val_loss: 0.1289\n",
      "Epoch 25/50\n",
      "60000/60000 [==============================] - 5s - loss: 0.1295 - val_loss: 0.1271\n",
      "Epoch 26/50\n",
      "60000/60000 [==============================] - 5s - loss: 0.1277 - val_loss: 0.1253\n",
      "Epoch 27/50\n",
      "60000/60000 [==============================] - 5s - loss: 0.1259 - val_loss: 0.1235\n",
      "Epoch 28/50\n",
      "60000/60000 [==============================] - 5s - loss: 0.1242 - val_loss: 0.1219\n",
      "Epoch 29/50\n",
      "60000/60000 [==============================] - 5s - loss: 0.1227 - val_loss: 0.1204\n",
      "Epoch 30/50\n",
      "60000/60000 [==============================] - 5s - loss: 0.1212 - val_loss: 0.1189\n",
      "Epoch 31/50\n",
      "60000/60000 [==============================] - 5s - loss: 0.1197 - val_loss: 0.1175\n",
      "Epoch 32/50\n",
      "60000/60000 [==============================] - 5s - loss: 0.1184 - val_loss: 0.1161\n",
      "Epoch 33/50\n",
      "60000/60000 [==============================] - 6s - loss: 0.1171 - val_loss: 0.1150\n",
      "Epoch 34/50\n",
      "60000/60000 [==============================] - 5s - loss: 0.1159 - val_loss: 0.1138\n",
      "Epoch 35/50\n",
      "60000/60000 [==============================] - 5s - loss: 0.1148 - val_loss: 0.1127\n",
      "Epoch 36/50\n",
      "60000/60000 [==============================] - 5s - loss: 0.1137 - val_loss: 0.1117\n",
      "Epoch 37/50\n",
      "60000/60000 [==============================] - 5s - loss: 0.1128 - val_loss: 0.1107\n",
      "Epoch 38/50\n",
      "60000/60000 [==============================] - 5s - loss: 0.1119 - val_loss: 0.1098\n",
      "Epoch 39/50\n",
      "60000/60000 [==============================] - 6s - loss: 0.1110 - val_loss: 0.1090\n",
      "Epoch 40/50\n",
      "60000/60000 [==============================] - 5s - loss: 0.1102 - val_loss: 0.1083\n",
      "Epoch 41/50\n",
      "60000/60000 [==============================] - 6s - loss: 0.1095 - val_loss: 0.1075\n",
      "Epoch 42/50\n",
      "60000/60000 [==============================] - 5s - loss: 0.1088 - val_loss: 0.1069\n",
      "Epoch 43/50\n",
      "60000/60000 [==============================] - 6s - loss: 0.1082 - val_loss: 0.1063\n",
      "Epoch 44/50\n",
      "60000/60000 [==============================] - 5s - loss: 0.1076 - val_loss: 0.1057\n",
      "Epoch 45/50\n",
      "60000/60000 [==============================] - 5s - loss: 0.1070 - val_loss: 0.1051\n",
      "Epoch 46/50\n",
      "60000/60000 [==============================] - 5s - loss: 0.1065 - val_loss: 0.1046\n",
      "Epoch 47/50\n",
      "60000/60000 [==============================] - 5s - loss: 0.1060 - val_loss: 0.1041\n",
      "Epoch 48/50\n",
      "60000/60000 [==============================] - 5s - loss: 0.1056 - val_loss: 0.1037\n",
      "Epoch 49/50\n",
      "60000/60000 [==============================] - 5s - loss: 0.1051 - val_loss: 0.1033\n",
      "Epoch 50/50\n",
      "60000/60000 [==============================] - 5s - loss: 0.1047 - val_loss: 0.1029\n"
     ]
    }
   ],
   "source": [
    "fit_model(autoencoder,Xtrain,Xtest)"
   ]
  },
  {
   "cell_type": "code",
   "execution_count": 14,
   "metadata": {},
   "outputs": [
    {
     "name": "stdout",
     "output_type": "stream",
     "text": [
      "(10000, 32)\n"
     ]
    }
   ],
   "source": [
    "Xpred=encoded.eval({input_img:Xtest})\n",
    "print(Xpred.shape)"
   ]
  },
  {
   "cell_type": "code",
   "execution_count": 15,
   "metadata": {},
   "outputs": [
    {
     "name": "stdout",
     "output_type": "stream",
     "text": [
      "(10000, 784)\n"
     ]
    }
   ],
   "source": [
    "Xdecoded=decoded.eval({encoded:Xpred})\n",
    "print(Xdecoded.shape)"
   ]
  },
  {
   "cell_type": "code",
   "execution_count": 17,
   "metadata": {
    "collapsed": true
   },
   "outputs": [],
   "source": [
    "def plot_output(x_test,decoded_imgs):\n",
    "    n = 10  # how many digits we will display\n",
    "    plt.figure(figsize=(20, 4))\n",
    "    for i in range(n):\n",
    "        # display original\n",
    "        ax = plt.subplot(2, n, i + 1)\n",
    "        plt.imshow(x_test[i].reshape(28, 28))\n",
    "        plt.gray()\n",
    "        ax.get_xaxis().set_visible(False)\n",
    "        ax.get_yaxis().set_visible(False)\n",
    "\n",
    "        # display reconstruction\n",
    "        ax = plt.subplot(2, n, i + 1 + n)\n",
    "        plt.imshow(decoded_imgs[i].reshape(28, 28))\n",
    "        plt.gray()\n",
    "        ax.get_xaxis().set_visible(False)\n",
    "        ax.get_yaxis().set_visible(False)\n",
    "    plt.show()"
   ]
  },
  {
   "cell_type": "code",
   "execution_count": 18,
   "metadata": {},
   "outputs": [
    {
     "data": {
      "image/png": "[encoded data removed]",
      "text/plain": [
       "<matplotlib.figure.Figure at 0x7ff1eca2e4a8>"
      ]
     },
     "metadata": {},
     "output_type": "display_data"
    }
   ],
   "source": [
    "plot_output(Xtest,Xdecoded)"
   ]
  },
  {
   "cell_type": "code",
   "execution_count": 20,
   "metadata": {
    "scrolled": true
   },
   "outputs": [
    {
     "name": "stdout",
     "output_type": "stream",
     "text": [
      "Train on 60000 samples, validate on 10000 samples\n",
      "Epoch 1/50\n",
      "60000/60000 [==============================] - 5s - loss: 0.6859 - val_loss: 0.6607\n",
      "Epoch 2/50\n",
      "60000/60000 [==============================] - 5s - loss: 0.6440 - val_loss: 0.6273\n",
      "Epoch 3/50\n",
      "60000/60000 [==============================] - 5s - loss: 0.6111 - val_loss: 0.5952\n",
      "Epoch 4/50\n",
      "60000/60000 [==============================] - 5s - loss: 0.5802 - val_loss: 0.5655\n",
      "Epoch 5/50\n",
      "60000/60000 [==============================] - 5s - loss: 0.5519 - val_loss: 0.5386\n",
      "Epoch 6/50\n",
      "60000/60000 [==============================] - 5s - loss: 0.5264 - val_loss: 0.5146\n",
      "Epoch 7/50\n",
      "60000/60000 [==============================] - 5s - loss: 0.5037 - val_loss: 0.4932\n",
      "Epoch 8/50\n",
      "60000/60000 [==============================] - 5s - loss: 0.4836 - val_loss: 0.4744\n",
      "Epoch 9/50\n",
      "60000/60000 [==============================] - 5s - loss: 0.4658 - val_loss: 0.4577\n",
      "Epoch 10/50\n",
      "60000/60000 [==============================] - 5s - loss: 0.4501 - val_loss: 0.4430\n",
      "Epoch 11/50\n",
      "60000/60000 [==============================] - 6s - loss: 0.4362 - val_loss: 0.4299\n",
      "Epoch 12/50\n",
      "60000/60000 [==============================] - 6s - loss: 0.4239 - val_loss: 0.4183\n",
      "Epoch 13/50\n",
      "60000/60000 [==============================] - 5s - loss: 0.4129 - val_loss: 0.4079\n",
      "Epoch 14/50\n",
      "60000/60000 [==============================] - 5s - loss: 0.4030 - val_loss: 0.3986\n",
      "Epoch 15/50\n",
      "60000/60000 [==============================] - 5s - loss: 0.3942 - val_loss: 0.3902\n",
      "Epoch 16/50\n",
      "60000/60000 [==============================] - 5s - loss: 0.3862 - val_loss: 0.3826\n",
      "Epoch 17/50\n",
      "60000/60000 [==============================] - 5s - loss: 0.3790 - val_loss: 0.3758\n",
      "Epoch 18/50\n",
      "60000/60000 [==============================] - 5s - loss: 0.3725 - val_loss: 0.3696\n",
      "Epoch 19/50\n",
      "60000/60000 [==============================] - 5s - loss: 0.3665 - val_loss: 0.3639\n",
      "Epoch 20/50\n",
      "60000/60000 [==============================] - 5s - loss: 0.3611 - val_loss: 0.3587\n",
      "Epoch 21/50\n",
      "60000/60000 [==============================] - 4s - loss: 0.3561 - val_loss: 0.3539\n",
      "Epoch 22/50\n",
      "60000/60000 [==============================] - 5s - loss: 0.3516 - val_loss: 0.3496\n",
      "Epoch 23/50\n",
      "60000/60000 [==============================] - 5s - loss: 0.3474 - val_loss: 0.3455\n",
      "Epoch 24/50\n",
      "60000/60000 [==============================] - 4s - loss: 0.3435 - val_loss: 0.3418\n",
      "Epoch 25/50\n",
      "60000/60000 [==============================] - 5s - loss: 0.3399 - val_loss: 0.3384\n",
      "Epoch 26/50\n",
      "60000/60000 [==============================] - 5s - loss: 0.3366 - val_loss: 0.3352\n",
      "Epoch 27/50\n",
      "60000/60000 [==============================] - 5s - loss: 0.3335 - val_loss: 0.3322\n",
      "Epoch 28/50\n",
      "60000/60000 [==============================] - 5s - loss: 0.3307 - val_loss: 0.3295\n",
      "Epoch 29/50\n",
      "60000/60000 [==============================] - 5s - loss: 0.3280 - val_loss: 0.3269\n",
      "Epoch 30/50\n",
      "60000/60000 [==============================] - 5s - loss: 0.3255 - val_loss: 0.3245\n",
      "Epoch 31/50\n",
      "60000/60000 [==============================] - 5s - loss: 0.3232 - val_loss: 0.3222\n",
      "Epoch 32/50\n",
      "60000/60000 [==============================] - 5s - loss: 0.3210 - val_loss: 0.3201\n",
      "Epoch 33/50\n",
      "60000/60000 [==============================] - 5s - loss: 0.3189 - val_loss: 0.3181\n",
      "Epoch 34/50\n",
      "60000/60000 [==============================] - 5s - loss: 0.3170 - val_loss: 0.3162\n",
      "Epoch 35/50\n",
      "60000/60000 [==============================] - 5s - loss: 0.3152 - val_loss: 0.3145\n",
      "Epoch 36/50\n",
      "60000/60000 [==============================] - 5s - loss: 0.3135 - val_loss: 0.3128\n",
      "Epoch 37/50\n",
      "60000/60000 [==============================] - 5s - loss: 0.3119 - val_loss: 0.3112\n",
      "Epoch 38/50\n",
      "60000/60000 [==============================] - 5s - loss: 0.3103 - val_loss: 0.3097\n",
      "Epoch 39/50\n",
      "60000/60000 [==============================] - 5s - loss: 0.3089 - val_loss: 0.3083\n",
      "Epoch 40/50\n",
      "60000/60000 [==============================] - 5s - loss: 0.3075 - val_loss: 0.3070\n",
      "Epoch 41/50\n",
      "60000/60000 [==============================] - 5s - loss: 0.3062 - val_loss: 0.3057\n",
      "Epoch 42/50\n",
      "60000/60000 [==============================] - 5s - loss: 0.3050 - val_loss: 0.3045\n",
      "Epoch 43/50\n",
      "60000/60000 [==============================] - 5s - loss: 0.3038 - val_loss: 0.3034\n",
      "Epoch 44/50\n",
      "60000/60000 [==============================] - 5s - loss: 0.3027 - val_loss: 0.3023\n",
      "Epoch 45/50\n",
      "60000/60000 [==============================] - 5s - loss: 0.3016 - val_loss: 0.3012\n",
      "Epoch 46/50\n",
      "60000/60000 [==============================] - 5s - loss: 0.3006 - val_loss: 0.3002\n",
      "Epoch 47/50\n",
      "60000/60000 [==============================] - 5s - loss: 0.2997 - val_loss: 0.2993\n",
      "Epoch 48/50\n",
      "60000/60000 [==============================] - 5s - loss: 0.2987 - val_loss: 0.2984\n",
      "Epoch 49/50\n",
      "60000/60000 [==============================] - 5s - loss: 0.2979 - val_loss: 0.2975\n",
      "Epoch 50/50\n",
      "60000/60000 [==============================] - 5s - loss: 0.2970 - val_loss: 0.2967\n",
      "(10000, 32)\n",
      "(10000, 784)\n"
     ]
    }
   ],
   "source": [
    "# multilayer and inclusion of regularization l1/l2\n",
    "encoding_dim = 32\n",
    "\n",
    "input_img = Input(shape=(784,))\n",
    "# add a Dense layer with a L1 activity regularizer\n",
    "encoded = Dense(encoding_dim, activation='relu',\n",
    "                activity_regularizer=regularizers.l1(10e-5))(input_img)\n",
    "decoded = Dense(784, activation='sigmoid')(encoded)\n",
    "\n",
    "autoencoder = Model(input_img, decoded)\n",
    "fit_model(autoencoder,Xtrain,Xtest,100)\n",
    "Xpred=encoded.eval({input_img:Xtest})\n",
    "print(Xpred.shape)\n",
    "Xdecoded=decoded.eval({encoded:Xpred})\n",
    "print(Xdecoded.shape)"
   ]
  },
  {
   "cell_type": "code",
   "execution_count": 21,
   "metadata": {},
   "outputs": [
    {
     "data": {
      "image/png": "[encoded data removed]",
      "text/plain": [
       "<matplotlib.figure.Figure at 0x7ff1ebf400f0>"
      ]
     },
     "metadata": {},
     "output_type": "display_data"
    }
   ],
   "source": [
    "plot_output(Xtest,Xdecoded)"
   ]
  },
  {
   "cell_type": "code",
   "execution_count": null,
   "metadata": {
    "collapsed": true
   },
   "outputs": [],
   "source": [
    "input_img = Input(shape=(784,))\n",
    "encoded_1 = Dense(128, activation='relu')(input_img)\n",
    "encoded_2 = Dense(64, activation='relu')(encoded_1)\n",
    "encoded_3 = Dense(32, activation='relu')(encoded_2)\n",
    "\n",
    "decoded_1 = Dense(64, activation='relu')(encoded_3)\n",
    "decoded_2 = Dense(128, activation='relu')(decoded_1)\n",
    "decoded_3 = Dense(784, activation='sigmoid')(decoded_2)\n",
    "autoencoder"
   ]
  }
 ],
 "metadata": {
  "kernelspec": {
   "display_name": "Python 3",
   "language": "python",
   "name": "python3"
  },
  "language_info": {
   "codemirror_mode": {
    "name": "ipython",
    "version": 3
   },
   "file_extension": ".py",
   "mimetype": "text/x-python",
   "name": "python",
   "nbconvert_exporter": "python",
   "pygments_lexer": "ipython3",
   "version": "3.6.1"
  }
 },
 "nbformat": 4,
 "nbformat_minor": 2
}
