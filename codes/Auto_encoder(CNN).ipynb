{
 "cells": [
  {
   "cell_type": "code",
   "execution_count": 2,
   "metadata": {},
   "outputs": [],
   "source": [
    "import numpy as np\n",
    "import theano \n",
    "from keras.layers import Input, Dense, Conv2D, MaxPooling2D, UpSampling2D\n",
    "from keras.models import Model\n",
    "from keras import backend as K\n",
    "import matplotlib.pyplot as plt\n",
    "from keras import regularizers\n"
   ]
  },
  {
   "cell_type": "code",
   "execution_count": 4,
   "metadata": {},
   "outputs": [],
   "source": [
    "input_img = Input(shape=(28, 28, 1))  # adapt this if using `channels_first` image data format\n",
    "\n",
    "l1 = Conv2D(16, (3, 3), activation='relu', padding='same')(input_img)\n",
    "l2 = MaxPooling2D((2, 2), padding='same')(l1)\n",
    "l3 = Conv2D(8, (3, 3), activation='relu', padding='same')(l2)\n",
    "l4 = MaxPooling2D((2, 2), padding='same')(l3)\n",
    "l5 = Conv2D(8, (3, 3), activation='relu', padding='same')(l4)\n",
    "encoded = MaxPooling2D((2, 2), padding='same')(l5)\n",
    "\n",
    "d1 = Conv2D(8, (3, 3), activation='relu', padding='same')(encoded)\n",
    "d2 = UpSampling2D((2, 2))(d1)\n",
    "d3 = Conv2D(8, (3, 3), activation='relu', padding='same')(d2)\n",
    "d4 = UpSampling2D((2, 2))(d3)\n",
    "d5 = Conv2D(16, (3, 3), activation='relu')(d4)\n",
    "d6 = UpSampling2D((2, 2))(d5)\n",
    "decoded = Conv2D(1, (3, 3), activation='sigmoid', padding='same')(d6)"
   ]
  },
  {
   "cell_type": "code",
   "execution_count": 20,
   "metadata": {},
   "outputs": [],
   "source": [
    "X=np.random.normal(size=(2,28,28,1))\n",
    "X1=l1.eval({input_img:X.astype('float32')})\n"
   ]
  },
  {
   "cell_type": "code",
   "execution_count": 24,
   "metadata": {},
   "outputs": [],
   "source": [
    "X2=l2.eval({l1:X1})"
   ]
  },
  {
   "cell_type": "code",
   "execution_count": 27,
   "metadata": {},
   "outputs": [
    {
     "name": "stdout",
     "output_type": "stream",
     "text": [
      "(2, 7, 7, 8)\n",
      "(2, 7, 7, 8)\n"
     ]
    }
   ],
   "source": [
    "X3=l3.eval({l2:X2})\n",
    "X4=l4.eval({l3:X3})\n",
    "print(X4.shape)\n",
    "X5=l5.eval({l4:X4})\n",
    "print(X5.shape)"
   ]
  },
  {
   "cell_type": "code",
   "execution_count": 28,
   "metadata": {},
   "outputs": [],
   "source": [
    "# encoded layer output\n",
    "e=encoded.eval({input_img:X.astype('float32')})"
   ]
  },
  {
   "cell_type": "code",
   "execution_count": 29,
   "metadata": {},
   "outputs": [
    {
     "name": "stdout",
     "output_type": "stream",
     "text": [
      "(2, 4, 4, 8)\n"
     ]
    }
   ],
   "source": [
    "dec1=d1.eval({encoded:e})\n",
    "print(dec1.shape)"
   ]
  },
  {
   "cell_type": "code",
   "execution_count": 30,
   "metadata": {},
   "outputs": [
    {
     "name": "stdout",
     "output_type": "stream",
     "text": [
      "(2, 8, 8, 8)\n"
     ]
    }
   ],
   "source": [
    "dec2=d2.eval({d1:dec1})\n",
    "print(dec2.shape)"
   ]
  },
  {
   "cell_type": "code",
   "execution_count": 31,
   "metadata": {
    "collapsed": true
   },
   "outputs": [],
   "source": [
    "autoencoder = Model(input_img, decoded)\n",
    "autoencoder.compile(optimizer='adadelta', loss='binary_crossentropy')\n",
    "from keras.datasets import mnist\n",
    "import numpy as np\n",
    "\n",
    "(x_train, _), (x_test, _) = mnist.load_data()\n",
    "\n",
    "x_train = x_train.astype('float32') / 255.\n",
    "x_test = x_test.astype('float32') / 255.\n",
    "x_train = np.reshape(x_train, (len(x_train), 28, 28, 1))  # adapt this if using `channels_first` image data format\n",
    "x_test = np.reshape(x_test, (len(x_test), 28, 28, 1))  # adapt this if using `channels_first` image data format"
   ]
  },
  {
   "cell_type": "code",
   "execution_count": 32,
   "metadata": {},
   "outputs": [
    {
     "data": {
      "text/plain": [
       "(60000, 28, 28, 1)"
      ]
     },
     "execution_count": 32,
     "metadata": {},
     "output_type": "execute_result"
    }
   ],
   "source": [
    "x_train.shape"
   ]
  },
  {
   "cell_type": "code",
   "execution_count": 37,
   "metadata": {
    "scrolled": true
   },
   "outputs": [
    {
     "name": "stdout",
     "output_type": "stream",
     "text": [
      "Train on 60000 samples, validate on 10000 samples\n",
      "Epoch 1/50\n",
      "60000/60000 [==============================] - 94s - loss: 0.2393 - val_loss: 0.1814\n",
      "Epoch 2/50\n",
      "60000/60000 [==============================] - 87s - loss: 0.1718 - val_loss: 0.1663\n",
      "Epoch 3/50\n",
      "60000/60000 [==============================] - 91s - loss: 0.1533 - val_loss: 0.1433\n",
      "Epoch 4/50\n",
      "60000/60000 [==============================] - 90s - loss: 0.1421 - val_loss: 0.1336\n",
      "Epoch 5/50\n",
      "60000/60000 [==============================] - 89s - loss: 0.1340 - val_loss: 0.1306\n",
      "Epoch 6/50\n",
      "60000/60000 [==============================] - 85s - loss: 0.1297 - val_loss: 0.1267\n",
      "Epoch 7/50\n",
      "60000/60000 [==============================] - 89s - loss: 0.1269 - val_loss: 0.1255\n",
      "Epoch 8/50\n",
      "60000/60000 [==============================] - 85s - loss: 0.1242 - val_loss: 0.1227\n",
      "Epoch 9/50\n",
      "60000/60000 [==============================] - 88s - loss: 0.1219 - val_loss: 0.1174\n",
      "Epoch 10/50\n",
      "60000/60000 [==============================] - 84s - loss: 0.1200 - val_loss: 0.1159\n",
      "Epoch 11/50\n",
      "60000/60000 [==============================] - 84s - loss: 0.1183 - val_loss: 0.1145\n",
      "Epoch 12/50\n",
      "60000/60000 [==============================] - 88s - loss: 0.1165 - val_loss: 0.1145\n",
      "Epoch 13/50\n",
      "60000/60000 [==============================] - 89s - loss: 0.1152 - val_loss: 0.1136\n",
      "Epoch 14/50\n",
      "60000/60000 [==============================] - 87s - loss: 0.1146 - val_loss: 0.1119\n",
      "Epoch 15/50\n",
      "60000/60000 [==============================] - 87s - loss: 0.1134 - val_loss: 0.1100\n",
      "Epoch 16/50\n",
      "60000/60000 [==============================] - 83s - loss: 0.1126 - val_loss: 0.1116\n",
      "Epoch 17/50\n",
      "60000/60000 [==============================] - 87s - loss: 0.1117 - val_loss: 0.1084\n",
      "Epoch 18/50\n",
      "60000/60000 [==============================] - 88s - loss: 0.1108 - val_loss: 0.1078\n",
      "Epoch 19/50\n",
      "60000/60000 [==============================] - 87s - loss: 0.1100 - val_loss: 0.1094\n",
      "Epoch 20/50\n",
      "60000/60000 [==============================] - 82s - loss: 0.1095 - val_loss: 0.1082\n",
      "Epoch 21/50\n",
      "60000/60000 [==============================] - 86s - loss: 0.1088 - val_loss: 0.1068\n",
      "Epoch 22/50\n",
      "60000/60000 [==============================] - 84s - loss: 0.1080 - val_loss: 0.1051\n",
      "Epoch 23/50\n",
      "60000/60000 [==============================] - 84s - loss: 0.1078 - val_loss: 0.1073\n",
      "Epoch 24/50\n",
      "60000/60000 [==============================] - 86s - loss: 0.1069 - val_loss: 0.1045\n",
      "Epoch 25/50\n",
      "60000/60000 [==============================] - 84s - loss: 0.1065 - val_loss: 0.1051\n",
      "Epoch 26/50\n",
      "60000/60000 [==============================] - 82s - loss: 0.1059 - val_loss: 0.1051\n",
      "Epoch 27/50\n",
      "60000/60000 [==============================] - 83s - loss: 0.1057 - val_loss: 0.1037\n",
      "Epoch 28/50\n",
      "60000/60000 [==============================] - 87s - loss: 0.1054 - val_loss: 0.1043\n",
      "Epoch 29/50\n",
      "60000/60000 [==============================] - 83s - loss: 0.1051 - val_loss: 0.1032\n",
      "Epoch 30/50\n",
      "60000/60000 [==============================] - 84s - loss: 0.1047 - val_loss: 0.1019\n",
      "Epoch 31/50\n",
      "60000/60000 [==============================] - 87s - loss: 0.1043 - val_loss: 0.1033\n",
      "Epoch 32/50\n",
      "60000/60000 [==============================] - 87s - loss: 0.1041 - val_loss: 0.1027\n",
      "Epoch 33/50\n",
      "60000/60000 [==============================] - 84s - loss: 0.1037 - val_loss: 0.1048\n",
      "Epoch 34/50\n",
      "60000/60000 [==============================] - 85s - loss: 0.1033 - val_loss: 0.1012\n",
      "Epoch 35/50\n",
      "60000/60000 [==============================] - 89s - loss: 0.1032 - val_loss: 0.1018\n",
      "Epoch 36/50\n",
      "60000/60000 [==============================] - 86s - loss: 0.1030 - val_loss: 0.1005\n",
      "Epoch 37/50\n",
      "60000/60000 [==============================] - 88s - loss: 0.1027 - val_loss: 0.1018\n",
      "Epoch 38/50\n",
      "60000/60000 [==============================] - 85s - loss: 0.1024 - val_loss: 0.1014\n",
      "Epoch 39/50\n",
      "60000/60000 [==============================] - 85s - loss: 0.1021 - val_loss: 0.1003\n",
      "Epoch 40/50\n",
      "60000/60000 [==============================] - 84s - loss: 0.1021 - val_loss: 0.0994\n",
      "Epoch 41/50\n",
      "60000/60000 [==============================] - 86s - loss: 0.1020 - val_loss: 0.1029\n",
      "Epoch 42/50\n",
      "60000/60000 [==============================] - 88s - loss: 0.1014 - val_loss: 0.1016\n",
      "Epoch 43/50\n",
      "60000/60000 [==============================] - 90s - loss: 0.1016 - val_loss: 0.0993\n",
      "Epoch 44/50\n",
      "60000/60000 [==============================] - 85s - loss: 0.1012 - val_loss: 0.0993\n",
      "Epoch 45/50\n",
      "60000/60000 [==============================] - 86s - loss: 0.1010 - val_loss: 0.0989\n",
      "Epoch 46/50\n",
      "60000/60000 [==============================] - 88s - loss: 0.1005 - val_loss: 0.0994\n",
      "Epoch 47/50\n",
      "60000/60000 [==============================] - 84s - loss: 0.1004 - val_loss: 0.0984\n",
      "Epoch 48/50\n",
      "60000/60000 [==============================] - 84s - loss: 0.1002 - val_loss: 0.0992\n",
      "Epoch 49/50\n",
      "60000/60000 [==============================] - 83s - loss: 0.1002 - val_loss: 0.0998\n",
      "Epoch 50/50\n",
      "60000/60000 [==============================] - 89s - loss: 0.1002 - val_loss: 0.0989\n"
     ]
    },
    {
     "data": {
      "text/plain": [
       "<keras.callbacks.History at 0x7f69895f6b00>"
      ]
     },
     "execution_count": 37,
     "metadata": {},
     "output_type": "execute_result"
    }
   ],
   "source": [
    "#from keras.callbacks import TensorBoard\n",
    "\n",
    "autoencoder.fit(x_train, x_train,\n",
    "                epochs=50,\n",
    "                batch_size=128,\n",
    "                shuffle=True,\n",
    "                validation_data=(x_test, x_test),\n",
    "                )"
   ]
  },
  {
   "cell_type": "code",
   "execution_count": 39,
   "metadata": {},
   "outputs": [
    {
     "data": {
      "text/plain": [
       "<matplotlib.figure.Figure at 0x7f6982b53940>"
      ]
     },
     "metadata": {},
     "output_type": "display_data"
    },
    {
     "data": {
      "image/png": "[encoded data removed]",
      "text/plain": [
       "<matplotlib.figure.Figure at 0x7f69828e47f0>"
      ]
     },
     "metadata": {},
     "output_type": "display_data"
    }
   ],
   "source": [
    "decoded_imgs = autoencoder.predict(x_test)\n",
    "\n",
    "n = 10\n",
    "plt.figure(figsize=(20, 4))\n",
    "for i in range(n):\n",
    "    # display original\n",
    "    ax = plt.subplot(2, n, i+1)\n",
    "    plt.imshow(x_test[i].reshape(28, 28))\n",
    "    plt.gray()\n",
    "    ax.get_xaxis().set_visible(False)\n",
    "    ax.get_yaxis().set_visible(False)\n",
    "\n",
    "    # display reconstruction\n",
    "    ax = plt.subplot(2, n, i +1+ n)\n",
    "    plt.imshow(decoded_imgs[i].reshape(28, 28))\n",
    "    plt.gray()\n",
    "    ax.get_xaxis().set_visible(False)\n",
    "    ax.get_yaxis().set_visible(False)\n",
    "plt.show()"
   ]
  },
  {
   "cell_type": "code",
   "execution_count": 40,
   "metadata": {
    "collapsed": true
   },
   "outputs": [],
   "source": [
    "e=encoded.eval({input_img:x_test})"
   ]
  },
  {
   "cell_type": "code",
   "execution_count": 50,
   "metadata": {},
   "outputs": [
    {
     "data": {
      "text/plain": [
       "(4, 4)"
      ]
     },
     "execution_count": 50,
     "metadata": {},
     "output_type": "execute_result"
    }
   ],
   "source": [
    "test=e[1]\n",
    "e[0,:,:,1].shape"
   ]
  },
  {
   "cell_type": "code",
   "execution_count": 55,
   "metadata": {},
   "outputs": [
    {
     "data": {
      "image/png": "[encoded data removed]",
      "text/plain": [
       "<matplotlib.figure.Figure at 0x7f6981c11048>"
      ]
     },
     "metadata": {},
     "output_type": "display_data"
    }
   ],
   "source": [
    "n = 8\n",
    "plt.figure(figsize=(16, 20))\n",
    "for j in range(10):    \n",
    "    for i in range(8):\n",
    "\n",
    "        ax = plt.subplot(10, n, (j*n)+i+1)\n",
    "        plt.imshow(e[j,:,:,i])\n",
    "        plt.gray()\n",
    "        ax.get_xaxis().set_visible(False)\n",
    "        ax.get_yaxis().set_visible(False)\n",
    "plt.show()    "
   ]
  },
  {
   "cell_type": "code",
   "execution_count": null,
   "metadata": {
    "collapsed": true
   },
   "outputs": [],
   "source": []
  },
  {
   "cell_type": "code",
   "execution_count": null,
   "metadata": {
    "collapsed": true
   },
   "outputs": [],
   "source": []
  }
 ],
 "metadata": {
  "kernelspec": {
   "display_name": "Python 3",
   "language": "python",
   "name": "python3"
  },
  "language_info": {
   "codemirror_mode": {
    "name": "ipython",
    "version": 3
   },
   "file_extension": ".py",
   "mimetype": "text/x-python",
   "name": "python",
   "nbconvert_exporter": "python",
   "pygments_lexer": "ipython3",
   "version": "3.6.1"
  }
 },
 "nbformat": 4,
 "nbformat_minor": 2
}
