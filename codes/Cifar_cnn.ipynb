{
 "cells": [
  {
   "cell_type": "code",
   "execution_count": 15,
   "metadata": {},
   "outputs": [],
   "source": [
    "import keras\n",
    "from keras.datasets import mnist\n",
    "from keras.models import Sequential\n",
    "from keras.layers import Dense, Dropout, Input, Flatten\n",
    "from keras.optimizers import RMSprop, adam\n",
    "from keras.models import Model\n",
    "from keras.datasets import cifar10\n",
    "from keras.layers import Conv2D, MaxPooling2D"
   ]
  },
  {
   "cell_type": "code",
   "execution_count": 6,
   "metadata": {
    "collapsed": true
   },
   "outputs": [],
   "source": [
    "def loaddata():\n",
    "    (x_train, y_train), (x_test, y_test) = cifar10.load_data()\n",
    "    \n",
    "\n",
    "    # Convert class vectors to binary class matrices.\n",
    "    y_train = keras.utils.to_categorical(y_train)\n",
    "    y_test = keras.utils.to_categorical(y_test)\n",
    "    x_train = x_train.astype('float32')\n",
    "    x_test = x_test.astype('float32')\n",
    "    x_train /= 255\n",
    "    x_test /= 255\n",
    "    return (x_train, y_train), (x_test, y_test)\n"
   ]
  },
  {
   "cell_type": "code",
   "execution_count": 8,
   "metadata": {},
   "outputs": [],
   "source": [
    "(x_train, y_train), (x_test, y_test) = loaddata()"
   ]
  },
  {
   "cell_type": "code",
   "execution_count": 14,
   "metadata": {},
   "outputs": [
    {
     "name": "stdout",
     "output_type": "stream",
     "text": [
      "x_train shape: (50000, 32, 32, 3)\n",
      "y_train shape: (50000, 10)\n"
     ]
    }
   ],
   "source": [
    "print('x_train shape:', x_train.shape)\n",
    "print('y_train shape:', y_train.shape)"
   ]
  },
  {
   "cell_type": "code",
   "execution_count": 16,
   "metadata": {
    "collapsed": true
   },
   "outputs": [],
   "source": [
    "# model \n",
    "input_img = Input(shape=(32, 32, 3))\n",
    "\n",
    "conv_1=Conv2D(32, (3, 3), activation='relu', padding='same')(input_img)\n",
    "conv_2=Conv2D(32, (3, 3), activation='relu', padding='same')(conv_1)\n",
    "max_pool_1=MaxPooling2D((2, 2), padding='same')(conv_2)\n",
    "drop_1=Dropout(0.25)(max_pool_1)\n",
    "\n",
    "\n",
    "conv_3=Conv2D(32, (3, 3), activation='relu', padding='same')(drop_1)\n",
    "conv_4=Conv2D(32, (3, 3), activation='relu', padding='same')(conv_3)\n",
    "max_pool_2=MaxPooling2D((2, 2), padding='same')(conv_4)\n",
    "drop_2=Dropout(0.25)(max_pool_2)\n",
    "\n",
    "flat=Flatten()(drop_2)\n",
    "dense_1=Dense(512, activation='relu')(flat)\n",
    "drop_1=Dropout(0.2)(dense_1)\n",
    "out=Dense(10, activation='softmax')(drop_1)\n",
    "\n",
    "CNN=Model(input_img,out)"
   ]
  },
  {
   "cell_type": "code",
   "execution_count": 17,
   "metadata": {},
   "outputs": [
    {
     "name": "stdout",
     "output_type": "stream",
     "text": [
      "_________________________________________________________________\n",
      "Layer (type)                 Output Shape              Param #   \n",
      "=================================================================\n",
      "input_1 (InputLayer)         (None, 32, 32, 3)         0         \n",
      "_________________________________________________________________\n",
      "conv2d_1 (Conv2D)            (None, 32, 32, 32)        896       \n",
      "_________________________________________________________________\n",
      "conv2d_2 (Conv2D)            (None, 32, 32, 32)        9248      \n",
      "_________________________________________________________________\n",
      "max_pooling2d_1 (MaxPooling2 (None, 16, 16, 32)        0         \n",
      "_________________________________________________________________\n",
      "dropout_1 (Dropout)          (None, 16, 16, 32)        0         \n",
      "_________________________________________________________________\n",
      "conv2d_3 (Conv2D)            (None, 16, 16, 32)        9248      \n",
      "_________________________________________________________________\n",
      "conv2d_4 (Conv2D)            (None, 16, 16, 32)        9248      \n",
      "_________________________________________________________________\n",
      "max_pooling2d_2 (MaxPooling2 (None, 8, 8, 32)          0         \n",
      "_________________________________________________________________\n",
      "dropout_2 (Dropout)          (None, 8, 8, 32)          0         \n",
      "_________________________________________________________________\n",
      "flatten_1 (Flatten)          (None, 2048)              0         \n",
      "_________________________________________________________________\n",
      "dense_1 (Dense)              (None, 512)               1049088   \n",
      "_________________________________________________________________\n",
      "dropout_3 (Dropout)          (None, 512)               0         \n",
      "_________________________________________________________________\n",
      "dense_2 (Dense)              (None, 10)                5130      \n",
      "=================================================================\n",
      "Total params: 1,082,858\n",
      "Trainable params: 1,082,858\n",
      "Non-trainable params: 0\n",
      "_________________________________________________________________\n"
     ]
    }
   ],
   "source": [
    "CNN.summary()"
   ]
  },
  {
   "cell_type": "code",
   "execution_count": 19,
   "metadata": {},
   "outputs": [
    {
     "name": "stdout",
     "output_type": "stream",
     "text": [
      "Train on 50000 samples, validate on 10000 samples\n",
      "Epoch 1/10\n",
      "50000/50000 [==============================] - 220s - loss: 1.6777 - acc: 0.3913 - val_loss: 1.4143 - val_acc: 0.4865\n",
      "Epoch 2/10\n",
      "50000/50000 [==============================] - 216s - loss: 1.2990 - acc: 0.5346 - val_loss: 1.1467 - val_acc: 0.6005\n",
      "Epoch 3/10\n",
      "50000/50000 [==============================] - 239s - loss: 1.1074 - acc: 0.6075 - val_loss: 0.9746 - val_acc: 0.6548\n",
      "Epoch 4/10\n",
      "50000/50000 [==============================] - 241s - loss: 0.9761 - acc: 0.6534 - val_loss: 0.9336 - val_acc: 0.6676\n",
      "Epoch 5/10\n",
      "50000/50000 [==============================] - 241s - loss: 0.8841 - acc: 0.6880 - val_loss: 0.8512 - val_acc: 0.6990\n",
      "Epoch 6/10\n",
      "50000/50000 [==============================] - 236s - loss: 0.8191 - acc: 0.7118 - val_loss: 0.8016 - val_acc: 0.7251\n",
      "Epoch 7/10\n",
      "50000/50000 [==============================] - 226s - loss: 0.7500 - acc: 0.7362 - val_loss: 0.8011 - val_acc: 0.7257\n",
      "Epoch 8/10\n",
      "50000/50000 [==============================] - 223s - loss: 0.6875 - acc: 0.7568 - val_loss: 0.7829 - val_acc: 0.7347\n",
      "Epoch 9/10\n",
      "50000/50000 [==============================] - 227s - loss: 0.6399 - acc: 0.7718 - val_loss: 0.7272 - val_acc: 0.7492\n",
      "Epoch 10/10\n",
      "50000/50000 [==============================] - 227s - loss: 0.5991 - acc: 0.7878 - val_loss: 0.7318 - val_acc: 0.7505\n"
     ]
    }
   ],
   "source": [
    "CNN.compile(loss='categorical_crossentropy',\n",
    "              optimizer='adam',\n",
    "              metrics=['accuracy'])\n",
    "\n",
    "history = CNN.fit(x_train, y_train,\n",
    "                    batch_size=128,\n",
    "                    epochs=10,\n",
    "                    verbose=1,\n",
    "                    validation_data=(x_test, y_test))"
   ]
  },
  {
   "cell_type": "code",
   "execution_count": 20,
   "metadata": {},
   "outputs": [
    {
     "name": "stdout",
     "output_type": "stream",
     "text": [
      "10000/10000 [==============================] - 15s    \n",
      "Test loss: 0.73179643116\n",
      "Test accuracy: 0.7505\n"
     ]
    }
   ],
   "source": [
    "scores = CNN.evaluate(x_test, y_test, verbose=1)\n",
    "print('Test loss:', scores[0])\n",
    "print('Test accuracy:', scores[1])"
   ]
  },
  {
   "cell_type": "code",
   "execution_count": null,
   "metadata": {
    "collapsed": true
   },
   "outputs": [],
   "source": []
  }
 ],
 "metadata": {
  "kernelspec": {
   "display_name": "Python 3",
   "language": "python",
   "name": "python3"
  },
  "language_info": {
   "codemirror_mode": {
    "name": "ipython",
    "version": 3
   },
   "file_extension": ".py",
   "mimetype": "text/x-python",
   "name": "python",
   "nbconvert_exporter": "python",
   "pygments_lexer": "ipython3",
   "version": "3.6.1"
  }
 },
 "nbformat": 4,
 "nbformat_minor": 2
}
