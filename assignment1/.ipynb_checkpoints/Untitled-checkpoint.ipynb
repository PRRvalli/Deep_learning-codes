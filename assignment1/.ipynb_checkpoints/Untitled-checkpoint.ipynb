{
 "cells": [
  {
   "cell_type": "code",
   "execution_count": 4,
   "metadata": {},
   "outputs": [
    {
     "name": "stdout",
     "output_type": "stream",
     "text": [
      "[2 4 1]\n",
      "[4 2 3]\n"
     ]
    }
   ],
   "source": [
    "# This is to make note of some new fuction mentioned in the Assignment-1\n",
    "import numpy as np\n",
    "a=np.random.choice(5,3,replace=False)\n",
    "print(a)\n",
    "# Similar to permute matrix in np.random.permutation(5)[:3]\n",
    "b=np.random.permutation(5)[:3]\n",
    "print(b)\n"
   ]
  },
  {
   "cell_type": "code",
   "execution_count": 13,
   "metadata": {},
   "outputs": [],
   "source": [
    "a = np.arange(240).reshape((5, 4, 4,3))\n",
    "b = np.reshape(a,(5,-1))"
   ]
  },
  {
   "cell_type": "code",
   "execution_count": 14,
   "metadata": {},
   "outputs": [
    {
     "name": "stdout",
     "output_type": "stream",
     "text": [
      "[[  0   1   2   3   4   5   6   7   8   9  10  11  12  13  14  15  16  17\n",
      "   18  19  20  21  22  23  24  25  26  27  28  29  30  31  32  33  34  35\n",
      "   36  37  38  39  40  41  42  43  44  45  46  47]\n",
      " [ 48  49  50  51  52  53  54  55  56  57  58  59  60  61  62  63  64  65\n",
      "   66  67  68  69  70  71  72  73  74  75  76  77  78  79  80  81  82  83\n",
      "   84  85  86  87  88  89  90  91  92  93  94  95]\n",
      " [ 96  97  98  99 100 101 102 103 104 105 106 107 108 109 110 111 112 113\n",
      "  114 115 116 117 118 119 120 121 122 123 124 125 126 127 128 129 130 131\n",
      "  132 133 134 135 136 137 138 139 140 141 142 143]\n",
      " [144 145 146 147 148 149 150 151 152 153 154 155 156 157 158 159 160 161\n",
      "  162 163 164 165 166 167 168 169 170 171 172 173 174 175 176 177 178 179\n",
      "  180 181 182 183 184 185 186 187 188 189 190 191]\n",
      " [192 193 194 195 196 197 198 199 200 201 202 203 204 205 206 207 208 209\n",
      "  210 211 212 213 214 215 216 217 218 219 220 221 222 223 224 225 226 227\n",
      "  228 229 230 231 232 233 234 235 236 237 238 239]]\n"
     ]
    }
   ],
   "source": [
    "print(b)\n"
   ]
  },
  {
   "cell_type": "code",
   "execution_count": 17,
   "metadata": {},
   "outputs": [
    {
     "name": "stdout",
     "output_type": "stream",
     "text": [
      "(4, 4, 3)\n"
     ]
    }
   ],
   "source": [
    "print(a[0].shape)"
   ]
  },
  {
   "cell_type": "code",
   "execution_count": 30,
   "metadata": {},
   "outputs": [
    {
     "name": "stdout",
     "output_type": "stream",
     "text": [
      "(4, 3)\n"
     ]
    }
   ],
   "source": [
    "print(a[1][1].shape)"
   ]
  },
  {
   "cell_type": "code",
   "execution_count": 20,
   "metadata": {},
   "outputs": [
    {
     "name": "stdout",
     "output_type": "stream",
     "text": [
      "[[[ 0  1  2]\n",
      "  [ 3  4  5]\n",
      "  [ 6  7  8]\n",
      "  [ 9 10 11]]\n",
      "\n",
      " [[12 13 14]\n",
      "  [15 16 17]\n",
      "  [18 19 20]\n",
      "  [21 22 23]]\n",
      "\n",
      " [[24 25 26]\n",
      "  [27 28 29]\n",
      "  [30 31 32]\n",
      "  [33 34 35]]\n",
      "\n",
      " [[36 37 38]\n",
      "  [39 40 41]\n",
      "  [42 43 44]\n",
      "  [45 46 47]]]\n"
     ]
    }
   ],
   "source": [
    "print(a[0])"
   ]
  },
  {
   "cell_type": "code",
   "execution_count": 32,
   "metadata": {},
   "outputs": [],
   "source": [
    "# broadcasting\n",
    "train=np.arange(240).reshape((5, 48))"
   ]
  },
  {
   "cell_type": "code",
   "execution_count": 43,
   "metadata": {},
   "outputs": [],
   "source": [
    "y=np.mean(train,axis=1).astype('int64') # along rows "
   ]
  },
  {
   "cell_type": "code",
   "execution_count": 39,
   "metadata": {},
   "outputs": [],
   "source": [
    "x=np.mean(train,axis=0).astype('int64') # along columns "
   ]
  },
  {
   "cell_type": "code",
   "execution_count": 44,
   "metadata": {},
   "outputs": [
    {
     "ename": "ValueError",
     "evalue": "operands could not be broadcast together with shapes (5,48) (5,) (5,48) ",
     "output_type": "error",
     "traceback": [
      "\u001b[0;31m---------------------------------------------------------------------------\u001b[0m",
      "\u001b[0;31mValueError\u001b[0m                                Traceback (most recent call last)",
      "\u001b[0;32m<ipython-input-44-b24e7f9e3985>\u001b[0m in \u001b[0;36m<module>\u001b[0;34m()\u001b[0m\n\u001b[0;32m----> 1\u001b[0;31m \u001b[0mtrain\u001b[0m\u001b[0;34m-=\u001b[0m\u001b[0my\u001b[0m\u001b[0;34m\u001b[0m\u001b[0m\n\u001b[0m",
      "\u001b[0;31mValueError\u001b[0m: operands could not be broadcast together with shapes (5,48) (5,) (5,48) "
     ]
    }
   ],
   "source": [
    "train-=y"
   ]
  },
  {
   "cell_type": "code",
   "execution_count": 47,
   "metadata": {
    "collapsed": true
   },
   "outputs": [],
   "source": [
    "train-=x# this is possible but the above one is not possible"
   ]
  },
  {
   "cell_type": "raw",
   "metadata": {},
   "source": [
    "train = np.hstack([train, np.ones((train.shape[0], 1))])"
   ]
  },
  {
   "cell_type": "code",
   "execution_count": 53,
   "metadata": {},
   "outputs": [
    {
     "data": {
      "text/plain": [
       "(5, 50)"
      ]
     },
     "execution_count": 53,
     "metadata": {},
     "output_type": "execute_result"
    }
   ],
   "source": [
    "train.shape"
   ]
  },
  {
   "cell_type": "code",
   "execution_count": 52,
   "metadata": {},
   "outputs": [],
   "source": [
    "train = np.hstack([train, np.ones((train.shape[0],1))])\n",
    "#hstack stacks one more column"
   ]
  },
  {
   "cell_type": "code",
   "execution_count": 116,
   "metadata": {},
   "outputs": [
    {
     "name": "stdout",
     "output_type": "stream",
     "text": [
      "[[16 15 19]\n",
      " [12  0 13]\n",
      " [ 1  2  6]]\n"
     ]
    }
   ],
   "source": [
    "score=np.random.choice(20,(3,3),replace=False)\n",
    "print(score)"
   ]
  },
  {
   "cell_type": "code",
   "execution_count": 58,
   "metadata": {
    "collapsed": true
   },
   "outputs": [],
   "source": [
    "y=[2,1,3]"
   ]
  },
  {
   "cell_type": "code",
   "execution_count": 117,
   "metadata": {},
   "outputs": [],
   "source": [
    "correct_class=[score[y[i]-1][i] for i in np.arange(3)]"
   ]
  },
  {
   "cell_type": "code",
   "execution_count": 118,
   "metadata": {},
   "outputs": [
    {
     "data": {
      "text/plain": [
       "[1, 0, 19]"
      ]
     },
     "execution_count": 118,
     "metadata": {},
     "output_type": "execute_result"
    }
   ],
   "source": [
    "correct_class"
   ]
  },
  {
   "cell_type": "code",
   "execution_count": 119,
   "metadata": {},
   "outputs": [
    {
     "name": "stdout",
     "output_type": "stream",
     "text": [
      "[[ 15  15   0]\n",
      " [ 11   0  -6]\n",
      " [  0   2 -13]]\n",
      "(3, 3)\n"
     ]
    }
   ],
   "source": [
    "margin=score-correct_class\n",
    "print(margin)\n",
    "print(margin.shape)"
   ]
  },
  {
   "cell_type": "code",
   "execution_count": 72,
   "metadata": {},
   "outputs": [
    {
     "data": {
      "text/plain": [
       "array([-4.66666667,  3.        ,  1.        ])"
      ]
     },
     "execution_count": 72,
     "metadata": {},
     "output_type": "execute_result"
    }
   ],
   "source": [
    "np.mean(margin,axis=0)"
   ]
  },
  {
   "cell_type": "code",
   "execution_count": 120,
   "metadata": {},
   "outputs": [
    {
     "name": "stdout",
     "output_type": "stream",
     "text": [
      "[[ 6  8  8]\n",
      " [ 9  7  9]\n",
      " [19  3 17]]\n",
      "[6 8 9 3]\n"
     ]
    },
    {
     "data": {
      "text/plain": [
       "26"
      ]
     },
     "execution_count": 120,
     "metadata": {},
     "output_type": "execute_result"
    }
   ],
   "source": [
    "x=np.random.choice(20,(3,3))\n",
    "print(x)\n",
    "print(x[margin>0])\n",
    "np.sum(x[margin>0],axis=0)"
   ]
  },
  {
   "cell_type": "code",
   "execution_count": 121,
   "metadata": {},
   "outputs": [
    {
     "name": "stdout",
     "output_type": "stream",
     "text": [
      "[2 1 1]\n"
     ]
    }
   ],
   "source": [
    "incorrect_counts = np.sum(margin > 0, axis=1)\n",
    "print(incorrect_counts)"
   ]
  },
  {
   "cell_type": "code",
   "execution_count": 115,
   "metadata": {},
   "outputs": [
    {
     "name": "stdout",
     "output_type": "stream",
     "text": [
      "[[-10 -17  -2]]\n",
      "[[ -9 -15  -4]]\n",
      "[[ -8 -15  -9]]\n"
     ]
    }
   ],
   "source": [
    "#y=np.random.choice(3,(3,),replace=False)\n",
    "for k in np.arange(3):\n",
    "  # use the indices of the margin array as a mask.\n",
    "  #wj = np.sum(X[margin[:, k] > 0], axis=0)\n",
    "    print(-incorrect_counts[y == k][:, np.newaxis] * x[y == k])\n",
    "    wy = np.sum(-incorrect_counts[y == k][:, np.newaxis] * x[y == k], axis=0)\n",
    "#dW[:, k] = wj + wy"
   ]
  },
  {
   "cell_type": "code",
   "execution_count": 122,
   "metadata": {},
   "outputs": [
    {
     "name": "stdout",
     "output_type": "stream",
     "text": [
      "[0 2 1]\n",
      "None\n"
     ]
    }
   ],
   "source": [
    "print(y)\n",
    "print(np.newaxis)"
   ]
  },
  {
   "cell_type": "code",
   "execution_count": 113,
   "metadata": {},
   "outputs": [
    {
     "name": "stdout",
     "output_type": "stream",
     "text": [
      "[-1]\n",
      "[-1]\n",
      "[-1]\n"
     ]
    }
   ],
   "source": [
    "for k in np.arange(3):\n",
    "    print(-incorrect_counts[y == k])"
   ]
  },
  {
   "cell_type": "code",
   "execution_count": 124,
   "metadata": {},
   "outputs": [
    {
     "data": {
      "text/plain": [
       "array([[19,  3, 17]])"
      ]
     },
     "execution_count": 124,
     "metadata": {},
     "output_type": "execute_result"
    }
   ],
   "source": [
    "k=1\n",
    "x[y==k]"
   ]
  },
  {
   "cell_type": "code",
   "execution_count": 125,
   "metadata": {
    "collapsed": true
   },
   "outputs": [],
   "source": [
    "from past.builtins import (str as oldstr, range, reduce,\n",
    "                               raw_input, xrange)"
   ]
  },
  {
   "cell_type": "code",
   "execution_count": 135,
   "metadata": {},
   "outputs": [
    {
     "name": "stdout",
     "output_type": "stream",
     "text": [
      "16\n",
      "13\n",
      "2\n"
     ]
    }
   ],
   "source": [
    "for i,c in enumerate(y):\n",
    "    print(score[i,c])"
   ]
  },
  {
   "cell_type": "code",
   "execution_count": 138,
   "metadata": {},
   "outputs": [
    {
     "name": "stdout",
     "output_type": "stream",
     "text": [
      "3\n"
     ]
    }
   ],
   "source": [
    "\n",
    "num_train=x.shape[0]\n",
    "print(num_train)"
   ]
  },
  {
   "cell_type": "code",
   "execution_count": 139,
   "metadata": {},
   "outputs": [
    {
     "name": "stdout",
     "output_type": "stream",
     "text": [
      "[16 13  2]\n"
     ]
    }
   ],
   "source": [
    "\n",
    "correct_class_score=score[np.arange(num_train),y]\n",
    "print(correct_class_score)"
   ]
  },
  {
   "cell_type": "code",
   "execution_count": 141,
   "metadata": {},
   "outputs": [
    {
     "data": {
      "text/plain": [
       "array([[16, 15, 19],\n",
       "       [12,  0, 13],\n",
       "       [ 1,  2,  6]])"
      ]
     },
     "execution_count": 141,
     "metadata": {},
     "output_type": "execute_result"
    }
   ],
   "source": [
    "score"
   ]
  },
  {
   "cell_type": "code",
   "execution_count": 142,
   "metadata": {},
   "outputs": [
    {
     "data": {
      "text/plain": [
       "array([0, 2, 1])"
      ]
     },
     "execution_count": 142,
     "metadata": {},
     "output_type": "execute_result"
    }
   ],
   "source": [
    "y"
   ]
  },
  {
   "cell_type": "code",
   "execution_count": 144,
   "metadata": {},
   "outputs": [],
   "source": [
    "x=np.random.choice(20,(4,3),replace=False)"
   ]
  },
  {
   "cell_type": "code",
   "execution_count": 145,
   "metadata": {},
   "outputs": [
    {
     "data": {
      "text/plain": [
       "array([[ 8,  4,  9],\n",
       "       [14,  2, 15],\n",
       "       [ 7,  0, 10],\n",
       "       [17,  3,  5]])"
      ]
     },
     "execution_count": 145,
     "metadata": {},
     "output_type": "execute_result"
    }
   ],
   "source": [
    "x"
   ]
  },
  {
   "cell_type": "code",
   "execution_count": 149,
   "metadata": {},
   "outputs": [],
   "source": [
    "w=np.random.randn(3,3)"
   ]
  },
  {
   "cell_type": "code",
   "execution_count": 150,
   "metadata": {},
   "outputs": [
    {
     "data": {
      "text/plain": [
       "array([[ 0.98314521,  1.09536598,  0.2666333 ],\n",
       "       [ 0.85884712,  0.51410118,  0.68610945],\n",
       "       [ 0.96969174, -0.30126681, -0.22065938]])"
      ]
     },
     "execution_count": 150,
     "metadata": {},
     "output_type": "execute_result"
    }
   ],
   "source": [
    "w"
   ]
  },
  {
   "cell_type": "code",
   "execution_count": 151,
   "metadata": {
    "collapsed": true
   },
   "outputs": [],
   "source": [
    "score=x.dot(w)"
   ]
  },
  {
   "cell_type": "code",
   "execution_count": 152,
   "metadata": {},
   "outputs": [
    {
     "data": {
      "text/plain": [
       "array([[ 20.02777579,   8.10793127,   2.89156983],\n",
       "       [ 30.02710325,  11.84432392,   1.79519447],\n",
       "       [ 16.57893385,   4.65489376,  -0.34016065],\n",
       "       [ 24.13846864,  18.65719109,   5.48779759]])"
      ]
     },
     "execution_count": 152,
     "metadata": {},
     "output_type": "execute_result"
    }
   ],
   "source": [
    "score"
   ]
  },
  {
   "cell_type": "code",
   "execution_count": 161,
   "metadata": {},
   "outputs": [
    {
     "name": "stdout",
     "output_type": "stream",
     "text": [
      "[2 0 1 2]\n"
     ]
    }
   ],
   "source": [
    "y=np.random.choice(3,(4,))\n",
    "print(y)\n",
    "correct_class_score=score[np.arange(4),y]"
   ]
  },
  {
   "cell_type": "code",
   "execution_count": 163,
   "metadata": {},
   "outputs": [
    {
     "name": "stdout",
     "output_type": "stream",
     "text": [
      "[  2.89156983  30.02710325   4.65489376   5.48779759]\n"
     ]
    }
   ],
   "source": [
    "print(correct_class_score)"
   ]
  },
  {
   "cell_type": "code",
   "execution_count": 164,
   "metadata": {
    "collapsed": true
   },
   "outputs": [],
   "source": [
    "margin=(score.T-correct_class_score+1).T"
   ]
  },
  {
   "cell_type": "code",
   "execution_count": 165,
   "metadata": {},
   "outputs": [
    {
     "data": {
      "text/plain": [
       "array([[ 18.13620597,   6.21636144,   1.        ],\n",
       "       [  1.        , -17.18277933, -27.23190877],\n",
       "       [ 12.92404008,   1.        ,  -3.99505442],\n",
       "       [ 19.65067105,  14.1693935 ,   1.        ]])"
      ]
     },
     "execution_count": 165,
     "metadata": {},
     "output_type": "execute_result"
    }
   ],
   "source": [
    "margin"
   ]
  },
  {
   "cell_type": "code",
   "execution_count": 172,
   "metadata": {},
   "outputs": [
    {
     "name": "stdout",
     "output_type": "stream",
     "text": [
      "[[ 1.  1.  1.]\n",
      " [ 1.  0.  0.]\n",
      " [ 1.  1.  0.]\n",
      " [ 1.  1.  1.]]\n",
      "[[ 1.  1.  0.]\n",
      " [ 0.  0.  0.]\n",
      " [ 1.  0.  0.]\n",
      " [ 1.  1.  0.]]\n"
     ]
    }
   ],
   "source": [
    "binary=np.zeros(margin.shape)\n",
    "binary[margin>0]=1\n",
    "print(binary)\n",
    "binary[np.arange(4),y]=0\n",
    "print(binary)"
   ]
  },
  {
   "cell_type": "code",
   "execution_count": 176,
   "metadata": {},
   "outputs": [
    {
     "name": "stdout",
     "output_type": "stream",
     "text": [
      "[[ 18.13620597   6.21636144   0.        ]\n",
      " [  0.          -0.          -0.        ]\n",
      " [ 12.92404008   0.          -0.        ]\n",
      " [ 19.65067105  14.1693935    0.        ]]\n"
     ]
    },
    {
     "data": {
      "text/plain": [
       "array([ 24.35256741,   0.        ,  12.92404008,  33.82006455])"
      ]
     },
     "execution_count": 176,
     "metadata": {},
     "output_type": "execute_result"
    }
   ],
   "source": [
    "print(np.multiply(margin, binary))\n",
    "np.sum(np.multiply(margin, binary),axis=1)\n"
   ]
  },
  {
   "cell_type": "code",
   "execution_count": 177,
   "metadata": {
    "collapsed": true
   },
   "outputs": [],
   "source": [
    "loss=np.mean(np.sum(np.multiply(margin, binary),axis=1))"
   ]
  },
  {
   "cell_type": "code",
   "execution_count": 178,
   "metadata": {},
   "outputs": [
    {
     "data": {
      "text/plain": [
       "17.774168009820816"
      ]
     },
     "execution_count": 178,
     "metadata": {},
     "output_type": "execute_result"
    }
   ],
   "source": [
    "loss"
   ]
  },
  {
   "cell_type": "code",
   "execution_count": 179,
   "metadata": {
    "collapsed": true
   },
   "outputs": [],
   "source": [
    "row_sum = np.sum(binary, axis=1)"
   ]
  },
  {
   "cell_type": "code",
   "execution_count": 180,
   "metadata": {},
   "outputs": [
    {
     "name": "stdout",
     "output_type": "stream",
     "text": [
      "[ 2.  0.  1.  2.]\n"
     ]
    }
   ],
   "source": [
    "print(row_sum)"
   ]
  },
  {
   "cell_type": "code",
   "execution_count": 184,
   "metadata": {},
   "outputs": [],
   "source": [
    "binary[np.arange(4),y]=-row_sum"
   ]
  },
  {
   "cell_type": "code",
   "execution_count": 185,
   "metadata": {},
   "outputs": [
    {
     "data": {
      "text/plain": [
       "array([[ 1.,  1., -2.],\n",
       "       [-0.,  0.,  0.],\n",
       "       [ 1., -1.,  0.],\n",
       "       [ 1.,  1., -2.]])"
      ]
     },
     "execution_count": 185,
     "metadata": {},
     "output_type": "execute_result"
    }
   ],
   "source": [
    "binary"
   ]
  },
  {
   "cell_type": "code",
   "execution_count": 186,
   "metadata": {},
   "outputs": [
    {
     "data": {
      "text/plain": [
       "array([[ 32.,  18., -50.],\n",
       "       [  7.,   7., -14.],\n",
       "       [ 24.,   4., -28.]])"
      ]
     },
     "execution_count": 186,
     "metadata": {},
     "output_type": "execute_result"
    }
   ],
   "source": [
    "x.T.dot(binary)"
   ]
  },
  {
   "cell_type": "code",
   "execution_count": 187,
   "metadata": {},
   "outputs": [
    {
     "data": {
      "text/plain": [
       "array([[ 8,  4,  9],\n",
       "       [14,  2, 15],\n",
       "       [ 7,  0, 10],\n",
       "       [17,  3,  5]])"
      ]
     },
     "execution_count": 187,
     "metadata": {},
     "output_type": "execute_result"
    }
   ],
   "source": [
    "x\n"
   ]
  },
  {
   "cell_type": "code",
   "execution_count": 188,
   "metadata": {},
   "outputs": [
    {
     "ename": "NameError",
     "evalue": "name 'W' is not defined",
     "output_type": "error",
     "traceback": [
      "\u001b[0;31m---------------------------------------------------------------------------\u001b[0m",
      "\u001b[0;31mNameError\u001b[0m                                 Traceback (most recent call last)",
      "\u001b[0;32m<ipython-input-188-f14e837db317>\u001b[0m in \u001b[0;36m<module>\u001b[0;34m()\u001b[0m\n\u001b[0;32m----> 1\u001b[0;31m \u001b[0mW\u001b[0m\u001b[0;34m\u001b[0m\u001b[0m\n\u001b[0m",
      "\u001b[0;31mNameError\u001b[0m: name 'W' is not defined"
     ]
    }
   ],
   "source": [
    "W\n"
   ]
  },
  {
   "cell_type": "code",
   "execution_count": 189,
   "metadata": {},
   "outputs": [
    {
     "data": {
      "text/plain": [
       "array([[ 0.98314521,  1.09536598,  0.2666333 ],\n",
       "       [ 0.85884712,  0.51410118,  0.68610945],\n",
       "       [ 0.96969174, -0.30126681, -0.22065938]])"
      ]
     },
     "execution_count": 189,
     "metadata": {},
     "output_type": "execute_result"
    }
   ],
   "source": [
    "w"
   ]
  },
  {
   "cell_type": "code",
   "execution_count": 196,
   "metadata": {},
   "outputs": [
    {
     "data": {
      "text/plain": [
       "array([[ 20.02777579,   8.10793127,   2.89156983],\n",
       "       [ 30.02710325,  11.84432392,   1.79519447],\n",
       "       [ 16.57893385,   4.65489376,  -0.34016065],\n",
       "       [ 24.13846864,  18.65719109,   5.48779759]])"
      ]
     },
     "execution_count": 196,
     "metadata": {},
     "output_type": "execute_result"
    }
   ],
   "source": [
    "scores=x.dot(w)\n",
    "scores"
   ]
  },
  {
   "cell_type": "code",
   "execution_count": 197,
   "metadata": {},
   "outputs": [
    {
     "data": {
      "text/plain": [
       "array([[  0.        , -11.91984453, -17.13620597],\n",
       "       [  0.        , -18.18277933, -28.23190877],\n",
       "       [  0.        , -11.92404008, -16.9190945 ],\n",
       "       [  0.        ,  -5.48127755, -18.65067105]])"
      ]
     },
     "execution_count": 197,
     "metadata": {},
     "output_type": "execute_result"
    }
   ],
   "source": [
    "(scores.T-np.max(scores,axis=1)).T"
   ]
  },
  {
   "cell_type": "code",
   "execution_count": 198,
   "metadata": {},
   "outputs": [
    {
     "data": {
      "text/plain": [
       "array([[  0.        , -11.91984453, -17.13620597],\n",
       "       [  0.        , -18.18277933, -28.23190877],\n",
       "       [  0.        , -11.92404008, -16.9190945 ],\n",
       "       [  0.        ,  -5.48127755, -18.65067105]])"
      ]
     },
     "execution_count": 198,
     "metadata": {},
     "output_type": "execute_result"
    }
   ],
   "source": [
    "scores-np.max(scores,axis=1,keepdims=True)"
   ]
  },
  {
   "cell_type": "code",
   "execution_count": 199,
   "metadata": {},
   "outputs": [
    {
     "data": {
      "text/plain": [
       "array([[ 20.02777579],\n",
       "       [ 30.02710325],\n",
       "       [ 16.57893385],\n",
       "       [ 24.13846864]])"
      ]
     },
     "execution_count": 199,
     "metadata": {},
     "output_type": "execute_result"
    }
   ],
   "source": [
    "np.max(scores,axis=1,keepdims=True)"
   ]
  },
  {
   "cell_type": "code",
   "execution_count": 200,
   "metadata": {},
   "outputs": [
    {
     "data": {
      "text/plain": [
       "(4, 1)"
      ]
     },
     "execution_count": 200,
     "metadata": {},
     "output_type": "execute_result"
    }
   ],
   "source": [
    "np.max(scores,axis=1,keepdims=True).shape"
   ]
  },
  {
   "cell_type": "code",
   "execution_count": 201,
   "metadata": {
    "collapsed": true
   },
   "outputs": [],
   "source": [
    "scores-=np.max(scores,axis=1,keepdims=True)"
   ]
  },
  {
   "cell_type": "code",
   "execution_count": 202,
   "metadata": {},
   "outputs": [
    {
     "data": {
      "text/plain": [
       "array([[  0.        , -11.91984453, -17.13620597],\n",
       "       [  0.        , -18.18277933, -28.23190877],\n",
       "       [  0.        , -11.92404008, -16.9190945 ],\n",
       "       [  0.        ,  -5.48127755, -18.65067105]])"
      ]
     },
     "execution_count": 202,
     "metadata": {},
     "output_type": "execute_result"
    }
   ],
   "source": [
    "scores\n"
   ]
  },
  {
   "cell_type": "code",
   "execution_count": 207,
   "metadata": {},
   "outputs": [],
   "source": [
    "p=np.exp(scores)/np.sum(np.exp(scores),axis=1,keepdims=True)"
   ]
  },
  {
   "cell_type": "code",
   "execution_count": 208,
   "metadata": {},
   "outputs": [
    {
     "data": {
      "text/plain": [
       "array([ 1.,  1.,  1.,  1.])"
      ]
     },
     "execution_count": 208,
     "metadata": {},
     "output_type": "execute_result"
    }
   ],
   "source": [
    "np.sum(p,axis=1)"
   ]
  },
  {
   "cell_type": "code",
   "execution_count": 209,
   "metadata": {
    "collapsed": true
   },
   "outputs": [],
   "source": [
    "corect_logprobs = -np.log(p[range(4),y])"
   ]
  },
  {
   "cell_type": "code",
   "execution_count": 211,
   "metadata": {},
   "outputs": [
    {
     "data": {
      "text/plain": [
       "11.928771462465473"
      ]
     },
     "execution_count": 211,
     "metadata": {},
     "output_type": "execute_result"
    }
   ],
   "source": [
    "np.sum(corect_logprobs)/4"
   ]
  },
  {
   "cell_type": "code",
   "execution_count": 214,
   "metadata": {},
   "outputs": [
    {
     "data": {
      "text/plain": [
       "4.7899133312392417"
      ]
     },
     "execution_count": 214,
     "metadata": {},
     "output_type": "execute_result"
    }
   ],
   "source": [
    "np.sum(w**2)"
   ]
  },
  {
   "cell_type": "code",
   "execution_count": 228,
   "metadata": {
    "collapsed": true
   },
   "outputs": [],
   "source": [
    "def test_1(X,y,reg,W):\n",
    "  loss = 0.0\n",
    "  dW = np.zeros_like(W)\n",
    "  num_class = dW.shape[1]\n",
    "  num_train = X.shape[0]\n",
    "  for i in xrange(num_train):\n",
    "    s=X[i].dot(W)\n",
    "    s-=np.max(s)\n",
    "    exp_s=np.exp(s)\n",
    "    total=np.sum(exp_s)\n",
    "    for j in xrange(num_class):\n",
    "      if j==y[i]:\n",
    "        dW[:,j]+= +X[i]*(exp_s[j]/total)-X[i]\n",
    "      else:\n",
    "        dW[:,j]+=X[i]*(exp_s[j]/total)  \n",
    "    \n",
    "    loss+=-np.log(exp_s[y[i]]/total)\n",
    "  loss=loss/num_train + 0.5*reg*np.sum(W*W)\n",
    "  dW=dW/num_train + reg*W\n",
    "  return loss,dW  "
   ]
  },
  {
   "cell_type": "code",
   "execution_count": 221,
   "metadata": {},
   "outputs": [],
   "source": [
    "def test_2(X,y,reg,W):\n",
    "  loss = 0.0\n",
    "  dW = np.zeros_like(W)\n",
    "  num_class = dW.shape[1]\n",
    "  num_train = X.shape[0]\n",
    "  for i in xrange(num_train):\n",
    "    X_i =  X[i]\n",
    "    score_i = X_i.dot(W)\n",
    "    stability = -score_i.max()\n",
    "    exp_score_i = np.exp(score_i+stability)\n",
    "    exp_score_total_i = np.sum(exp_score_i , axis = 0)\n",
    "    for j in xrange(num_class):\n",
    "      if j == y[i]:\n",
    "        dW[:,j] += -X_i.T + (exp_score_i[j] / exp_score_total_i) * X_i.T\n",
    "      else:\n",
    "        dW[:,j] += (exp_score_i[j] / exp_score_total_i) * X_i.T\n",
    "    numerator = np.exp(score_i[y[i]]+stability)\n",
    "    denom = np.sum(np.exp(score_i+stability),axis = 0)\n",
    "    loss += -np.log(numerator / float(denom))\n",
    "\n",
    "\n",
    "  loss = loss / float(num_train) + 0.5 * reg * np.sum(W*W)\n",
    "  dW = dW / float(num_train) + reg * W    \n",
    "  return loss, dW  "
   ]
  },
  {
   "cell_type": "code",
   "execution_count": 229,
   "metadata": {},
   "outputs": [
    {
     "data": {
      "text/plain": [
       "(13.126249795275283, array([[ 8.47392391,  2.31530839,  6.38331662],\n",
       "        [ 2.17630681,  0.26016731,  2.09305468],\n",
       "        [ 6.47963074,  2.35454847,  3.38967033]]))"
      ]
     },
     "execution_count": 229,
     "metadata": {},
     "output_type": "execute_result"
    }
   ],
   "source": [
    "test_1(x,y,0.5,w)"
   ]
  },
  {
   "cell_type": "code",
   "execution_count": 223,
   "metadata": {},
   "outputs": [
    {
     "data": {
      "text/plain": [
       "(13.126249795275283, array([[ 8.47392382, -1.18466841, -6.11668316],\n",
       "        [ 2.1763068 ,  0.26016731, -1.40694523],\n",
       "        [ 6.47963064, -2.64541838, -3.61032948]]))"
      ]
     },
     "execution_count": 223,
     "metadata": {},
     "output_type": "execute_result"
    }
   ],
   "source": [
    "test_2(x,y,0.5,w)"
   ]
  },
  {
   "cell_type": "code",
   "execution_count": null,
   "metadata": {
    "collapsed": true
   },
   "outputs": [],
   "source": []
  }
 ],
 "metadata": {
  "kernelspec": {
   "display_name": "Python 3",
   "language": "python",
   "name": "python3"
  },
  "language_info": {
   "codemirror_mode": {
    "name": "ipython",
    "version": 3
   },
   "file_extension": ".py",
   "mimetype": "text/x-python",
   "name": "python",
   "nbconvert_exporter": "python",
   "pygments_lexer": "ipython3",
   "version": "3.6.1"
  }
 },
 "nbformat": 4,
 "nbformat_minor": 2
}
